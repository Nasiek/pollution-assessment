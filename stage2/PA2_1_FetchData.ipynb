{
 "cells": [
  {
   "cell_type": "markdown",
   "id": "6244f984",
   "metadata": {
    "tags": []
   },
   "source": [
    "DRWI Pollution Assessment Stage 2  \n",
    "Notebook 1: Fecth Data\n",
    "===\n",
    "\n",
    "This first notebook fetches and prepares all the input data and modeling necessary for the Stage 2 Assessment."
   ]
  },
  {
   "cell_type": "markdown",
   "id": "c1d094d8",
   "metadata": {},
   "source": [
    "# Installation and Setup\n",
    "\n",
    "Carefully follow our **[Installation Instructions](README.md#get-started)**, especially including:\n",
    "- Creating a virtual environment for this repository (step 3)"
   ]
  },
  {
   "cell_type": "markdown",
   "id": "b30b2a24",
   "metadata": {},
   "source": [
    "## Import Python Dependencies"
   ]
  },
  {
   "cell_type": "code",
   "execution_count": 1,
   "id": "45a593b9",
   "metadata": {},
   "outputs": [],
   "source": [
    "from pathlib import Path\n",
    "\n",
    "import numpy     as np\n",
    "import pandas    as pd\n",
    "import geopandas as gpd\n",
    "\n",
    "# packages for data requests\n",
    "import requests\n",
    "from requests.auth import HTTPBasicAuth\n",
    "import json"
   ]
  },
  {
   "cell_type": "code",
   "execution_count": 2,
   "id": "8b6317d0",
   "metadata": {},
   "outputs": [
    {
     "name": "stdout",
     "output_type": "stream",
     "text": [
      "Geopandas:  0.10.2\n"
     ]
    }
   ],
   "source": [
    "print(\"Geopandas: \", gpd.__version__)\n",
    "# print(\"spatialpandas: \", spd.__version__)\n",
    "# print(\"datashader: \", ds.__version__)\n",
    "# print(\"pygeos: \", pygeos.__version__)"
   ]
  },
  {
   "cell_type": "markdown",
   "id": "d139bc57",
   "metadata": {},
   "source": [
    "## Set Paths to Input and Output Files with `pathlib`\n",
    "\n",
    "Use the [pathlib](https://docs.python.org/3/library/pathlib.html) library (built-in to Python 3) to manage paths indpendentely of OS or environment.\n",
    "\n",
    "This blog post describes `pathlib`'s benefits relative to using the `os` library or manual approaches.\n",
    "- https://medium.com/@ageitgey/python-3-quick-tip-the-easy-way-to-deal-with-file-paths-on-windows-mac-and-linux-11a072b58d5f"
   ]
  },
  {
   "cell_type": "code",
   "execution_count": 3,
   "id": "19ea02c8",
   "metadata": {},
   "outputs": [
    {
     "data": {
      "text/plain": [
       "PosixPath('/Users/aaufdenkampe/Documents/Python/pollution-assessment/stage2')"
      ]
     },
     "execution_count": 3,
     "metadata": {},
     "output_type": "execute_result"
    }
   ],
   "source": [
    "# Find your current working directory, which should be folder for this notebook.\n",
    "Path.cwd()"
   ]
  },
  {
   "cell_type": "code",
   "execution_count": 13,
   "id": "27f8fd7c",
   "metadata": {},
   "outputs": [
    {
     "data": {
      "text/plain": [
       "PosixPath('/Users/aaufdenkampe/Documents/Python/pollution-assessment')"
      ]
     },
     "execution_count": 13,
     "metadata": {},
     "output_type": "execute_result"
    }
   ],
   "source": [
    "# Set your project directory to your local folder for your clone of this repository\n",
    "project_path = Path.cwd().parent\n",
    "project_path"
   ]
  },
  {
   "cell_type": "code",
   "execution_count": 14,
   "id": "4f3da955",
   "metadata": {},
   "outputs": [],
   "source": [
    "# Assign relative paths for data folders. End with a slash character, `/`.\n",
    "pa1_data_folder = Path('stage1/data/')\n",
    "pa2_mmw_folder  = Path('stage2/DRB_GWLFE/mmw_results/')"
   ]
  },
  {
   "cell_type": "markdown",
   "id": "34e9b9c2-f187-4364-b6ef-da5f5ff4de28",
   "metadata": {},
   "source": [
    "# Naming Conventions\n",
    "Info to help parse table names below:\n",
    "* `base_` indicates model baseline outputs (no conservation)\n",
    "* `rest_` indicates model with restoration reductions\n",
    "* `prot_` indicates protection projects\n",
    "* `catch` indicates catchment-level data\n",
    "* `reach` indicates reach data\n",
    "\n",
    "**Clusters** are geographic units. There are 8 included in the DRB: Poconos-Kittaninny, Upper Lehigh,  New Jersey Highlands, Middle Schuylkill, Schuylkill Highlands, Upstream Suburban Philadelphia, Brandywine-Christina, Kirkwood-Cohansey Aquifer. These priority locations include parts of pristine headwaters and working forests of the upper watershed, farmlands, suburbs, and industrial and urban centers downstream, and the coastal plain where the river and emerging groundwater empties into either the Delaware Bay or the Atlantic Coast.\n",
    "\n",
    "**Focus areas** are smaller geographic units within clusters. "
   ]
  },
  {
   "cell_type": "markdown",
   "id": "29bc78e2",
   "metadata": {
    "tags": []
   },
   "source": [
    "## Read Input Data Files\n"
   ]
  },
  {
   "cell_type": "markdown",
   "id": "9aceda1c-47e7-4506-beb5-cf82e05e4641",
   "metadata": {},
   "source": [
    "If you get an error, make sure you've navigated to the `stage2` folder. "
   ]
  },
  {
   "cell_type": "markdown",
   "id": "1097498e",
   "metadata": {},
   "source": [
    "## Read Stage 1 Files for COMIDs & Geographies\n",
    "- Background: stage1/WikiSRAT_AnalysisViz.ipynb\n",
    "- Parquet to GeoDataFrame: https://geopandas.readthedocs.io/en/latest/docs/reference/api/geopandas.read_parquet.html"
   ]
  },
  {
   "cell_type": "code",
   "execution_count": 16,
   "id": "e5f13b75",
   "metadata": {},
   "outputs": [
    {
     "name": "stdout",
     "output_type": "stream",
     "text": [
      "CPU times: user 1.21 s, sys: 143 ms, total: 1.35 s\n",
      "Wall time: 2.51 s\n"
     ]
    }
   ],
   "source": [
    "%%time\n",
    "# read data from parquet files\n",
    "base_catch_gdf = gpd.read_parquet(project_path / pa1_data_folder /'base_df_catch.parquet')\n",
    "base_reach_gdf = gpd.read_parquet(project_path / pa1_data_folder /'base_df_reach.parquet')"
   ]
  },
  {
   "cell_type": "code",
   "execution_count": 62,
   "id": "389622c8",
   "metadata": {},
   "outputs": [
    {
     "name": "stdout",
     "output_type": "stream",
     "text": [
      "<class 'geopandas.geodataframe.GeoDataFrame'>\n",
      "Int64Index: 19496 entries, 1748535 to 932040370\n",
      "Data columns (total 16 columns):\n",
      " #   Column              Non-Null Count  Dtype   \n",
      "---  ------              --------------  -----   \n",
      " 0   tp_conc             16823 non-null  float64 \n",
      " 1   tn_conc             16823 non-null  float64 \n",
      " 2   tss_conc            16823 non-null  float64 \n",
      " 3   catchment_hectares  19496 non-null  float64 \n",
      " 4   watershed_hectares  19496 non-null  float64 \n",
      " 5   maflowv             19496 non-null  float64 \n",
      " 6   geom                19494 non-null  geometry\n",
      " 7   cluster             17358 non-null  category\n",
      " 8   sub_focusarea       186 non-null    Int64   \n",
      " 9   nord                18870 non-null  Int64   \n",
      " 10  nordstop            18844 non-null  Int64   \n",
      " 11  huc12               19496 non-null  category\n",
      " 12  streamorder         19496 non-null  int64   \n",
      " 13  headwater           19496 non-null  int64   \n",
      " 14  phase               4082 non-null   category\n",
      " 15  fa_name             4082 non-null   category\n",
      "dtypes: Int64(3), category(4), float64(6), geometry(1), int64(2)\n",
      "memory usage: 2.1 MB\n"
     ]
    }
   ],
   "source": [
    "base_reach_gdf.info()"
   ]
  },
  {
   "cell_type": "markdown",
   "id": "97de0076",
   "metadata": {},
   "source": [
    "## Read MMW Results\n",
    "- CSV to Pandas: \n",
    "  - Guide: https://pandas.pydata.org/docs/user_guide/io.html#csv-text-files \n",
    "  - Ref:   https://pandas.pydata.org/docs/reference/api/pandas.read_csv.html"
   ]
  },
  {
   "cell_type": "code",
   "execution_count": 60,
   "id": "375cb9ff",
   "metadata": {},
   "outputs": [],
   "source": [
    "\n",
    "wikisrat_catchment_load_rates = pd.read_csv(project_path / pa2_mmw_folder /\n",
    "                                            'wikisrat_catchment_load_rates.csv',\n",
    "                                            index_col = 'comid',\n",
    "                                            dtype = {\n",
    "                                                'Source':'category',\n",
    "                                                'gwlfe_endpoint':'category',\n",
    "                                                'huc_run_name':'category',\n",
    "                                                'huc_run_states':'category',\n",
    "                                                'land_use_source':'category',\n",
    "                                                'closest_weather_stations':'category',\n",
    "                                                'stream_layer':'category',\n",
    "                                                'weather_source':'category',\n",
    "                                            }\n",
    "                                           )\n"
   ]
  },
  {
   "cell_type": "code",
   "execution_count": 59,
   "id": "51750a54",
   "metadata": {},
   "outputs": [
    {
     "name": "stdout",
     "output_type": "stream",
     "text": [
      "<class 'pandas.core.frame.DataFrame'>\n",
      "Int64Index: 21840 entries, 2612780 to 27081103\n",
      "Data columns (total 17 columns):\n",
      " #   Column                    Non-Null Count  Dtype   \n",
      "---  ------                    --------------  -----   \n",
      " 0   Unnamed: 0                21840 non-null  int64   \n",
      " 1   Source                    21840 non-null  category\n",
      " 2   Sediment                  21840 non-null  float64 \n",
      " 3   TotalN                    21840 non-null  float64 \n",
      " 4   TotalP                    21840 non-null  float64 \n",
      " 5   huc                       21840 non-null  int64   \n",
      " 6   gwlfe_endpoint            21840 non-null  category\n",
      " 7   huc_level                 21840 non-null  int64   \n",
      " 8   huc_run                   21840 non-null  int64   \n",
      " 9   huc_run_level             21840 non-null  int64   \n",
      " 10  huc_run_name              21840 non-null  category\n",
      " 11  huc_run_states            21840 non-null  category\n",
      " 12  huc_run_areaacres         21840 non-null  float64 \n",
      " 13  land_use_source           21840 non-null  category\n",
      " 14  closest_weather_stations  21840 non-null  category\n",
      " 15  stream_layer              21840 non-null  category\n",
      " 16  weather_source            21840 non-null  category\n",
      "dtypes: category(8), float64(4), int64(5)\n",
      "memory usage: 1.9 MB\n"
     ]
    }
   ],
   "source": [
    "wikisrat_catchment_load_rates.info()"
   ]
  },
  {
   "cell_type": "code",
   "execution_count": 38,
   "metadata": {},
   "outputs": [],
   "source": [
    "wikisrat_catchment_concs = pd.read_csv(project_path / pa2_mmw_folder /\n",
    "                                       'wikisrat_catchment_concs.csv',\n",
    "                                       index_col = 'comid',\n",
    "                                       dtype = {\n",
    "                                           'Source':'category',\n",
    "                                           'gwlfe_endpoint':'category',\n",
    "                                           'huc_run_name':'category',\n",
    "                                           'huc_run_states':'category',\n",
    "                                           'land_use_source':'category',\n",
    "                                           'closest_weather_stations':'category',\n",
    "                                           'stream_layer':'category',\n",
    "                                           'weather_source':'category',\n",
    "                                       }\n",
    "                                      )"
   ]
  },
  {
   "cell_type": "code",
   "execution_count": 39,
   "id": "8fd25a97",
   "metadata": {},
   "outputs": [
    {
     "name": "stdout",
     "output_type": "stream",
     "text": [
      "<class 'pandas.core.frame.DataFrame'>\n",
      "Int64Index: 21840 entries, 2612780 to 27081103\n",
      "Data columns (total 17 columns):\n",
      " #   Column                    Non-Null Count  Dtype   \n",
      "---  ------                    --------------  -----   \n",
      " 0   Unnamed: 0                21840 non-null  int64   \n",
      " 1   Source                    21840 non-null  category\n",
      " 2   Sediment                  15834 non-null  float64 \n",
      " 3   TotalN                    15834 non-null  float64 \n",
      " 4   TotalP                    15834 non-null  float64 \n",
      " 5   huc                       21840 non-null  int64   \n",
      " 6   gwlfe_endpoint            21840 non-null  category\n",
      " 7   huc_level                 21840 non-null  int64   \n",
      " 8   huc_run                   21840 non-null  int64   \n",
      " 9   huc_run_level             21840 non-null  int64   \n",
      " 10  huc_run_name              21840 non-null  category\n",
      " 11  huc_run_states            21840 non-null  category\n",
      " 12  huc_run_areaacres         21840 non-null  float64 \n",
      " 13  land_use_source           21840 non-null  category\n",
      " 14  closest_weather_stations  21840 non-null  category\n",
      " 15  stream_layer              21840 non-null  category\n",
      " 16  weather_source            21840 non-null  category\n",
      "dtypes: category(8), float64(4), int64(5)\n",
      "memory usage: 1.9 MB\n"
     ]
    }
   ],
   "source": [
    "wikisrat_catchment_concs.info()\n"
   ]
  },
  {
   "cell_type": "code",
   "execution_count": 47,
   "id": "67448c56",
   "metadata": {},
   "outputs": [
    {
     "data": {
      "text/plain": [
       "['NASA_NLDAS_2000_2019', 'USEPA_1960_1990']\n",
       "Categories (2, object): ['NASA_NLDAS_2000_2019', 'USEPA_1960_1990']"
      ]
     },
     "execution_count": 47,
     "metadata": {},
     "output_type": "execute_result"
    }
   ],
   "source": [
    "# Explore categoricals\n",
    "wikisrat_catchment_concs.weather_source.unique()"
   ]
  },
  {
   "cell_type": "markdown",
   "id": "f086db53",
   "metadata": {},
   "source": [
    "## Add Stage 2 data to Stage 1 dataframe"
   ]
  },
  {
   "cell_type": "code",
   "execution_count": 64,
   "id": "6fee80c2",
   "metadata": {},
   "outputs": [],
   "source": [
    "base_reach_gdf['tp_conc2'] = wikisrat_catchment_concs.TotalP\n",
    "base_reach_gdf['tn_conc2'] = wikisrat_catchment_concs.TotalN\n",
    "base_reach_gdf['tss_conc2'] = wikisrat_catchment_concs.Sediment"
   ]
  },
  {
   "cell_type": "code",
   "execution_count": 65,
   "id": "c5214dde",
   "metadata": {},
   "outputs": [
    {
     "name": "stdout",
     "output_type": "stream",
     "text": [
      "<class 'geopandas.geodataframe.GeoDataFrame'>\n",
      "Int64Index: 19496 entries, 1748535 to 932040370\n",
      "Data columns (total 17 columns):\n",
      " #   Column              Non-Null Count  Dtype   \n",
      "---  ------              --------------  -----   \n",
      " 0   tp_conc             16823 non-null  float64 \n",
      " 1   tn_conc             16823 non-null  float64 \n",
      " 2   tss_conc            16823 non-null  float64 \n",
      " 3   catchment_hectares  19496 non-null  float64 \n",
      " 4   watershed_hectares  19496 non-null  float64 \n",
      " 5   maflowv             19496 non-null  float64 \n",
      " 6   geom                19494 non-null  geometry\n",
      " 7   cluster             17358 non-null  category\n",
      " 8   sub_focusarea       186 non-null    Int64   \n",
      " 9   nord                18870 non-null  Int64   \n",
      " 10  nordstop            18844 non-null  Int64   \n",
      " 11  huc12               19496 non-null  category\n",
      " 12  streamorder         19496 non-null  int64   \n",
      " 13  headwater           19496 non-null  int64   \n",
      " 14  phase               4082 non-null   category\n",
      " 15  fa_name             4082 non-null   category\n",
      " 16  tss_conc2           14712 non-null  float64 \n",
      "dtypes: Int64(3), category(4), float64(7), geometry(1), int64(2)\n",
      "memory usage: 2.3 MB\n"
     ]
    }
   ],
   "source": [
    "base_reach_gdf.info()"
   ]
  },
  {
   "cell_type": "markdown",
   "id": "02abff2e",
   "metadata": {},
   "source": [
    "# Other stuff...."
   ]
  },
  {
   "cell_type": "code",
   "execution_count": null,
   "id": "e573f8da",
   "metadata": {},
   "outputs": [],
   "source": [
    "\n",
    "base_sourc_df = pd.read_csv(mmw_data_folder /'wikisrat_catchment_sources.csv')\n"
   ]
  },
  {
   "cell_type": "code",
   "execution_count": 5,
   "id": "05f1cca3",
   "metadata": {},
   "outputs": [
    {
     "name": "stdout",
     "output_type": "stream",
     "text": [
      "Wall time: 2.2 s\n"
     ]
    }
   ],
   "source": [
    "%%time\n",
    "# read data from parquet files\n",
    "base_catch_gdf = gpd.read_parquet(data_folder /'base_df_catch.parquet')\n",
    "base_reach_gdf = gpd.read_parquet(data_folder /'base_df_reach.parquet')\n",
    "\n",
    "rest_catch_gdf = gpd.read_parquet(data_folder /'rest_df_catch.parquet')\n",
    "rest_reach_gdf = gpd.read_parquet(data_folder /'rest_df_reach.parquet')\n",
    "\n",
    "point_src_gdf = gpd.read_parquet(data_folder /'point_source_df.parquet')\n",
    "\n",
    "proj_prot_gdf = gpd.read_parquet(data_folder /'prot_proj_df.parquet')\n",
    "proj_rest_gdf = gpd.read_parquet(data_folder /'rest_proj_df.parquet')\n",
    "\n",
    "cluster_gdf = gpd.read_parquet(data_folder /'cluster_df.parquet')   \n",
    "\n",
    "mmw_huc12_loads_df = pd.read_parquet(data_folder /'mmw_huc12_loads_df.parquet')"
   ]
  },
  {
   "cell_type": "code",
   "execution_count": 6,
   "id": "f8e2fbcc-58b5-4ffc-b4e3-d0dc959dae49",
   "metadata": {},
   "outputs": [],
   "source": [
    "focusarea_gdf = gpd.read_parquet(data_folder /'fa_phase2_df.parquet')\n",
    "focusarea_gdf.cluster = focusarea_gdf.cluster.replace('Kirkwood Cohansey Aquifer', 'Kirkwood - Cohansey Aquifer') # update name for consistency with other files \n",
    "focusarea_gdf.set_index('name', inplace=True)"
   ]
  },
  {
   "cell_type": "markdown",
   "id": "54d438e2-71b0-4eb5-b891-5c2b15a0c3f3",
   "metadata": {},
   "source": [
    "Follow this notebook with WikiSRAT_Analysis.ipynb for analysis of fetched data. "
   ]
  }
 ],
 "metadata": {
  "interpreter": {
   "hash": "be2ad55ef110ae35ba44efbbda9909011312709cc16366f2adb735c9d7f96037"
  },
  "kernelspec": {
   "display_name": "Python 3.9.13 ('drwi_pa')",
   "language": "python",
   "name": "python3"
  },
  "language_info": {
   "codemirror_mode": {
    "name": "ipython",
    "version": 3
   },
   "file_extension": ".py",
   "mimetype": "text/x-python",
   "name": "python",
   "nbconvert_exporter": "python",
   "pygments_lexer": "ipython3",
   "version": "3.9.13"
  },
  "toc-autonumbering": true
 },
 "nbformat": 4,
 "nbformat_minor": 5
}
