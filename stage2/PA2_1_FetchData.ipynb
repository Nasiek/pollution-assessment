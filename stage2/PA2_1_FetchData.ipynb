{
 "cells": [
  {
   "cell_type": "markdown",
   "id": "6244f984",
   "metadata": {
    "tags": []
   },
   "source": [
    "DRWI Pollution Assessment Stage 2  \n",
    "Notebook 1: Fecth Data\n",
    "===\n",
    "\n",
    "This first notebook fetches and prepares all the input data and modeling necessary for the Stage 2 Assessment.\n",
    "\n",
    "The general data analysis pipeline is to:\n",
    "- Run Model My Watershed (MMW) Multi-Year Model (GWLF-E)\n",
    "  -  for every HUC12 in DRWI.\n",
    "- Proccess MMW HUC12 results through [WikiSRAT microservice](https://github.com/TheAcademyofNaturalSciences/WikiSRATMicroService) API.\n",
    "  - WikiSRAT downscales HUC12 loads to NHD+v2 catchments and route pollution through the NHD+v2 stream reach network. \n",
    "  - WikiSRAT runs group MMW HUC12 results by HUC8 to properly route loads through the stream network.\n",
    "  - Stream network routing includes attenuation due to physical and biological processes within surface waters. \n",
    "  - WikiSRAT gets run multiple times to simulate:\n",
    "    - Baseline results, with no restoration or protection practices.\n",
    "    - Restoration results, which include the  "
   ]
  },
  {
   "cell_type": "markdown",
   "id": "c1d094d8",
   "metadata": {},
   "source": [
    "# Installation and Setup\n",
    "\n",
    "Carefully follow our **[Installation Instructions](README.md#get-started)**, especially including:\n",
    "- Creating a virtual environment for this repository (step 3)"
   ]
  },
  {
   "cell_type": "markdown",
   "id": "b30b2a24",
   "metadata": {},
   "source": [
    "## Import Python Dependencies"
   ]
  },
  {
   "cell_type": "code",
   "execution_count": 1,
   "id": "45a593b9",
   "metadata": {},
   "outputs": [],
   "source": [
    "from pathlib import Path\n",
    "\n",
    "import numpy     as np\n",
    "import pandas    as pd\n",
    "import geopandas as gpd\n",
    "\n",
    "# packages for data requests\n",
    "import requests\n",
    "from requests.auth import HTTPBasicAuth\n",
    "import json"
   ]
  },
  {
   "cell_type": "code",
   "execution_count": 2,
   "id": "8b6317d0",
   "metadata": {},
   "outputs": [
    {
     "name": "stdout",
     "output_type": "stream",
     "text": [
      "Geopandas:  0.10.2\n"
     ]
    }
   ],
   "source": [
    "print(\"Geopandas: \", gpd.__version__)\n",
    "# print(\"spatialpandas: \", spd.__version__)\n",
    "# print(\"datashader: \", ds.__version__)\n",
    "# print(\"pygeos: \", pygeos.__version__)"
   ]
  },
  {
   "cell_type": "code",
   "execution_count": 3,
   "id": "e95b6dee",
   "metadata": {},
   "outputs": [
    {
     "data": {
      "text/plain": [
       "['/Users/aaufdenkampe/Documents/Python/pollution-assessment/stage2',\n",
       " '/Users/aaufdenkampe/opt/anaconda3/envs/drwi_pa/lib/python39.zip',\n",
       " '/Users/aaufdenkampe/opt/anaconda3/envs/drwi_pa/lib/python3.9',\n",
       " '/Users/aaufdenkampe/opt/anaconda3/envs/drwi_pa/lib/python3.9/lib-dynload',\n",
       " '',\n",
       " '/Users/aaufdenkampe/opt/anaconda3/envs/drwi_pa/lib/python3.9/site-packages',\n",
       " '/Users/aaufdenkampe/Documents/Python/pollution-assessment/src']"
      ]
     },
     "execution_count": 3,
     "metadata": {},
     "output_type": "execute_result"
    }
   ],
   "source": [
    "sys.path"
   ]
  },
  {
   "cell_type": "code",
   "execution_count": 4,
   "id": "d894cfe9",
   "metadata": {},
   "outputs": [
    {
     "name": "stdout",
     "output_type": "stream",
     "text": [
      "path exists, skipping /Users/aaufdenkampe/Documents/Python/pollution-assessment/src\n",
      "completed operation for: /Users/aaufdenkampe/Documents/Python/pollution-assessment/src\n"
     ]
    }
   ],
   "source": [
    "!conda-develop /Users/aaufdenkampe/Documents/Python/pollution-assessment/src"
   ]
  },
  {
   "cell_type": "code",
   "execution_count": 5,
   "id": "c4808fb8",
   "metadata": {},
   "outputs": [
    {
     "data": {
      "text/plain": [
       "['__builtins__',\n",
       " '__cached__',\n",
       " '__doc__',\n",
       " '__file__',\n",
       " '__loader__',\n",
       " '__name__',\n",
       " '__package__',\n",
       " '__path__',\n",
       " '__spec__',\n",
       " 'plot']"
      ]
     },
     "execution_count": 5,
     "metadata": {},
     "output_type": "execute_result"
    }
   ],
   "source": [
    "# Custom functions for Pollution Assessment\n",
    "import pollution_assessment as pa\n",
    "import pollution_assessment.plot\n",
    "# Confirm that the `pa.plot` sub-module is imported\n",
    "dir(pa)"
   ]
  },
  {
   "cell_type": "code",
   "execution_count": 6,
   "id": "bb8e05ad",
   "metadata": {},
   "outputs": [
    {
     "data": {
      "text/plain": [
       "['__builtins__',\n",
       " '__cached__',\n",
       " '__doc__',\n",
       " '__file__',\n",
       " '__loader__',\n",
       " '__name__',\n",
       " '__package__',\n",
       " '__path__',\n",
       " '__spec__',\n",
       " 'plot']"
      ]
     },
     "execution_count": 6,
     "metadata": {},
     "output_type": "execute_result"
    }
   ],
   "source": []
  },
  {
   "cell_type": "markdown",
   "id": "d139bc57",
   "metadata": {},
   "source": [
    "## Set Paths to Input and Output Files with `pathlib`\n",
    "\n",
    "Use the [pathlib](https://docs.python.org/3/library/pathlib.html) library (built-in to Python 3) to manage paths indpendentely of OS or environment.\n",
    "\n",
    "This blog post describes `pathlib`'s benefits relative to using the `os` library or manual approaches.\n",
    "- https://medium.com/@ageitgey/python-3-quick-tip-the-easy-way-to-deal-with-file-paths-on-windows-mac-and-linux-11a072b58d5f"
   ]
  },
  {
   "cell_type": "code",
   "execution_count": 6,
   "id": "19ea02c8",
   "metadata": {},
   "outputs": [
    {
     "data": {
      "text/plain": [
       "PosixPath('/Users/aaufdenkampe/Documents/Python/pollution-assessment/stage2')"
      ]
     },
     "execution_count": 6,
     "metadata": {},
     "output_type": "execute_result"
    }
   ],
   "source": [
    "# Find your current working directory, which should be folder for this notebook.\n",
    "Path.cwd()"
   ]
  },
  {
   "cell_type": "code",
   "execution_count": 7,
   "id": "27f8fd7c",
   "metadata": {},
   "outputs": [
    {
     "data": {
      "text/plain": [
       "PosixPath('/Users/aaufdenkampe/Documents/Python/pollution-assessment')"
      ]
     },
     "execution_count": 7,
     "metadata": {},
     "output_type": "execute_result"
    }
   ],
   "source": [
    "# Set your project directory to your local folder for your clone of this repository\n",
    "project_path = Path.cwd().parent\n",
    "project_path"
   ]
  },
  {
   "cell_type": "code",
   "execution_count": 8,
   "id": "4f3da955",
   "metadata": {},
   "outputs": [],
   "source": [
    "# Assign relative paths for data folders. End with a slash character, `/`.\n",
    "pa1_data_folder = Path('stage1/data/')\n",
    "pa2_mmw_folder  = Path('stage2/DRB_GWLFE/mmw_results/')\n",
    "pa2_mmw_rest_folder = Path('stage2/Restoration/')"
   ]
  },
  {
   "cell_type": "markdown",
   "metadata": {},
   "source": [
    "# PA2 Names & Units"
   ]
  },
  {
   "cell_type": "markdown",
   "id": "34e9b9c2-f187-4364-b6ef-da5f5ff4de28",
   "metadata": {},
   "source": [
    "## PA2 File Naming Conventions\n",
    "NOTE: For Stage 2 we changed naming slightly from Stage 1, to better facilitate building various options.\n",
    "\n",
    "Level 1 names, scale:\n",
    "* `catch` indicates catchment-level data, for the local catchment only\n",
    "* `reach` indicates reach-level data, which includes all upstream contributions\n",
    "\n",
    "Level 2 names, model:\n",
    "* `_base` indicates model baseline outputs (no conservation)\n",
    "* `_rest` indicates model with restoration reductions\n",
    "* `_prot` indicates model with protection projects, avoided loads\n",
    "\n",
    "**Clusters** are geographic priority areas, which include parts of pristine headwaters and working forests of the upper watershed, farmlands, suburbs, and industrial and urban centers downstream, and the coastal plain where the river and emerging groundwater empties into either the Delaware Bay or the Atlantic Coast.\n",
    "\n",
    "There are 8 included in the DRB:\n",
    "- Poconos-Kittaninny, \n",
    "- Upper Lehigh,  \n",
    "- New Jersey Highlands, \n",
    "- Middle Schuylkill, \n",
    "- Schuylkill Highlands, \n",
    "- Upstream Suburban Philadelphia, \n",
    "- Brandywine-Christina, \n",
    "- Kirkwood-Cohansey Aquifer. \n",
    "\n",
    "**Focus areas** are smaller geographic units within clusters. "
   ]
  },
  {
   "cell_type": "markdown",
   "id": "c482430c",
   "metadata": {},
   "source": [
    "\n",
    "## Correct WikiSRAT Name for Load\n",
    "\n",
    "The [WikiSRAT microservice](https://github.com/TheAcademyofNaturalSciences/WikiSRATMicroService) output gives `tploadrate_total`, etc., which Sarah D. saved to the `catchment_load_rates.csv` file.\n",
    "\n",
    "This is a mistake, and it actually is the **local** NHDplus **catchment annual load (kg/ha)**. \n",
    "\n",
    "Mike suspected this error and we confirmed it during Stage 1 by comparing to Model My Watershed subbasin modeling output for specific COMIDs.\n",
    "\n",
    "Upstream loads are not returned from WikiSRAT, although they are calculated internally to generate average annual stream reach concentrations.\n",
    "Upstream loads can therfore be calculated by dividing average anual concentrations (mg/L) by mean annual flow (cfs) to get (kg/y) (after including some unit conversions).\n",
    "\n",
    "## Units for Loads & Concs\n",
    "\n",
    "Loads are in kg/y.  \n",
    "Concentrations are in mg/L.\n",
    "\n",
    "From Mike:\n",
    "- `Loadrate_total_ws` was my attempt to get the loadrate totals to kg per hectare\n",
    "  - Fails if mean annual flow (`maflowv` (CFS)) doesn’t exist (-9999).\n",
    "  - `loadrate_total_ws  = ((loadate_conc * 28.3168 * 31557600 / 1000000) * maflowv) / watershed_hectares`\n",
    "    - `31557600 = 365.25 * 24 * 60 * 60`\n",
    "    - 28.3168 liters in a cubic foot\n",
    "    - 1000000 mg in kg\n",
    "\n",
    "From: https://www.fws.gov/r5gomp/gom/nhd-gom/NHDPLUS_UserGuide.pdf\n",
    "> MAFlowV: Mean Annual Flow (cfs) at bottom of flowline as computed by Vogel Method\n",
    "\n",
    "### Unit tracking opitons for future\n",
    "Presently, we are not keeping track of metadata on units for data series because Pandas does not readily support it. There are approaches that we could implement in the future.\n",
    "\n",
    "Options for the future:\n",
    "- https://stackoverflow.com/questions/14688306/adding-meta-information-metadata-to-pandas-dataframe\n",
    "- https://pandas.pydata.org/docs/reference/api/pandas.Series.attrs.html\n",
    "- https://stackoverflow.com/questions/39419178/how-can-i-manage-units-in-pandas-data\n",
    "- https://github.com/hgrecco/pint\n",
    "- https://towardsdatascience.com/add-metadata-to-your-dataset-using-apache-parquet-75360d2073bd"
   ]
  },
  {
   "cell_type": "markdown",
   "id": "1097498e",
   "metadata": {},
   "source": [
    "# Create Catch & Reach Files for COMIDs & Geographies\n",
    "Read Stage 1 dataframes to get the COMIDs & geometries for NHD+v2 catchments and reaches, as a foundation for all Stage 2 work\n",
    "\n",
    "- Background: stage1/WikiSRAT_AnalysisViz.ipynb\n",
    "- Parquet to GeoDataFrame: https://geopandas.readthedocs.io/en/latest/docs/reference/api/geopandas.read_parquet.html"
   ]
  },
  {
   "cell_type": "code",
   "execution_count": 9,
   "id": "e5f13b75",
   "metadata": {},
   "outputs": [
    {
     "name": "stdout",
     "output_type": "stream",
     "text": [
      "CPU times: user 1.36 s, sys: 174 ms, total: 1.53 s\n",
      "Wall time: 1.58 s\n"
     ]
    }
   ],
   "source": [
    "%%time\n",
    "# read data from parquet files\n",
    "catch_base_gdf = gpd.read_parquet(project_path / pa1_data_folder /'base_df_catch.parquet')\n",
    "reach_base_gdf = gpd.read_parquet(project_path / pa1_data_folder /'base_df_reach.parquet')"
   ]
  },
  {
   "cell_type": "code",
   "execution_count": 10,
   "id": "d921eb2d",
   "metadata": {},
   "outputs": [
    {
     "name": "stdout",
     "output_type": "stream",
     "text": [
      "<class 'geopandas.geodataframe.GeoDataFrame'>\n",
      "Int64Index: 19496 entries, 1748535 to 932040370\n",
      "Data columns (total 19 columns):\n",
      " #   Column              Non-Null Count  Dtype   \n",
      "---  ------              --------------  -----   \n",
      " 0   tp_load             19496 non-null  float64 \n",
      " 1   tn_load             19496 non-null  float64 \n",
      " 2   tss_load            19496 non-null  float64 \n",
      " 3   catchment_hectares  19496 non-null  float64 \n",
      " 4   watershed_hectares  19496 non-null  float64 \n",
      " 5   tp_loadrate_ws      19496 non-null  float64 \n",
      " 6   tn_loadrate_ws      19496 non-null  float64 \n",
      " 7   tss_loadrate_ws     19496 non-null  float64 \n",
      " 8   maflowv             19496 non-null  float64 \n",
      " 9   geom_catchment      19496 non-null  geometry\n",
      " 10  cluster             17358 non-null  category\n",
      " 11  sub_focusarea       186 non-null    Int64   \n",
      " 12  nord                18870 non-null  Int64   \n",
      " 13  nordstop            18844 non-null  Int64   \n",
      " 14  huc12               19496 non-null  category\n",
      " 15  streamorder         19496 non-null  int64   \n",
      " 16  headwater           19496 non-null  int64   \n",
      " 17  phase               4082 non-null   category\n",
      " 18  fa_name             4082 non-null   category\n",
      "dtypes: Int64(3), category(4), float64(9), geometry(1), int64(2)\n",
      "memory usage: 2.6 MB\n"
     ]
    }
   ],
   "source": [
    "catch_base_gdf.info()"
   ]
  },
  {
   "cell_type": "code",
   "execution_count": 11,
   "id": "389622c8",
   "metadata": {},
   "outputs": [
    {
     "name": "stdout",
     "output_type": "stream",
     "text": [
      "<class 'geopandas.geodataframe.GeoDataFrame'>\n",
      "Int64Index: 19496 entries, 1748535 to 932040370\n",
      "Data columns (total 16 columns):\n",
      " #   Column              Non-Null Count  Dtype   \n",
      "---  ------              --------------  -----   \n",
      " 0   tp_conc             16823 non-null  float64 \n",
      " 1   tn_conc             16823 non-null  float64 \n",
      " 2   tss_conc            16823 non-null  float64 \n",
      " 3   catchment_hectares  19496 non-null  float64 \n",
      " 4   watershed_hectares  19496 non-null  float64 \n",
      " 5   maflowv             19496 non-null  float64 \n",
      " 6   geom                19494 non-null  geometry\n",
      " 7   cluster             17358 non-null  category\n",
      " 8   sub_focusarea       186 non-null    Int64   \n",
      " 9   nord                18870 non-null  Int64   \n",
      " 10  nordstop            18844 non-null  Int64   \n",
      " 11  huc12               19496 non-null  category\n",
      " 12  streamorder         19496 non-null  int64   \n",
      " 13  headwater           19496 non-null  int64   \n",
      " 14  phase               4082 non-null   category\n",
      " 15  fa_name             4082 non-null   category\n",
      "dtypes: Int64(3), category(4), float64(6), geometry(1), int64(2)\n",
      "memory usage: 2.1 MB\n"
     ]
    }
   ],
   "source": [
    "reach_base_gdf.info()"
   ]
  },
  {
   "cell_type": "markdown",
   "id": "25a5684b",
   "metadata": {},
   "source": [
    "## Remove Stage 1 results"
   ]
  },
  {
   "cell_type": "code",
   "execution_count": 12,
   "id": "5b9fc2ae",
   "metadata": {},
   "outputs": [],
   "source": [
    "pa1_catch_vars = ['tp_load', 'tn_load', 'tss_load',\n",
    "                  'tp_loadrate_ws', 'tn_loadrate_ws', 'tss_loadrate_ws',]\n",
    "catch_base_gdf.drop(pa1_catch_vars, axis='columns', inplace=True)"
   ]
  },
  {
   "cell_type": "code",
   "execution_count": 13,
   "id": "8b0a0d76",
   "metadata": {},
   "outputs": [],
   "source": [
    "pa1_reach_vars = ['tp_conc', 'tn_conc', 'tss_conc',]\n",
    "reach_base_gdf.drop(pa1_reach_vars, axis='columns', inplace=True)"
   ]
  },
  {
   "cell_type": "markdown",
   "id": "97de0076",
   "metadata": {},
   "source": [
    "# Read Baseline Results from MMW-WikiSRAT\n",
    "Read Stage 2 baseline results from MMW-WikiSRAT, which were run and saved separately by Sara D.\n",
    "\n",
    "- CSV to Pandas: \n",
    "  - Guide: https://pandas.pydata.org/docs/user_guide/io.html#csv-text-files \n",
    "  - Ref:   https://pandas.pydata.org/docs/reference/api/pandas.read_csv.html\n",
    "\n"
   ]
  },
  {
   "cell_type": "markdown",
   "id": "457a2800",
   "metadata": {},
   "source": []
  },
  {
   "cell_type": "code",
   "execution_count": 14,
   "id": "375cb9ff",
   "metadata": {},
   "outputs": [],
   "source": [
    "\n",
    "wikisrat_catchment_loads = pd.read_csv(project_path / pa2_mmw_folder /\n",
    "                                            'catchment_loading_rates.csv',\n",
    "                                            index_col = 'comid',\n",
    "                                            dtype = {\n",
    "                                                'Source':'category',\n",
    "                                                'gwlfe_endpoint':'category',\n",
    "                                                'huc_run_name':'category',\n",
    "                                                'huc_run_states':'category',\n",
    "                                                'land_use_source':'category',\n",
    "                                                'closest_weather_stations':'category',\n",
    "                                                'stream_layer':'category',\n",
    "                                                'weather_source':'category',\n",
    "                                            }\n",
    "                                           )\n"
   ]
  },
  {
   "cell_type": "code",
   "execution_count": 15,
   "id": "51750a54",
   "metadata": {},
   "outputs": [
    {
     "name": "stdout",
     "output_type": "stream",
     "text": [
      "<class 'pandas.core.frame.DataFrame'>\n",
      "Int64Index: 21840 entries, 2612780 to 9891532\n",
      "Data columns (total 16 columns):\n",
      " #   Column                    Non-Null Count  Dtype   \n",
      "---  ------                    --------------  -----   \n",
      " 0   Unnamed: 0                21840 non-null  int64   \n",
      " 1   TotalN                    21840 non-null  float64 \n",
      " 2   TotalP                    21840 non-null  float64 \n",
      " 3   Sediment                  21840 non-null  float64 \n",
      " 4   gwlfe_endpoint            21840 non-null  category\n",
      " 5   huc                       21840 non-null  int64   \n",
      " 6   huc_level                 21840 non-null  int64   \n",
      " 7   huc_run                   21840 non-null  int64   \n",
      " 8   huc_run_level             21840 non-null  int64   \n",
      " 9   huc_run_name              21840 non-null  category\n",
      " 10  huc_run_states            21840 non-null  category\n",
      " 11  huc_run_areaacres         21840 non-null  float64 \n",
      " 12  land_use_source           21840 non-null  category\n",
      " 13  closest_weather_stations  21840 non-null  category\n",
      " 14  stream_layer              21840 non-null  category\n",
      " 15  weather_source            21840 non-null  category\n",
      "dtypes: category(7), float64(4), int64(5)\n",
      "memory usage: 1.9 MB\n"
     ]
    }
   ],
   "source": [
    "wikisrat_catchment_loads.info()"
   ]
  },
  {
   "cell_type": "code",
   "execution_count": 16,
   "metadata": {},
   "outputs": [],
   "source": [
    "wikisrat_catchment_concs = pd.read_csv(project_path / pa2_mmw_folder /\n",
    "                                       'reach_concentrations.csv',\n",
    "                                       index_col = 'comid',\n",
    "                                       dtype = {\n",
    "                                           'Source':'category',\n",
    "                                           'gwlfe_endpoint':'category',\n",
    "                                           'huc_run_name':'category',\n",
    "                                           'huc_run_states':'category',\n",
    "                                           'land_use_source':'category',\n",
    "                                           'closest_weather_stations':'category',\n",
    "                                           'stream_layer':'category',\n",
    "                                           'weather_source':'category',\n",
    "                                       }\n",
    "                                      )"
   ]
  },
  {
   "cell_type": "code",
   "execution_count": 17,
   "id": "8fd25a97",
   "metadata": {},
   "outputs": [
    {
     "name": "stdout",
     "output_type": "stream",
     "text": [
      "<class 'pandas.core.frame.DataFrame'>\n",
      "Int64Index: 21840 entries, 2612780 to 9891532\n",
      "Data columns (total 16 columns):\n",
      " #   Column                    Non-Null Count  Dtype   \n",
      "---  ------                    --------------  -----   \n",
      " 0   Unnamed: 0                21840 non-null  int64   \n",
      " 1   TotalN                    15834 non-null  float64 \n",
      " 2   TotalP                    15834 non-null  float64 \n",
      " 3   Sediment                  15834 non-null  float64 \n",
      " 4   gwlfe_endpoint            21840 non-null  category\n",
      " 5   huc                       21840 non-null  int64   \n",
      " 6   huc_level                 21840 non-null  int64   \n",
      " 7   huc_run                   21840 non-null  int64   \n",
      " 8   huc_run_level             21840 non-null  int64   \n",
      " 9   huc_run_name              21840 non-null  category\n",
      " 10  huc_run_states            21840 non-null  category\n",
      " 11  huc_run_areaacres         21840 non-null  float64 \n",
      " 12  land_use_source           21840 non-null  category\n",
      " 13  closest_weather_stations  21840 non-null  category\n",
      " 14  stream_layer              21840 non-null  category\n",
      " 15  weather_source            21840 non-null  category\n",
      "dtypes: category(7), float64(4), int64(5)\n",
      "memory usage: 1.9 MB\n"
     ]
    }
   ],
   "source": [
    "wikisrat_catchment_concs.info()\n"
   ]
  },
  {
   "cell_type": "code",
   "execution_count": 18,
   "id": "67448c56",
   "metadata": {},
   "outputs": [
    {
     "data": {
      "text/plain": [
       "['NASA_NLDAS_2000_2019', 'USEPA_1960_1990']\n",
       "Categories (2, object): ['NASA_NLDAS_2000_2019', 'USEPA_1960_1990']"
      ]
     },
     "execution_count": 18,
     "metadata": {},
     "output_type": "execute_result"
    }
   ],
   "source": [
    "# Explore categoricals\n",
    "wikisrat_catchment_concs.weather_source.unique()"
   ]
  },
  {
   "cell_type": "markdown",
   "id": "f086db53",
   "metadata": {},
   "source": [
    "## Add Stage 2 data to Stage 1 dataframe"
   ]
  },
  {
   "cell_type": "code",
   "execution_count": 19,
   "id": "3d524b33",
   "metadata": {},
   "outputs": [],
   "source": [
    "catch_base_gdf['tp_load'] = wikisrat_catchment_loads.TotalP\n",
    "catch_base_gdf['tn_load'] = wikisrat_catchment_loads.TotalN\n",
    "catch_base_gdf['tss_load'] = wikisrat_catchment_loads.Sediment"
   ]
  },
  {
   "cell_type": "code",
   "execution_count": 20,
   "id": "0a803e39",
   "metadata": {},
   "outputs": [
    {
     "name": "stdout",
     "output_type": "stream",
     "text": [
      "<class 'geopandas.geodataframe.GeoDataFrame'>\n",
      "Int64Index: 19496 entries, 1748535 to 932040370\n",
      "Data columns (total 16 columns):\n",
      " #   Column              Non-Null Count  Dtype   \n",
      "---  ------              --------------  -----   \n",
      " 0   catchment_hectares  19496 non-null  float64 \n",
      " 1   watershed_hectares  19496 non-null  float64 \n",
      " 2   maflowv             19496 non-null  float64 \n",
      " 3   geom_catchment      19496 non-null  geometry\n",
      " 4   cluster             17358 non-null  category\n",
      " 5   sub_focusarea       186 non-null    Int64   \n",
      " 6   nord                18870 non-null  Int64   \n",
      " 7   nordstop            18844 non-null  Int64   \n",
      " 8   huc12               19496 non-null  category\n",
      " 9   streamorder         19496 non-null  int64   \n",
      " 10  headwater           19496 non-null  int64   \n",
      " 11  phase               4082 non-null   category\n",
      " 12  fa_name             4082 non-null   category\n",
      " 13  tp_load             19496 non-null  float64 \n",
      " 14  tn_load             19496 non-null  float64 \n",
      " 15  tss_load            19496 non-null  float64 \n",
      "dtypes: Int64(3), category(4), float64(6), geometry(1), int64(2)\n",
      "memory usage: 2.1 MB\n"
     ]
    }
   ],
   "source": [
    "catch_base_gdf.info()"
   ]
  },
  {
   "cell_type": "code",
   "execution_count": 21,
   "id": "6fee80c2",
   "metadata": {},
   "outputs": [],
   "source": [
    "reach_base_gdf['tp_conc2'] = wikisrat_catchment_concs.TotalP\n",
    "reach_base_gdf['tn_conc2'] = wikisrat_catchment_concs.TotalN\n",
    "reach_base_gdf['tss_conc2'] = wikisrat_catchment_concs.Sediment"
   ]
  },
  {
   "cell_type": "code",
   "execution_count": 22,
   "id": "c5214dde",
   "metadata": {},
   "outputs": [
    {
     "name": "stdout",
     "output_type": "stream",
     "text": [
      "<class 'geopandas.geodataframe.GeoDataFrame'>\n",
      "Int64Index: 19496 entries, 1748535 to 932040370\n",
      "Data columns (total 16 columns):\n",
      " #   Column              Non-Null Count  Dtype   \n",
      "---  ------              --------------  -----   \n",
      " 0   catchment_hectares  19496 non-null  float64 \n",
      " 1   watershed_hectares  19496 non-null  float64 \n",
      " 2   maflowv             19496 non-null  float64 \n",
      " 3   geom                19494 non-null  geometry\n",
      " 4   cluster             17358 non-null  category\n",
      " 5   sub_focusarea       186 non-null    Int64   \n",
      " 6   nord                18870 non-null  Int64   \n",
      " 7   nordstop            18844 non-null  Int64   \n",
      " 8   huc12               19496 non-null  category\n",
      " 9   streamorder         19496 non-null  int64   \n",
      " 10  headwater           19496 non-null  int64   \n",
      " 11  phase               4082 non-null   category\n",
      " 12  fa_name             4082 non-null   category\n",
      " 13  tp_conc2            14712 non-null  float64 \n",
      " 14  tn_conc2            14712 non-null  float64 \n",
      " 15  tss_conc2           14712 non-null  float64 \n",
      "dtypes: Int64(3), category(4), float64(6), geometry(1), int64(2)\n",
      "memory usage: 2.1 MB\n"
     ]
    }
   ],
   "source": [
    "reach_base_gdf.info()"
   ]
  },
  {
   "cell_type": "markdown",
   "id": "a7f96b9d",
   "metadata": {},
   "source": [
    "## Baseline results by source"
   ]
  },
  {
   "cell_type": "code",
   "execution_count": 39,
   "id": "9230755c",
   "metadata": {},
   "outputs": [
    {
     "name": "stdout",
     "output_type": "stream",
     "text": [
      "<class 'pandas.core.frame.DataFrame'>\n",
      "RangeIndex: 371280 entries, 0 to 371279\n",
      "Data columns (total 12 columns):\n",
      " #   Column            Non-Null Count   Dtype   \n",
      "---  ------            --------------   -----   \n",
      " 0   Unnamed: 0        371280 non-null  int64   \n",
      " 1   Source            371280 non-null  category\n",
      " 2   Sediment          279948 non-null  float64 \n",
      " 3   TotalN            367308 non-null  float64 \n",
      " 4   TotalP            367308 non-null  float64 \n",
      " 5   comid             371280 non-null  int64   \n",
      " 6   huc               371280 non-null  category\n",
      " 7   gwlfe_endpoint    371280 non-null  category\n",
      " 8   huc_level         371280 non-null  int64   \n",
      " 9   run_group         371280 non-null  category\n",
      " 10  funding_sources   0 non-null       float64 \n",
      " 11  with_attenuation  371280 non-null  bool    \n",
      "dtypes: bool(1), category(4), float64(4), int64(3)\n",
      "memory usage: 22.0 MB\n"
     ]
    }
   ],
   "source": [
    "\n",
    "wikisrat_catch_base_loads_source = pd.read_csv(project_path / 'stage2/Restoration/' /\n",
    "                                        'catchment_sources_local_load.csv',\n",
    "                                        # index_col = 'comid',\n",
    "                                        dtype = {\n",
    "                                            'Source': 'category',\n",
    "                                            'huc': 'category',\n",
    "                                            'gwlfe_endpoint': 'category',\n",
    "                                            'run_group': 'category',\n",
    "                                            'with_attenuation': bool,\n",
    "                                        }\n",
    "                                       )\n",
    "wikisrat_catch_base_loads_source.info()"
   ]
  },
  {
   "cell_type": "code",
   "execution_count": 42,
   "id": "d22b1caf",
   "metadata": {},
   "outputs": [
    {
     "data": {
      "text/plain": [
       "['No restoration or protection']\n",
       "Categories (1, object): ['No restoration or protection']"
      ]
     },
     "execution_count": 42,
     "metadata": {},
     "output_type": "execute_result"
    }
   ],
   "source": [
    "# Confirm Baseline only\n",
    "wikisrat_catch_base_loads_source.run_group.unique()"
   ]
  },
  {
   "cell_type": "code",
   "execution_count": 44,
   "id": "f249b291",
   "metadata": {},
   "outputs": [
    {
     "data": {
      "text/plain": [
       "['Barren Areas', 'Cropland', 'Farm Animals', 'Hay/Pasture', 'High-Density Mixed', ..., 'Stream Bank Erosion', 'Subsurface Flow', 'Total Local Load', 'Wetlands', 'Wooded Areas']\n",
       "Length: 17\n",
       "Categories (17, object): ['Barren Areas', 'Cropland', 'Farm Animals', 'Hay/Pasture', ..., 'Subsurface Flow', 'Total Local Load', 'Wetlands', 'Wooded Areas']"
      ]
     },
     "execution_count": 44,
     "metadata": {},
     "output_type": "execute_result"
    }
   ],
   "source": [
    "# Source types\n",
    "wikisrat_catch_base_loads_source.Source.unique()"
   ]
  },
  {
   "cell_type": "markdown",
   "id": "976b2acb",
   "metadata": {},
   "source": [
    "# Read Restoration Results from MMW-WikiSRAT\n",
    "Read Stage 2 baseline results from MMW-WikiSRAT, which were run and saved separately by Sara D."
   ]
  },
  {
   "cell_type": "code",
   "execution_count": 50,
   "id": "7b22ffbb",
   "metadata": {},
   "outputs": [
    {
     "name": "stdout",
     "output_type": "stream",
     "text": [
      "<class 'pandas.core.frame.DataFrame'>\n",
      "RangeIndex: 109200 entries, 0 to 109199\n",
      "Data columns (total 12 columns):\n",
      " #   Column            Non-Null Count   Dtype   \n",
      "---  ------            --------------   -----   \n",
      " 0   Unnamed: 0        109200 non-null  int64   \n",
      " 1   Source            109200 non-null  category\n",
      " 2   Sediment          109200 non-null  float64 \n",
      " 3   TotalN            109200 non-null  float64 \n",
      " 4   TotalP            109200 non-null  float64 \n",
      " 5   comid             109200 non-null  int64   \n",
      " 6   huc               109200 non-null  category\n",
      " 7   gwlfe_endpoint    109200 non-null  category\n",
      " 8   huc_level         109200 non-null  int64   \n",
      " 9   run_group         109200 non-null  category\n",
      " 10  funding_sources   87360 non-null   category\n",
      " 11  with_attenuation  109200 non-null  bool    \n",
      "dtypes: bool(1), category(5), float64(3), int64(3)\n",
      "memory usage: 5.7 MB\n"
     ]
    }
   ],
   "source": [
    "\n",
    "wikisrat_catch_loads = pd.read_csv(project_path / 'stage2/Restoration/' /\n",
    "                                        'catchment_total_local_load.csv',\n",
    "                                        # index_col = 'comid',\n",
    "                                        dtype = {\n",
    "                                            'Source': 'category',\n",
    "                                            'huc': 'category',\n",
    "                                            'gwlfe_endpoint': 'category',\n",
    "                                            'run_group': 'category',\n",
    "                                            'funding_sources': 'category',\n",
    "                                            'with_attenuation': bool,\n",
    "                                        }\n",
    "                                       )\n",
    "wikisrat_catch_loads.info()"
   ]
  },
  {
   "cell_type": "code",
   "execution_count": 48,
   "id": "72387fe7",
   "metadata": {},
   "outputs": [
    {
     "data": {
      "text/plain": [
       "['Total Local Load']\n",
       "Categories (1, object): ['Total Local Load']"
      ]
     },
     "execution_count": 48,
     "metadata": {},
     "output_type": "execute_result"
    }
   ],
   "source": [
    "# Confirm only total local loads\n",
    "wikisrat_catch_loads.Source.unique()"
   ]
  },
  {
   "cell_type": "code",
   "execution_count": 49,
   "id": "18b954dc",
   "metadata": {},
   "outputs": [
    {
     "data": {
      "text/plain": [
       "['No restoration or protection', 'Direct WPF Restoration', 'Direct and Indirect WPF Restoration', 'All Restoration', 'Direct WPF Protection']\n",
       "Categories (5, object): ['All Restoration', 'Direct WPF Protection', 'Direct WPF Restoration', 'Direct and Indirect WPF Restoration', 'No restoration or protection']"
      ]
     },
     "execution_count": 49,
     "metadata": {},
     "output_type": "execute_result"
    }
   ],
   "source": [
    "# List Run Groups\n",
    "wikisrat_catch_loads.run_group.unique()"
   ]
  },
  {
   "cell_type": "code",
   "execution_count": 55,
   "id": "2b812dc5",
   "metadata": {},
   "outputs": [
    {
     "data": {
      "text/plain": [
       "[NaN, 'Delaware River Restoration Fund', 'Delaware River Restoration Fund, Delaware Riv..., 'Delaware River Restoration Fund, Delaware Riv..., 'Delaware River Watershed Protection Fund - Fo...]\n",
       "Categories (4, object): ['Delaware River Restoration Fund', 'Delaware River Restoration Fund, Delaware Riv..., 'Delaware River Restoration Fund, Delaware Riv..., 'Delaware River Watershed Protection Fund - Fo...]"
      ]
     },
     "execution_count": 55,
     "metadata": {},
     "output_type": "execute_result"
    }
   ],
   "source": [
    "# List Run Groups\n",
    "wikisrat_catch_loads.funding_sources.unique()"
   ]
  },
  {
   "cell_type": "code",
   "execution_count": 51,
   "id": "82635299",
   "metadata": {},
   "outputs": [
    {
     "name": "stdout",
     "output_type": "stream",
     "text": [
      "<class 'pandas.core.frame.DataFrame'>\n",
      "RangeIndex: 109200 entries, 0 to 109199\n",
      "Data columns (total 12 columns):\n",
      " #   Column            Non-Null Count   Dtype   \n",
      "---  ------            --------------   -----   \n",
      " 0   Unnamed: 0        109200 non-null  int64   \n",
      " 1   Source            109200 non-null  category\n",
      " 2   Sediment          89340 non-null   float64 \n",
      " 3   TotalN            89340 non-null   float64 \n",
      " 4   TotalP            89340 non-null   float64 \n",
      " 5   comid             109200 non-null  int64   \n",
      " 6   huc               109200 non-null  category\n",
      " 7   gwlfe_endpoint    109200 non-null  category\n",
      " 8   huc_level         109200 non-null  int64   \n",
      " 9   run_group         109200 non-null  category\n",
      " 10  funding_sources   87360 non-null   category\n",
      " 11  with_attenuation  109200 non-null  bool    \n",
      "dtypes: bool(1), category(5), float64(3), int64(3)\n",
      "memory usage: 5.7 MB\n"
     ]
    }
   ],
   "source": [
    "wikisrat_reach_concs = pd.read_csv(project_path / 'stage2/Restoration/' /\n",
    "                                        'reach_concentrations.csv',\n",
    "                                        # index_col = 'comid',\n",
    "                                        dtype = {\n",
    "                                            'Source': 'category',\n",
    "                                            'huc': 'category',\n",
    "                                            'gwlfe_endpoint': 'category',\n",
    "                                            'run_group': 'category',\n",
    "                                            'funding_sources': 'category',\n",
    "                                            'with_attenuation': bool,\n",
    "                                        }\n",
    "                                       )\n",
    "wikisrat_reach_concs.info()"
   ]
  },
  {
   "cell_type": "code",
   "execution_count": 52,
   "id": "c6ba4f7c",
   "metadata": {},
   "outputs": [
    {
     "data": {
      "text/html": [
       "<div>\n",
       "<style scoped>\n",
       "    .dataframe tbody tr th:only-of-type {\n",
       "        vertical-align: middle;\n",
       "    }\n",
       "\n",
       "    .dataframe tbody tr th {\n",
       "        vertical-align: top;\n",
       "    }\n",
       "\n",
       "    .dataframe thead th {\n",
       "        text-align: right;\n",
       "    }\n",
       "</style>\n",
       "<table border=\"1\" class=\"dataframe\">\n",
       "  <thead>\n",
       "    <tr style=\"text-align: right;\">\n",
       "      <th></th>\n",
       "      <th>Unnamed: 0</th>\n",
       "      <th>Source</th>\n",
       "      <th>Sediment</th>\n",
       "      <th>TotalN</th>\n",
       "      <th>TotalP</th>\n",
       "      <th>comid</th>\n",
       "      <th>huc</th>\n",
       "      <th>gwlfe_endpoint</th>\n",
       "      <th>huc_level</th>\n",
       "      <th>run_group</th>\n",
       "      <th>funding_sources</th>\n",
       "      <th>with_attenuation</th>\n",
       "    </tr>\n",
       "  </thead>\n",
       "  <tbody>\n",
       "    <tr>\n",
       "      <th>0</th>\n",
       "      <td>0</td>\n",
       "      <td>Reach Concentration</td>\n",
       "      <td>17.456653</td>\n",
       "      <td>0.240183</td>\n",
       "      <td>0.022851</td>\n",
       "      <td>2612780</td>\n",
       "      <td>020401010101</td>\n",
       "      <td>wikiSRAT</td>\n",
       "      <td>12</td>\n",
       "      <td>No restoration or protection</td>\n",
       "      <td>NaN</td>\n",
       "      <td>True</td>\n",
       "    </tr>\n",
       "    <tr>\n",
       "      <th>1</th>\n",
       "      <td>1</td>\n",
       "      <td>Reach Concentration</td>\n",
       "      <td>17.456653</td>\n",
       "      <td>0.240183</td>\n",
       "      <td>0.022851</td>\n",
       "      <td>2612780</td>\n",
       "      <td>020401010101</td>\n",
       "      <td>wikiSRAT</td>\n",
       "      <td>12</td>\n",
       "      <td>Direct WPF Restoration</td>\n",
       "      <td>Delaware River Restoration Fund</td>\n",
       "      <td>True</td>\n",
       "    </tr>\n",
       "    <tr>\n",
       "      <th>2</th>\n",
       "      <td>2</td>\n",
       "      <td>Reach Concentration</td>\n",
       "      <td>17.456653</td>\n",
       "      <td>0.240183</td>\n",
       "      <td>0.022851</td>\n",
       "      <td>2612780</td>\n",
       "      <td>020401010101</td>\n",
       "      <td>wikiSRAT</td>\n",
       "      <td>12</td>\n",
       "      <td>Direct and Indirect WPF Restoration</td>\n",
       "      <td>Delaware River Restoration Fund, Delaware Rive...</td>\n",
       "      <td>True</td>\n",
       "    </tr>\n",
       "    <tr>\n",
       "      <th>3</th>\n",
       "      <td>3</td>\n",
       "      <td>Reach Concentration</td>\n",
       "      <td>17.456559</td>\n",
       "      <td>0.240182</td>\n",
       "      <td>0.022851</td>\n",
       "      <td>2612780</td>\n",
       "      <td>020401010101</td>\n",
       "      <td>wikiSRAT</td>\n",
       "      <td>12</td>\n",
       "      <td>All Restoration</td>\n",
       "      <td>Delaware River Restoration Fund, Delaware Rive...</td>\n",
       "      <td>True</td>\n",
       "    </tr>\n",
       "    <tr>\n",
       "      <th>4</th>\n",
       "      <td>4</td>\n",
       "      <td>Reach Concentration</td>\n",
       "      <td>17.456653</td>\n",
       "      <td>0.240183</td>\n",
       "      <td>0.022851</td>\n",
       "      <td>2612780</td>\n",
       "      <td>020401010101</td>\n",
       "      <td>wikiSRAT</td>\n",
       "      <td>12</td>\n",
       "      <td>Direct WPF Protection</td>\n",
       "      <td>Delaware River Watershed Protection Fund - For...</td>\n",
       "      <td>True</td>\n",
       "    </tr>\n",
       "    <tr>\n",
       "      <th>...</th>\n",
       "      <td>...</td>\n",
       "      <td>...</td>\n",
       "      <td>...</td>\n",
       "      <td>...</td>\n",
       "      <td>...</td>\n",
       "      <td>...</td>\n",
       "      <td>...</td>\n",
       "      <td>...</td>\n",
       "      <td>...</td>\n",
       "      <td>...</td>\n",
       "      <td>...</td>\n",
       "      <td>...</td>\n",
       "    </tr>\n",
       "    <tr>\n",
       "      <th>109195</th>\n",
       "      <td>109195</td>\n",
       "      <td>Reach Concentration</td>\n",
       "      <td>240.331181</td>\n",
       "      <td>2.089320</td>\n",
       "      <td>0.103850</td>\n",
       "      <td>27081103</td>\n",
       "      <td>020403040501</td>\n",
       "      <td>wikiSRAT</td>\n",
       "      <td>12</td>\n",
       "      <td>No restoration or protection</td>\n",
       "      <td>NaN</td>\n",
       "      <td>True</td>\n",
       "    </tr>\n",
       "    <tr>\n",
       "      <th>109196</th>\n",
       "      <td>109196</td>\n",
       "      <td>Reach Concentration</td>\n",
       "      <td>240.331181</td>\n",
       "      <td>2.089320</td>\n",
       "      <td>0.103850</td>\n",
       "      <td>27081103</td>\n",
       "      <td>020403040501</td>\n",
       "      <td>wikiSRAT</td>\n",
       "      <td>12</td>\n",
       "      <td>Direct WPF Restoration</td>\n",
       "      <td>Delaware River Restoration Fund</td>\n",
       "      <td>True</td>\n",
       "    </tr>\n",
       "    <tr>\n",
       "      <th>109197</th>\n",
       "      <td>109197</td>\n",
       "      <td>Reach Concentration</td>\n",
       "      <td>240.331181</td>\n",
       "      <td>2.089320</td>\n",
       "      <td>0.103850</td>\n",
       "      <td>27081103</td>\n",
       "      <td>020403040501</td>\n",
       "      <td>wikiSRAT</td>\n",
       "      <td>12</td>\n",
       "      <td>Direct and Indirect WPF Restoration</td>\n",
       "      <td>Delaware River Restoration Fund, Delaware Rive...</td>\n",
       "      <td>True</td>\n",
       "    </tr>\n",
       "    <tr>\n",
       "      <th>109198</th>\n",
       "      <td>109198</td>\n",
       "      <td>Reach Concentration</td>\n",
       "      <td>240.290098</td>\n",
       "      <td>2.089113</td>\n",
       "      <td>0.103779</td>\n",
       "      <td>27081103</td>\n",
       "      <td>020403040501</td>\n",
       "      <td>wikiSRAT</td>\n",
       "      <td>12</td>\n",
       "      <td>All Restoration</td>\n",
       "      <td>Delaware River Restoration Fund, Delaware Rive...</td>\n",
       "      <td>True</td>\n",
       "    </tr>\n",
       "    <tr>\n",
       "      <th>109199</th>\n",
       "      <td>109199</td>\n",
       "      <td>Reach Concentration</td>\n",
       "      <td>240.331181</td>\n",
       "      <td>2.089320</td>\n",
       "      <td>0.103850</td>\n",
       "      <td>27081103</td>\n",
       "      <td>020403040501</td>\n",
       "      <td>wikiSRAT</td>\n",
       "      <td>12</td>\n",
       "      <td>Direct WPF Protection</td>\n",
       "      <td>Delaware River Watershed Protection Fund - For...</td>\n",
       "      <td>True</td>\n",
       "    </tr>\n",
       "  </tbody>\n",
       "</table>\n",
       "<p>109200 rows × 12 columns</p>\n",
       "</div>"
      ],
      "text/plain": [
       "        Unnamed: 0               Source    Sediment    TotalN    TotalP  \\\n",
       "0                0  Reach Concentration   17.456653  0.240183  0.022851   \n",
       "1                1  Reach Concentration   17.456653  0.240183  0.022851   \n",
       "2                2  Reach Concentration   17.456653  0.240183  0.022851   \n",
       "3                3  Reach Concentration   17.456559  0.240182  0.022851   \n",
       "4                4  Reach Concentration   17.456653  0.240183  0.022851   \n",
       "...            ...                  ...         ...       ...       ...   \n",
       "109195      109195  Reach Concentration  240.331181  2.089320  0.103850   \n",
       "109196      109196  Reach Concentration  240.331181  2.089320  0.103850   \n",
       "109197      109197  Reach Concentration  240.331181  2.089320  0.103850   \n",
       "109198      109198  Reach Concentration  240.290098  2.089113  0.103779   \n",
       "109199      109199  Reach Concentration  240.331181  2.089320  0.103850   \n",
       "\n",
       "           comid           huc gwlfe_endpoint  huc_level  \\\n",
       "0        2612780  020401010101       wikiSRAT         12   \n",
       "1        2612780  020401010101       wikiSRAT         12   \n",
       "2        2612780  020401010101       wikiSRAT         12   \n",
       "3        2612780  020401010101       wikiSRAT         12   \n",
       "4        2612780  020401010101       wikiSRAT         12   \n",
       "...          ...           ...            ...        ...   \n",
       "109195  27081103  020403040501       wikiSRAT         12   \n",
       "109196  27081103  020403040501       wikiSRAT         12   \n",
       "109197  27081103  020403040501       wikiSRAT         12   \n",
       "109198  27081103  020403040501       wikiSRAT         12   \n",
       "109199  27081103  020403040501       wikiSRAT         12   \n",
       "\n",
       "                                  run_group  \\\n",
       "0              No restoration or protection   \n",
       "1                    Direct WPF Restoration   \n",
       "2       Direct and Indirect WPF Restoration   \n",
       "3                           All Restoration   \n",
       "4                     Direct WPF Protection   \n",
       "...                                     ...   \n",
       "109195         No restoration or protection   \n",
       "109196               Direct WPF Restoration   \n",
       "109197  Direct and Indirect WPF Restoration   \n",
       "109198                      All Restoration   \n",
       "109199                Direct WPF Protection   \n",
       "\n",
       "                                          funding_sources  with_attenuation  \n",
       "0                                                     NaN              True  \n",
       "1                         Delaware River Restoration Fund              True  \n",
       "2       Delaware River Restoration Fund, Delaware Rive...              True  \n",
       "3       Delaware River Restoration Fund, Delaware Rive...              True  \n",
       "4       Delaware River Watershed Protection Fund - For...              True  \n",
       "...                                                   ...               ...  \n",
       "109195                                                NaN              True  \n",
       "109196                    Delaware River Restoration Fund              True  \n",
       "109197  Delaware River Restoration Fund, Delaware Rive...              True  \n",
       "109198  Delaware River Restoration Fund, Delaware Rive...              True  \n",
       "109199  Delaware River Watershed Protection Fund - For...              True  \n",
       "\n",
       "[109200 rows x 12 columns]"
      ]
     },
     "execution_count": 52,
     "metadata": {},
     "output_type": "execute_result"
    }
   ],
   "source": [
    "wikisrat_reach_concs"
   ]
  },
  {
   "cell_type": "code",
   "execution_count": 53,
   "id": "54484b3e",
   "metadata": {},
   "outputs": [
    {
     "name": "stdout",
     "output_type": "stream",
     "text": [
      "<class 'pandas.core.frame.DataFrame'>\n",
      "RangeIndex: 109200 entries, 0 to 109199\n",
      "Data columns (total 12 columns):\n",
      " #   Column            Non-Null Count   Dtype   \n",
      "---  ------            --------------   -----   \n",
      " 0   Unnamed: 0        109200 non-null  int64   \n",
      " 1   Source            109200 non-null  category\n",
      " 2   Sediment          89340 non-null   float64 \n",
      " 3   TotalN            89340 non-null   float64 \n",
      " 4   TotalP            89340 non-null   float64 \n",
      " 5   comid             109200 non-null  int64   \n",
      " 6   huc               109200 non-null  category\n",
      " 7   gwlfe_endpoint    109200 non-null  category\n",
      " 8   huc_level         109200 non-null  int64   \n",
      " 9   run_group         109200 non-null  category\n",
      " 10  funding_sources   87360 non-null   category\n",
      " 11  with_attenuation  109200 non-null  bool    \n",
      "dtypes: bool(1), category(5), float64(3), int64(3)\n",
      "memory usage: 5.7 MB\n"
     ]
    }
   ],
   "source": [
    "# Point source derived conc\n",
    "wikisrat_reach_concs_ps = pd.read_csv(project_path / 'stage2/Restoration/' /\n",
    "                                        'reach_pt_source_conc.csv',\n",
    "                                        # index_col = 'comid',\n",
    "                                        dtype = {\n",
    "                                            'Source': 'category',\n",
    "                                            'huc': 'category',\n",
    "                                            'gwlfe_endpoint': 'category',\n",
    "                                            'run_group': 'category',\n",
    "                                            'funding_sources': 'category',\n",
    "                                            'with_attenuation': bool,\n",
    "                                        }\n",
    "                                       )\n",
    "wikisrat_reach_concs_ps.info()"
   ]
  },
  {
   "cell_type": "code",
   "execution_count": 54,
   "id": "255e8c47",
   "metadata": {},
   "outputs": [
    {
     "data": {
      "text/html": [
       "<div>\n",
       "<style scoped>\n",
       "    .dataframe tbody tr th:only-of-type {\n",
       "        vertical-align: middle;\n",
       "    }\n",
       "\n",
       "    .dataframe tbody tr th {\n",
       "        vertical-align: top;\n",
       "    }\n",
       "\n",
       "    .dataframe thead th {\n",
       "        text-align: right;\n",
       "    }\n",
       "</style>\n",
       "<table border=\"1\" class=\"dataframe\">\n",
       "  <thead>\n",
       "    <tr style=\"text-align: right;\">\n",
       "      <th></th>\n",
       "      <th>Unnamed: 0</th>\n",
       "      <th>Source</th>\n",
       "      <th>Sediment</th>\n",
       "      <th>TotalN</th>\n",
       "      <th>TotalP</th>\n",
       "      <th>comid</th>\n",
       "      <th>huc</th>\n",
       "      <th>gwlfe_endpoint</th>\n",
       "      <th>huc_level</th>\n",
       "      <th>run_group</th>\n",
       "      <th>funding_sources</th>\n",
       "      <th>with_attenuation</th>\n",
       "    </tr>\n",
       "  </thead>\n",
       "  <tbody>\n",
       "    <tr>\n",
       "      <th>0</th>\n",
       "      <td>0</td>\n",
       "      <td>Point Source Derived Concentration</td>\n",
       "      <td>0.0</td>\n",
       "      <td>0.0</td>\n",
       "      <td>0.0</td>\n",
       "      <td>2612780</td>\n",
       "      <td>020401010101</td>\n",
       "      <td>wikiSRAT</td>\n",
       "      <td>12</td>\n",
       "      <td>No restoration or protection</td>\n",
       "      <td>NaN</td>\n",
       "      <td>True</td>\n",
       "    </tr>\n",
       "    <tr>\n",
       "      <th>1</th>\n",
       "      <td>1</td>\n",
       "      <td>Point Source Derived Concentration</td>\n",
       "      <td>0.0</td>\n",
       "      <td>0.0</td>\n",
       "      <td>0.0</td>\n",
       "      <td>2612780</td>\n",
       "      <td>020401010101</td>\n",
       "      <td>wikiSRAT</td>\n",
       "      <td>12</td>\n",
       "      <td>Direct WPF Restoration</td>\n",
       "      <td>Delaware River Restoration Fund</td>\n",
       "      <td>True</td>\n",
       "    </tr>\n",
       "    <tr>\n",
       "      <th>2</th>\n",
       "      <td>2</td>\n",
       "      <td>Point Source Derived Concentration</td>\n",
       "      <td>0.0</td>\n",
       "      <td>0.0</td>\n",
       "      <td>0.0</td>\n",
       "      <td>2612780</td>\n",
       "      <td>020401010101</td>\n",
       "      <td>wikiSRAT</td>\n",
       "      <td>12</td>\n",
       "      <td>Direct and Indirect WPF Restoration</td>\n",
       "      <td>Delaware River Restoration Fund, Delaware Rive...</td>\n",
       "      <td>True</td>\n",
       "    </tr>\n",
       "    <tr>\n",
       "      <th>3</th>\n",
       "      <td>3</td>\n",
       "      <td>Point Source Derived Concentration</td>\n",
       "      <td>0.0</td>\n",
       "      <td>0.0</td>\n",
       "      <td>0.0</td>\n",
       "      <td>2612780</td>\n",
       "      <td>020401010101</td>\n",
       "      <td>wikiSRAT</td>\n",
       "      <td>12</td>\n",
       "      <td>All Restoration</td>\n",
       "      <td>Delaware River Restoration Fund, Delaware Rive...</td>\n",
       "      <td>True</td>\n",
       "    </tr>\n",
       "    <tr>\n",
       "      <th>4</th>\n",
       "      <td>4</td>\n",
       "      <td>Point Source Derived Concentration</td>\n",
       "      <td>0.0</td>\n",
       "      <td>0.0</td>\n",
       "      <td>0.0</td>\n",
       "      <td>2612780</td>\n",
       "      <td>020401010101</td>\n",
       "      <td>wikiSRAT</td>\n",
       "      <td>12</td>\n",
       "      <td>Direct WPF Protection</td>\n",
       "      <td>Delaware River Watershed Protection Fund - For...</td>\n",
       "      <td>True</td>\n",
       "    </tr>\n",
       "    <tr>\n",
       "      <th>...</th>\n",
       "      <td>...</td>\n",
       "      <td>...</td>\n",
       "      <td>...</td>\n",
       "      <td>...</td>\n",
       "      <td>...</td>\n",
       "      <td>...</td>\n",
       "      <td>...</td>\n",
       "      <td>...</td>\n",
       "      <td>...</td>\n",
       "      <td>...</td>\n",
       "      <td>...</td>\n",
       "      <td>...</td>\n",
       "    </tr>\n",
       "    <tr>\n",
       "      <th>109195</th>\n",
       "      <td>109195</td>\n",
       "      <td>Point Source Derived Concentration</td>\n",
       "      <td>0.0</td>\n",
       "      <td>0.0</td>\n",
       "      <td>0.0</td>\n",
       "      <td>27081103</td>\n",
       "      <td>020403040501</td>\n",
       "      <td>wikiSRAT</td>\n",
       "      <td>12</td>\n",
       "      <td>No restoration or protection</td>\n",
       "      <td>NaN</td>\n",
       "      <td>True</td>\n",
       "    </tr>\n",
       "    <tr>\n",
       "      <th>109196</th>\n",
       "      <td>109196</td>\n",
       "      <td>Point Source Derived Concentration</td>\n",
       "      <td>0.0</td>\n",
       "      <td>0.0</td>\n",
       "      <td>0.0</td>\n",
       "      <td>27081103</td>\n",
       "      <td>020403040501</td>\n",
       "      <td>wikiSRAT</td>\n",
       "      <td>12</td>\n",
       "      <td>Direct WPF Restoration</td>\n",
       "      <td>Delaware River Restoration Fund</td>\n",
       "      <td>True</td>\n",
       "    </tr>\n",
       "    <tr>\n",
       "      <th>109197</th>\n",
       "      <td>109197</td>\n",
       "      <td>Point Source Derived Concentration</td>\n",
       "      <td>0.0</td>\n",
       "      <td>0.0</td>\n",
       "      <td>0.0</td>\n",
       "      <td>27081103</td>\n",
       "      <td>020403040501</td>\n",
       "      <td>wikiSRAT</td>\n",
       "      <td>12</td>\n",
       "      <td>Direct and Indirect WPF Restoration</td>\n",
       "      <td>Delaware River Restoration Fund, Delaware Rive...</td>\n",
       "      <td>True</td>\n",
       "    </tr>\n",
       "    <tr>\n",
       "      <th>109198</th>\n",
       "      <td>109198</td>\n",
       "      <td>Point Source Derived Concentration</td>\n",
       "      <td>0.0</td>\n",
       "      <td>0.0</td>\n",
       "      <td>0.0</td>\n",
       "      <td>27081103</td>\n",
       "      <td>020403040501</td>\n",
       "      <td>wikiSRAT</td>\n",
       "      <td>12</td>\n",
       "      <td>All Restoration</td>\n",
       "      <td>Delaware River Restoration Fund, Delaware Rive...</td>\n",
       "      <td>True</td>\n",
       "    </tr>\n",
       "    <tr>\n",
       "      <th>109199</th>\n",
       "      <td>109199</td>\n",
       "      <td>Point Source Derived Concentration</td>\n",
       "      <td>0.0</td>\n",
       "      <td>0.0</td>\n",
       "      <td>0.0</td>\n",
       "      <td>27081103</td>\n",
       "      <td>020403040501</td>\n",
       "      <td>wikiSRAT</td>\n",
       "      <td>12</td>\n",
       "      <td>Direct WPF Protection</td>\n",
       "      <td>Delaware River Watershed Protection Fund - For...</td>\n",
       "      <td>True</td>\n",
       "    </tr>\n",
       "  </tbody>\n",
       "</table>\n",
       "<p>109200 rows × 12 columns</p>\n",
       "</div>"
      ],
      "text/plain": [
       "        Unnamed: 0                              Source  Sediment  TotalN  \\\n",
       "0                0  Point Source Derived Concentration       0.0     0.0   \n",
       "1                1  Point Source Derived Concentration       0.0     0.0   \n",
       "2                2  Point Source Derived Concentration       0.0     0.0   \n",
       "3                3  Point Source Derived Concentration       0.0     0.0   \n",
       "4                4  Point Source Derived Concentration       0.0     0.0   \n",
       "...            ...                                 ...       ...     ...   \n",
       "109195      109195  Point Source Derived Concentration       0.0     0.0   \n",
       "109196      109196  Point Source Derived Concentration       0.0     0.0   \n",
       "109197      109197  Point Source Derived Concentration       0.0     0.0   \n",
       "109198      109198  Point Source Derived Concentration       0.0     0.0   \n",
       "109199      109199  Point Source Derived Concentration       0.0     0.0   \n",
       "\n",
       "        TotalP     comid           huc gwlfe_endpoint  huc_level  \\\n",
       "0          0.0   2612780  020401010101       wikiSRAT         12   \n",
       "1          0.0   2612780  020401010101       wikiSRAT         12   \n",
       "2          0.0   2612780  020401010101       wikiSRAT         12   \n",
       "3          0.0   2612780  020401010101       wikiSRAT         12   \n",
       "4          0.0   2612780  020401010101       wikiSRAT         12   \n",
       "...        ...       ...           ...            ...        ...   \n",
       "109195     0.0  27081103  020403040501       wikiSRAT         12   \n",
       "109196     0.0  27081103  020403040501       wikiSRAT         12   \n",
       "109197     0.0  27081103  020403040501       wikiSRAT         12   \n",
       "109198     0.0  27081103  020403040501       wikiSRAT         12   \n",
       "109199     0.0  27081103  020403040501       wikiSRAT         12   \n",
       "\n",
       "                                  run_group  \\\n",
       "0              No restoration or protection   \n",
       "1                    Direct WPF Restoration   \n",
       "2       Direct and Indirect WPF Restoration   \n",
       "3                           All Restoration   \n",
       "4                     Direct WPF Protection   \n",
       "...                                     ...   \n",
       "109195         No restoration or protection   \n",
       "109196               Direct WPF Restoration   \n",
       "109197  Direct and Indirect WPF Restoration   \n",
       "109198                      All Restoration   \n",
       "109199                Direct WPF Protection   \n",
       "\n",
       "                                          funding_sources  with_attenuation  \n",
       "0                                                     NaN              True  \n",
       "1                         Delaware River Restoration Fund              True  \n",
       "2       Delaware River Restoration Fund, Delaware Rive...              True  \n",
       "3       Delaware River Restoration Fund, Delaware Rive...              True  \n",
       "4       Delaware River Watershed Protection Fund - For...              True  \n",
       "...                                                   ...               ...  \n",
       "109195                                                NaN              True  \n",
       "109196                    Delaware River Restoration Fund              True  \n",
       "109197  Delaware River Restoration Fund, Delaware Rive...              True  \n",
       "109198  Delaware River Restoration Fund, Delaware Rive...              True  \n",
       "109199  Delaware River Watershed Protection Fund - For...              True  \n",
       "\n",
       "[109200 rows x 12 columns]"
      ]
     },
     "execution_count": 54,
     "metadata": {},
     "output_type": "execute_result"
    }
   ],
   "source": [
    "wikisrat_reach_concs_ps"
   ]
  },
  {
   "cell_type": "markdown",
   "id": "02abff2e",
   "metadata": {},
   "source": [
    "# Other stuff...."
   ]
  },
  {
   "cell_type": "code",
   "execution_count": 27,
   "id": "e573f8da",
   "metadata": {},
   "outputs": [
    {
     "ename": "NameError",
     "evalue": "name 'mmw_data_folder' is not defined",
     "output_type": "error",
     "traceback": [
      "\u001b[0;31m---------------------------------------------------------------------------\u001b[0m",
      "\u001b[0;31mNameError\u001b[0m                                 Traceback (most recent call last)",
      "\u001b[1;32m/Users/aaufdenkampe/Documents/Python/pollution-assessment/stage2/PA2_1_FetchData.ipynb Cell 38\u001b[0m in \u001b[0;36m<cell line: 1>\u001b[0;34m()\u001b[0m\n\u001b[0;32m----> <a href='vscode-notebook-cell:/Users/aaufdenkampe/Documents/Python/pollution-assessment/stage2/PA2_1_FetchData.ipynb#X46sZmlsZQ%3D%3D?line=0'>1</a>\u001b[0m base_sourc_df \u001b[39m=\u001b[39m pd\u001b[39m.\u001b[39mread_csv(mmw_data_folder \u001b[39m/\u001b[39m\u001b[39m'\u001b[39m\u001b[39mwikisrat_catchment_sources.csv\u001b[39m\u001b[39m'\u001b[39m)\n",
      "\u001b[0;31mNameError\u001b[0m: name 'mmw_data_folder' is not defined"
     ]
    }
   ],
   "source": [
    "\n",
    "base_sourc_df = pd.read_csv(mmw_data_folder /'wikisrat_catchment_sources.csv')\n"
   ]
  },
  {
   "cell_type": "code",
   "execution_count": 5,
   "id": "05f1cca3",
   "metadata": {},
   "outputs": [
    {
     "name": "stdout",
     "output_type": "stream",
     "text": [
      "Wall time: 2.2 s\n"
     ]
    }
   ],
   "source": [
    "%%time\n",
    "# read data from parquet files\n",
    "base_catch_gdf = gpd.read_parquet(data_folder /'base_df_catch.parquet')\n",
    "base_reach_gdf = gpd.read_parquet(data_folder /'base_df_reach.parquet')\n",
    "\n",
    "rest_catch_gdf = gpd.read_parquet(data_folder /'rest_df_catch.parquet')\n",
    "rest_reach_gdf = gpd.read_parquet(data_folder /'rest_df_reach.parquet')\n",
    "\n",
    "point_src_gdf = gpd.read_parquet(data_folder /'point_source_df.parquet')\n",
    "\n",
    "proj_prot_gdf = gpd.read_parquet(data_folder /'prot_proj_df.parquet')\n",
    "proj_rest_gdf = gpd.read_parquet(data_folder /'rest_proj_df.parquet')\n",
    "\n",
    "cluster_gdf = gpd.read_parquet(data_folder /'cluster_df.parquet')   \n",
    "\n",
    "mmw_huc12_loads_df = pd.read_parquet(data_folder /'mmw_huc12_loads_df.parquet')"
   ]
  },
  {
   "cell_type": "code",
   "execution_count": 6,
   "id": "f8e2fbcc-58b5-4ffc-b4e3-d0dc959dae49",
   "metadata": {},
   "outputs": [],
   "source": [
    "focusarea_gdf = gpd.read_parquet(data_folder /'fa_phase2_df.parquet')\n",
    "focusarea_gdf.cluster = focusarea_gdf.cluster.replace('Kirkwood Cohansey Aquifer', 'Kirkwood - Cohansey Aquifer') # update name for consistency with other files \n",
    "focusarea_gdf.set_index('name', inplace=True)"
   ]
  },
  {
   "cell_type": "markdown",
   "id": "54d438e2-71b0-4eb5-b891-5c2b15a0c3f3",
   "metadata": {},
   "source": [
    "Follow this notebook with WikiSRAT_Analysis.ipynb for analysis of fetched data. "
   ]
  }
 ],
 "metadata": {
  "interpreter": {
   "hash": "be2ad55ef110ae35ba44efbbda9909011312709cc16366f2adb735c9d7f96037"
  },
  "kernelspec": {
   "display_name": "Python 3.9.13 ('drwi_pa')",
   "language": "python",
   "name": "python3"
  },
  "language_info": {
   "codemirror_mode": {
    "name": "ipython",
    "version": 3
   },
   "file_extension": ".py",
   "mimetype": "text/x-python",
   "name": "python",
   "nbconvert_exporter": "python",
   "pygments_lexer": "ipython3",
   "version": "3.9.13"
  },
  "toc-autonumbering": true
 },
 "nbformat": 4,
 "nbformat_minor": 5
}
