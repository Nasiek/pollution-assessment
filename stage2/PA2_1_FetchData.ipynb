{
 "cells": [
  {
   "cell_type": "markdown",
   "id": "6244f984",
   "metadata": {
    "tags": []
   },
   "source": [
    "PA2 Notebook 1: Fecth Data\n",
    "===\n",
    "\n",
    "\n",
    "This is the first notebook for DRWI Pollution Assessment Stage 2 (PA2) analysis.\n",
    "It fetches and prepares all the input data and modeling necessary for the Stage 2 Assessment.\n",
    "\n",
    "The general data analysis pipeline is to:\n",
    "- Run Model My Watershed (MMW) Multi-Year Model (GWLF-E)\n",
    "  -  for every HUC12 in DRWI.\n",
    "- Proccess MMW HUC12 results through [WikiSRAT microservice](https://github.com/TheAcademyofNaturalSciences/WikiSRATMicroService) API.\n",
    "  - WikiSRAT downscales HUC12 loads to NHD+v2 catchments and route pollution through the NHD+v2 stream reach network. \n",
    "  - WikiSRAT runs group MMW HUC12 results by HUC8 to properly route loads through the stream network.\n",
    "  - Stream network routing includes attenuation due to physical and biological processes within surface waters. \n",
    "  - WikiSRAT gets run multiple times to simulate:\n",
    "    - Baseline results, with no restoration or protection practices.\n",
    "    - Restoration results, which include the  "
   ]
  },
  {
   "cell_type": "markdown",
   "id": "c1d094d8",
   "metadata": {},
   "source": [
    "# Installation and Setup\n",
    "\n",
    "Carefully follow our **[Installation Instructions](README.md#get-started)**, especially including:\n",
    "- Creating a virtual environment for this repository (step 3)"
   ]
  },
  {
   "cell_type": "markdown",
   "id": "b30b2a24",
   "metadata": {},
   "source": [
    "## Import Python Dependencies"
   ]
  },
  {
   "cell_type": "code",
   "execution_count": 1,
   "id": "45a593b9",
   "metadata": {},
   "outputs": [],
   "source": [
    "from pathlib import Path\n",
    "\n",
    "import numpy     as np\n",
    "import pandas    as pd\n",
    "import geopandas as gpd\n",
    "\n",
    "# packages for data requests\n",
    "import requests\n",
    "from requests.auth import HTTPBasicAuth\n",
    "import json"
   ]
  },
  {
   "cell_type": "code",
   "execution_count": 2,
   "id": "8b6317d0",
   "metadata": {},
   "outputs": [
    {
     "name": "stdout",
     "output_type": "stream",
     "text": [
      "Geopandas:  0.10.2\n"
     ]
    }
   ],
   "source": [
    "print(\"Geopandas: \", gpd.__version__)\n",
    "# print(\"spatialpandas: \", spd.__version__)\n",
    "# print(\"datashader: \", ds.__version__)\n",
    "# print(\"pygeos: \", pygeos.__version__)"
   ]
  },
  {
   "cell_type": "code",
   "execution_count": 3,
   "id": "d894cfe9",
   "metadata": {},
   "outputs": [
    {
     "name": "stdout",
     "output_type": "stream",
     "text": [
      "path exists, skipping /Users/aaufdenkampe/Documents/Python/pollution-assessment/src\n",
      "completed operation for: /Users/aaufdenkampe/Documents/Python/pollution-assessment/src\n"
     ]
    }
   ],
   "source": [
    "!conda-develop /Users/aaufdenkampe/Documents/Python/pollution-assessment/src"
   ]
  },
  {
   "cell_type": "code",
   "execution_count": 4,
   "id": "c4808fb8",
   "metadata": {},
   "outputs": [
    {
     "data": {
      "text/plain": [
       "['__builtins__',\n",
       " '__cached__',\n",
       " '__doc__',\n",
       " '__file__',\n",
       " '__loader__',\n",
       " '__name__',\n",
       " '__package__',\n",
       " '__path__',\n",
       " '__spec__',\n",
       " 'plot']"
      ]
     },
     "execution_count": 4,
     "metadata": {},
     "output_type": "execute_result"
    }
   ],
   "source": [
    "# Custom functions for Pollution Assessment\n",
    "import pollution_assessment as pa\n",
    "import pollution_assessment.plot\n",
    "# Confirm that the `pa.plot` sub-module is imported\n",
    "dir(pa)"
   ]
  },
  {
   "cell_type": "markdown",
   "id": "d139bc57",
   "metadata": {},
   "source": [
    "## Set Paths to Input and Output Files with `pathlib`\n",
    "\n",
    "Use the [pathlib](https://docs.python.org/3/library/pathlib.html) library (built-in to Python 3) to manage paths indpendentely of OS or environment.\n",
    "\n",
    "This blog post describes `pathlib`'s benefits relative to using the `os` library or manual approaches.\n",
    "- https://medium.com/@ageitgey/python-3-quick-tip-the-easy-way-to-deal-with-file-paths-on-windows-mac-and-linux-11a072b58d5f"
   ]
  },
  {
   "cell_type": "code",
   "execution_count": 5,
   "id": "19ea02c8",
   "metadata": {},
   "outputs": [
    {
     "data": {
      "text/plain": [
       "PosixPath('/Users/aaufdenkampe/Documents/Python/pollution-assessment/stage2')"
      ]
     },
     "execution_count": 5,
     "metadata": {},
     "output_type": "execute_result"
    }
   ],
   "source": [
    "# Find your current working directory, which should be folder for this notebook.\n",
    "Path.cwd()"
   ]
  },
  {
   "cell_type": "code",
   "execution_count": 6,
   "id": "27f8fd7c",
   "metadata": {},
   "outputs": [
    {
     "data": {
      "text/plain": [
       "PosixPath('/Users/aaufdenkampe/Documents/Python/pollution-assessment')"
      ]
     },
     "execution_count": 6,
     "metadata": {},
     "output_type": "execute_result"
    }
   ],
   "source": [
    "# Set your project directory to your local folder for your clone of this repository\n",
    "project_path = Path.cwd().parent\n",
    "project_path"
   ]
  },
  {
   "cell_type": "code",
   "execution_count": 7,
   "id": "4f3da955",
   "metadata": {},
   "outputs": [],
   "source": [
    "# Assign relative paths for data folders. End with a slash character, `/`.\n",
    "pa1_data_folder = Path('stage1/data/')\n",
    "pa2_mmw_folder  = Path('stage2/DRB_GWLFE/mmw_results/')\n",
    "pa2_wikisrat_folder = Path('stage2/wikiSRAT/')"
   ]
  },
  {
   "cell_type": "markdown",
   "id": "2bf87dcd",
   "metadata": {},
   "source": [
    "# PA2 Names & Units"
   ]
  },
  {
   "cell_type": "markdown",
   "id": "34e9b9c2-f187-4364-b6ef-da5f5ff4de28",
   "metadata": {},
   "source": [
    "## PA2 File Naming Conventions\n",
    "NOTE: For Stage 2 we changed naming slightly from Stage 1, to better facilitate building various options.\n",
    "\n",
    "Level 1 names, scale:\n",
    "* `catch` indicates catchment-level data, for the local catchment only\n",
    "* `reach` indicates reach-level data, which includes all upstream contributions\n",
    "\n",
    "Level 2 names, model:\n",
    "* `_base` indicates model baseline outputs (no conservation)\n",
    "* `_rest` indicates model with restoration reductions\n",
    "* `_prot` indicates model with protection projects, avoided loads\n",
    "\n",
    "**Clusters** are geographic priority areas, which include parts of pristine headwaters and working forests of the upper watershed, farmlands, suburbs, and industrial and urban centers downstream, and the coastal plain where the river and emerging groundwater empties into either the Delaware Bay or the Atlantic Coast.\n",
    "\n",
    "There are 8 included in the DRB:\n",
    "- Poconos-Kittaninny, \n",
    "- Upper Lehigh,  \n",
    "- New Jersey Highlands, \n",
    "- Middle Schuylkill, \n",
    "- Schuylkill Highlands, \n",
    "- Upstream Suburban Philadelphia, \n",
    "- Brandywine-Christina, \n",
    "- Kirkwood-Cohansey Aquifer. \n",
    "\n",
    "**Focus areas** are smaller geographic units within clusters. "
   ]
  },
  {
   "cell_type": "markdown",
   "id": "1097498e",
   "metadata": {},
   "source": [
    "# Create Catch & Reach Files for COMIDs & Geographies\n",
    "Read Stage 1 dataframes to get the COMIDs & geometries for NHD+v2 catchments and reaches, as a foundation for all Stage 2 work\n",
    "\n",
    "- Background: stage1/WikiSRAT_AnalysisViz.ipynb\n",
    "- Parquet to GeoDataFrame: https://geopandas.readthedocs.io/en/latest/docs/reference/api/geopandas.read_parquet.html"
   ]
  },
  {
   "cell_type": "code",
   "execution_count": 8,
   "id": "e5f13b75",
   "metadata": {},
   "outputs": [
    {
     "name": "stdout",
     "output_type": "stream",
     "text": [
      "CPU times: user 1.18 s, sys: 129 ms, total: 1.31 s\n",
      "Wall time: 1.29 s\n"
     ]
    }
   ],
   "source": [
    "%%time\n",
    "# read data from parquet files\n",
    "catch_gdf = gpd.read_parquet(project_path / pa1_data_folder /'base_df_catch.parquet')\n",
    "reach_gdf = gpd.read_parquet(project_path / pa1_data_folder /'base_df_reach.parquet')"
   ]
  },
  {
   "cell_type": "code",
   "execution_count": 9,
   "id": "d921eb2d",
   "metadata": {},
   "outputs": [
    {
     "name": "stdout",
     "output_type": "stream",
     "text": [
      "<class 'geopandas.geodataframe.GeoDataFrame'>\n",
      "Int64Index: 19496 entries, 1748535 to 932040370\n",
      "Data columns (total 19 columns):\n",
      " #   Column              Non-Null Count  Dtype   \n",
      "---  ------              --------------  -----   \n",
      " 0   tp_load             19496 non-null  float64 \n",
      " 1   tn_load             19496 non-null  float64 \n",
      " 2   tss_load            19496 non-null  float64 \n",
      " 3   catchment_hectares  19496 non-null  float64 \n",
      " 4   watershed_hectares  19496 non-null  float64 \n",
      " 5   tp_loadrate_ws      19496 non-null  float64 \n",
      " 6   tn_loadrate_ws      19496 non-null  float64 \n",
      " 7   tss_loadrate_ws     19496 non-null  float64 \n",
      " 8   maflowv             19496 non-null  float64 \n",
      " 9   geom_catchment      19496 non-null  geometry\n",
      " 10  cluster             17358 non-null  category\n",
      " 11  sub_focusarea       186 non-null    Int64   \n",
      " 12  nord                18870 non-null  Int64   \n",
      " 13  nordstop            18844 non-null  Int64   \n",
      " 14  huc12               19496 non-null  category\n",
      " 15  streamorder         19496 non-null  int64   \n",
      " 16  headwater           19496 non-null  int64   \n",
      " 17  phase               4082 non-null   category\n",
      " 18  fa_name             4082 non-null   category\n",
      "dtypes: Int64(3), category(4), float64(9), geometry(1), int64(2)\n",
      "memory usage: 2.6 MB\n"
     ]
    }
   ],
   "source": [
    "catch_gdf.info()"
   ]
  },
  {
   "cell_type": "code",
   "execution_count": 10,
   "id": "389622c8",
   "metadata": {},
   "outputs": [
    {
     "name": "stdout",
     "output_type": "stream",
     "text": [
      "<class 'geopandas.geodataframe.GeoDataFrame'>\n",
      "Int64Index: 19496 entries, 1748535 to 932040370\n",
      "Data columns (total 16 columns):\n",
      " #   Column              Non-Null Count  Dtype   \n",
      "---  ------              --------------  -----   \n",
      " 0   tp_conc             16823 non-null  float64 \n",
      " 1   tn_conc             16823 non-null  float64 \n",
      " 2   tss_conc            16823 non-null  float64 \n",
      " 3   catchment_hectares  19496 non-null  float64 \n",
      " 4   watershed_hectares  19496 non-null  float64 \n",
      " 5   maflowv             19496 non-null  float64 \n",
      " 6   geom                19494 non-null  geometry\n",
      " 7   cluster             17358 non-null  category\n",
      " 8   sub_focusarea       186 non-null    Int64   \n",
      " 9   nord                18870 non-null  Int64   \n",
      " 10  nordstop            18844 non-null  Int64   \n",
      " 11  huc12               19496 non-null  category\n",
      " 12  streamorder         19496 non-null  int64   \n",
      " 13  headwater           19496 non-null  int64   \n",
      " 14  phase               4082 non-null   category\n",
      " 15  fa_name             4082 non-null   category\n",
      "dtypes: Int64(3), category(4), float64(6), geometry(1), int64(2)\n",
      "memory usage: 2.1 MB\n"
     ]
    }
   ],
   "source": [
    "reach_gdf.info()"
   ]
  },
  {
   "cell_type": "code",
   "execution_count": 11,
   "id": "3c870bb1-2222-4a5e-baf9-93197322a074",
   "metadata": {},
   "outputs": [
    {
     "data": {
      "text/plain": [
       "array([1, 0])"
      ]
     },
     "execution_count": 11,
     "metadata": {},
     "output_type": "execute_result"
    }
   ],
   "source": [
    "reach_gdf.headwater.unique()"
   ]
  },
  {
   "cell_type": "markdown",
   "id": "25a5684b",
   "metadata": {},
   "source": [
    "## Remove Stage 1 results"
   ]
  },
  {
   "cell_type": "code",
   "execution_count": 12,
   "id": "5b9fc2ae",
   "metadata": {},
   "outputs": [],
   "source": [
    "pa1_catch_vars = ['tp_load', 'tn_load', 'tss_load',\n",
    "                  'tp_loadrate_ws', 'tn_loadrate_ws', 'tss_loadrate_ws',]\n",
    "catch_gdf.drop(pa1_catch_vars, axis='columns', inplace=True)"
   ]
  },
  {
   "cell_type": "code",
   "execution_count": 13,
   "id": "8b0a0d76",
   "metadata": {},
   "outputs": [],
   "source": [
    "pa1_reach_vars = ['tp_conc', 'tn_conc', 'tss_conc',]\n",
    "reach_gdf.drop(pa1_reach_vars, axis='columns', inplace=True)"
   ]
  },
  {
   "cell_type": "markdown",
   "id": "97de0076",
   "metadata": {
    "tags": []
   },
   "source": [
    "# Read Results from MMW-WikiSRAT\n",
    "Read Stage 2 baseline results from MMW-WikiSRAT, which were run and saved separately using  for five different scenarios differntiated by `run_group`, using the`stage2/wikiSRAT/run_srat_with_bmps.py` script by Sara Damiano.\n",
    "\n",
    "Run groups\n",
    "- 'No restoration or protection', \n",
    "- 'Direct WPF Restoration', \n",
    "- 'Direct and Indirect WPF Restoration', \n",
    "- 'All Restoration', \n",
    "- 'Direct WPF Protection'\n",
    "\n",
    "Python Docs:\n",
    "- Read CSV to Pandas: \n",
    "  - Guide: https://pandas.pydata.org/docs/user_guide/io.html#csv-text-files \n",
    "  - Ref:   https://pandas.pydata.org/docs/reference/api/pandas.read_csv.html\n",
    "- Style (4-space hanging indent; nothing on first line)\n",
    "  - https://google.github.io/styleguide/pyguide.html#34-indentation"
   ]
  },
  {
   "cell_type": "markdown",
   "id": "df5fb0f5-d39f-4df4-804c-97053c159a3c",
   "metadata": {},
   "source": [
    "## Catchment Loads\n",
    "- Loads are local loads from the land to the stream reach.\n",
    "- Load units are `kg/y`."
   ]
  },
  {
   "cell_type": "code",
   "execution_count": 14,
   "id": "7b22ffbb",
   "metadata": {},
   "outputs": [
    {
     "name": "stdout",
     "output_type": "stream",
     "text": [
      "<class 'pandas.core.frame.DataFrame'>\n",
      "RangeIndex: 109200 entries, 0 to 109199\n",
      "Data columns (total 12 columns):\n",
      " #   Column            Non-Null Count   Dtype   \n",
      "---  ------            --------------   -----   \n",
      " 0   Unnamed: 0        109200 non-null  int64   \n",
      " 1   Source            109200 non-null  category\n",
      " 2   Sediment          109200 non-null  float64 \n",
      " 3   TotalN            109200 non-null  float64 \n",
      " 4   TotalP            109200 non-null  float64 \n",
      " 5   comid             109200 non-null  int64   \n",
      " 6   huc               109200 non-null  category\n",
      " 7   gwlfe_endpoint    109200 non-null  category\n",
      " 8   huc_level         109200 non-null  int64   \n",
      " 9   run_group         109200 non-null  category\n",
      " 10  funding_sources   87360 non-null   category\n",
      " 11  with_attenuation  109200 non-null  bool    \n",
      "dtypes: bool(1), category(5), float64(3), int64(3)\n",
      "memory usage: 5.7 MB\n"
     ]
    }
   ],
   "source": [
    "# Catchment Total Loads\n",
    "catch_loads = pd.read_csv(\n",
    "    project_path / 'stage2/wikiSRAT/' / 'catchment_total_local_load.csv',\n",
    "    dtype = {\n",
    "        'Source': 'category',\n",
    "        'huc': 'category',\n",
    "        'gwlfe_endpoint': 'category',\n",
    "        'run_group': 'category',\n",
    "        'funding_sources': 'category',\n",
    "        'with_attenuation': bool,\n",
    "    }\n",
    ")\n",
    "catch_loads.info()  # Not setting index, as each `comid` has 5 runs"
   ]
  },
  {
   "cell_type": "code",
   "execution_count": 15,
   "id": "72387fe7",
   "metadata": {},
   "outputs": [
    {
     "data": {
      "text/plain": [
       "['Total Local Load']\n",
       "Categories (1, object): ['Total Local Load']"
      ]
     },
     "execution_count": 15,
     "metadata": {},
     "output_type": "execute_result"
    }
   ],
   "source": [
    "# Confirm only total local loads\n",
    "catch_loads.Source.unique()"
   ]
  },
  {
   "cell_type": "code",
   "execution_count": 16,
   "id": "18b954dc",
   "metadata": {},
   "outputs": [
    {
     "data": {
      "text/plain": [
       "['No restoration or protection', 'Direct WPF Restoration', 'Direct and Indirect WPF Restoration', 'All Restoration', 'Direct WPF Protection']\n",
       "Categories (5, object): ['All Restoration', 'Direct WPF Protection', 'Direct WPF Restoration', 'Direct and Indirect WPF Restoration', 'No restoration or protection']"
      ]
     },
     "execution_count": 16,
     "metadata": {},
     "output_type": "execute_result"
    }
   ],
   "source": [
    "# List Run Groups\n",
    "catch_loads.run_group.unique()"
   ]
  },
  {
   "cell_type": "code",
   "execution_count": 17,
   "id": "2b812dc5",
   "metadata": {},
   "outputs": [
    {
     "data": {
      "text/plain": [
       "[NaN, 'Delaware River Restoration Fund', 'Delaware River Restoration Fund, Delaware Riv..., 'Delaware River Restoration Fund, Delaware Riv..., 'Delaware River Watershed Protection Fund - Fo...]\n",
       "Categories (4, object): ['Delaware River Restoration Fund', 'Delaware River Restoration Fund, Delaware Riv..., 'Delaware River Restoration Fund, Delaware Riv..., 'Delaware River Watershed Protection Fund - Fo...]"
      ]
     },
     "execution_count": 17,
     "metadata": {},
     "output_type": "execute_result"
    }
   ],
   "source": [
    "# List Funding Sources per run group\n",
    "catch_loads.funding_sources.unique()"
   ]
  },
  {
   "cell_type": "code",
   "execution_count": 20,
   "id": "f3cfbb5a-f00c-4b60-a900-9a11cde7b144",
   "metadata": {},
   "outputs": [
    {
     "name": "stdout",
     "output_type": "stream",
     "text": [
      "<class 'pandas.core.frame.DataFrame'>\n",
      "RangeIndex: 371280 entries, 0 to 371279\n",
      "Data columns (total 12 columns):\n",
      " #   Column            Non-Null Count   Dtype   \n",
      "---  ------            --------------   -----   \n",
      " 0   Unnamed: 0        371280 non-null  int64   \n",
      " 1   Source            371280 non-null  category\n",
      " 2   Sediment          279948 non-null  float64 \n",
      " 3   TotalN            367308 non-null  float64 \n",
      " 4   TotalP            367308 non-null  float64 \n",
      " 5   comid             371280 non-null  int64   \n",
      " 6   huc               371280 non-null  category\n",
      " 7   gwlfe_endpoint    371280 non-null  category\n",
      " 8   huc_level         371280 non-null  int64   \n",
      " 9   run_group         371280 non-null  category\n",
      " 10  funding_sources   0 non-null       category\n",
      " 11  with_attenuation  371280 non-null  bool    \n",
      "dtypes: bool(1), category(5), float64(3), int64(3)\n",
      "memory usage: 19.5 MB\n"
     ]
    }
   ],
   "source": [
    "# Catchment Point source loads\n",
    "catch_loads_sources = pd.read_csv(\n",
    "    project_path / 'stage2/wikiSRAT/catchment_sources_local_load.csv',\n",
    "    dtype = {\n",
    "        'Source': 'category',\n",
    "        'huc': 'category',\n",
    "        'gwlfe_endpoint': 'category',\n",
    "        'run_group': 'category',\n",
    "        'funding_sources': 'category',\n",
    "        'with_attenuation': bool,\n",
    "    }\n",
    ")\n",
    "catch_loads_sources.info()"
   ]
  },
  {
   "cell_type": "code",
   "execution_count": 21,
   "id": "5423f29c-0d7f-4d63-9c07-34ed119f63d8",
   "metadata": {},
   "outputs": [
    {
     "data": {
      "text/plain": [
       "['Barren Areas',\n",
       " 'Cropland',\n",
       " 'Farm Animals',\n",
       " 'Hay/Pasture',\n",
       " 'High-Density Mixed',\n",
       " 'Low-Density Mixed',\n",
       " 'Low-Density Open Space',\n",
       " 'Medium-Density Mixed',\n",
       " 'Open Land',\n",
       " 'Point Sources',\n",
       " 'Reach Concentration',\n",
       " 'Septic Systems',\n",
       " 'Stream Bank Erosion',\n",
       " 'Subsurface Flow',\n",
       " 'Total Local Load',\n",
       " 'Wetlands',\n",
       " 'Wooded Areas']"
      ]
     },
     "execution_count": 21,
     "metadata": {},
     "output_type": "execute_result"
    }
   ],
   "source": [
    "list(catch_loads_sources.Source.unique())"
   ]
  },
  {
   "cell_type": "code",
   "execution_count": 22,
   "id": "87fd8551-5a42-416b-91cc-da2624f1d133",
   "metadata": {},
   "outputs": [
    {
     "name": "stdout",
     "output_type": "stream",
     "text": [
      "<class 'pandas.core.frame.DataFrame'>\n",
      "Int64Index: 21840 entries, 9 to 371272\n",
      "Data columns (total 12 columns):\n",
      " #   Column            Non-Null Count  Dtype   \n",
      "---  ------            --------------  -----   \n",
      " 0   Unnamed: 0        21840 non-null  int64   \n",
      " 1   Source            21840 non-null  category\n",
      " 2   Sediment          0 non-null      float64 \n",
      " 3   TotalN            21840 non-null  float64 \n",
      " 4   TotalP            21840 non-null  float64 \n",
      " 5   comid             21840 non-null  int64   \n",
      " 6   huc               21840 non-null  category\n",
      " 7   gwlfe_endpoint    21840 non-null  category\n",
      " 8   huc_level         21840 non-null  int64   \n",
      " 9   run_group         21840 non-null  category\n",
      " 10  funding_sources   0 non-null      category\n",
      " 11  with_attenuation  21840 non-null  bool    \n",
      "dtypes: bool(1), category(5), float64(3), int64(3)\n",
      "memory usage: 1.3 MB\n"
     ]
    }
   ],
   "source": [
    "catch_loads_ps = catch_loads_sources.loc[catch_loads_sources.Source == 'Point Sources']\n",
    "catch_loads_ps.info()"
   ]
  },
  {
   "cell_type": "code",
   "execution_count": 23,
   "id": "778c34db-60f0-4a5a-9208-366da906d69b",
   "metadata": {},
   "outputs": [
    {
     "data": {
      "text/plain": [
       "21840"
      ]
     },
     "execution_count": 23,
     "metadata": {},
     "output_type": "execute_result"
    }
   ],
   "source": [
    "# Confirm that there are no duplicate comids (i.e. same unique number as data frame)\n",
    "catch_loads_ps.comid.unique().size"
   ]
  },
  {
   "cell_type": "code",
   "execution_count": 24,
   "id": "0c8b3da9-4203-4edf-8322-5be636237962",
   "metadata": {},
   "outputs": [],
   "source": [
    "catch_loads_ps.set_index('comid', inplace=True)"
   ]
  },
  {
   "cell_type": "code",
   "execution_count": 25,
   "id": "eafbccd5-0036-47e3-94d7-65009536d9eb",
   "metadata": {},
   "outputs": [
    {
     "data": {
      "text/plain": [
       "Int64Index([ 2612780,  2612782,  2612792,  2612794,  2612920,  2612948,\n",
       "             2612950,  2612952,  2612790,  2612800,\n",
       "            ...\n",
       "             9889028,  9889030,  9889032,  9889034,  9889036,  9891532,\n",
       "            10466473, 10466475, 10466691, 27081103],\n",
       "           dtype='int64', name='comid', length=21840)"
      ]
     },
     "execution_count": 25,
     "metadata": {},
     "output_type": "execute_result"
    }
   ],
   "source": [
    "catch_loads_ps.index"
   ]
  },
  {
   "cell_type": "markdown",
   "id": "457a2800",
   "metadata": {},
   "source": [
    "## Reach Concentrations\n",
    "- Concentrations are average annual concentrations leaving the stream reach, and including all upstream loads and attenuation (if turned on).\n",
    "- Concentration units are `mg/L`."
   ]
  },
  {
   "cell_type": "code",
   "execution_count": 26,
   "id": "f0d7503b-f961-4023-8c93-6a3e43f2b6a2",
   "metadata": {},
   "outputs": [
    {
     "name": "stdout",
     "output_type": "stream",
     "text": [
      "<class 'pandas.core.frame.DataFrame'>\n",
      "RangeIndex: 109200 entries, 0 to 109199\n",
      "Data columns (total 12 columns):\n",
      " #   Column            Non-Null Count   Dtype   \n",
      "---  ------            --------------   -----   \n",
      " 0   Unnamed: 0        109200 non-null  int64   \n",
      " 1   Source            109200 non-null  category\n",
      " 2   Sediment          89340 non-null   float64 \n",
      " 3   TotalN            89340 non-null   float64 \n",
      " 4   TotalP            89340 non-null   float64 \n",
      " 5   comid             109200 non-null  int64   \n",
      " 6   huc               109200 non-null  category\n",
      " 7   gwlfe_endpoint    109200 non-null  category\n",
      " 8   huc_level         109200 non-null  int64   \n",
      " 9   run_group         109200 non-null  category\n",
      " 10  funding_sources   87360 non-null   category\n",
      " 11  with_attenuation  109200 non-null  bool    \n",
      "dtypes: bool(1), category(5), float64(3), int64(3)\n",
      "memory usage: 5.7 MB\n"
     ]
    }
   ],
   "source": [
    "# Reach total concentrations\n",
    "reach_concs = pd.read_csv(\n",
    "    project_path / 'stage2/wikiSRAT/reach_concentrations.csv',\n",
    "    dtype = {\n",
    "        'Source': 'category',\n",
    "        'huc': 'category',\n",
    "        'gwlfe_endpoint': 'category',\n",
    "        'run_group': 'category',\n",
    "        'funding_sources': 'category',\n",
    "        'with_attenuation': bool,\n",
    "    }\n",
    ")\n",
    "reach_concs.info()"
   ]
  },
  {
   "cell_type": "code",
   "execution_count": 27,
   "id": "a31710ec-7a42-4f0f-9965-256a493d7bc8",
   "metadata": {},
   "outputs": [
    {
     "data": {
      "text/plain": [
       "['Reach Concentration']\n",
       "Categories (1, object): ['Reach Concentration']"
      ]
     },
     "execution_count": 27,
     "metadata": {},
     "output_type": "execute_result"
    }
   ],
   "source": [
    "# Confirm only total local loads\n",
    "reach_concs.Source.unique()"
   ]
  },
  {
   "cell_type": "code",
   "execution_count": 28,
   "id": "5671d41a-3153-4e77-8f06-27ee0035273c",
   "metadata": {},
   "outputs": [
    {
     "data": {
      "text/plain": [
       "['No restoration or protection', 'Direct WPF Restoration', 'Direct and Indirect WPF Restoration', 'All Restoration', 'Direct WPF Protection']\n",
       "Categories (5, object): ['All Restoration', 'Direct WPF Protection', 'Direct WPF Restoration', 'Direct and Indirect WPF Restoration', 'No restoration or protection']"
      ]
     },
     "execution_count": 28,
     "metadata": {},
     "output_type": "execute_result"
    }
   ],
   "source": [
    "# List Run Groups\n",
    "reach_concs.run_group.unique()"
   ]
  },
  {
   "cell_type": "code",
   "execution_count": 30,
   "id": "a4400144-9331-4d58-90db-69286101affc",
   "metadata": {},
   "outputs": [
    {
     "name": "stdout",
     "output_type": "stream",
     "text": [
      "<class 'pandas.core.frame.DataFrame'>\n",
      "RangeIndex: 109200 entries, 0 to 109199\n",
      "Data columns (total 12 columns):\n",
      " #   Column            Non-Null Count   Dtype   \n",
      "---  ------            --------------   -----   \n",
      " 0   Unnamed: 0        109200 non-null  int64   \n",
      " 1   Source            109200 non-null  category\n",
      " 2   Sediment          89340 non-null   float64 \n",
      " 3   TotalN            89340 non-null   float64 \n",
      " 4   TotalP            89340 non-null   float64 \n",
      " 5   comid             109200 non-null  int64   \n",
      " 6   huc               109200 non-null  category\n",
      " 7   gwlfe_endpoint    109200 non-null  category\n",
      " 8   huc_level         109200 non-null  int64   \n",
      " 9   run_group         109200 non-null  category\n",
      " 10  funding_sources   87360 non-null   category\n",
      " 11  with_attenuation  109200 non-null  bool    \n",
      "dtypes: bool(1), category(5), float64(3), int64(3)\n",
      "memory usage: 5.7 MB\n"
     ]
    }
   ],
   "source": [
    "# Reach Point Source Concentrations\n",
    "reach_concs_ps_runs = pd.read_csv(\n",
    "    project_path / 'stage2/wikiSRAT/reach_pt_source_conc.csv',\n",
    "    dtype = {\n",
    "        'Source': 'category',\n",
    "        'huc': 'category',\n",
    "        'gwlfe_endpoint': 'category',\n",
    "        'run_group': 'category',\n",
    "        'funding_sources': 'category',\n",
    "        'with_attenuation': bool,\n",
    "    }\n",
    ")\n",
    "reach_concs_ps_runs.info()"
   ]
  },
  {
   "cell_type": "code",
   "execution_count": 31,
   "id": "bc49ca2b-7344-4d24-aaa9-34e8abcb55e2",
   "metadata": {},
   "outputs": [
    {
     "name": "stdout",
     "output_type": "stream",
     "text": [
      "<class 'pandas.core.frame.DataFrame'>\n",
      "Int64Index: 21840 entries, 0 to 109195\n",
      "Data columns (total 12 columns):\n",
      " #   Column            Non-Null Count  Dtype   \n",
      "---  ------            --------------  -----   \n",
      " 0   Unnamed: 0        21840 non-null  int64   \n",
      " 1   Source            21840 non-null  category\n",
      " 2   Sediment          17868 non-null  float64 \n",
      " 3   TotalN            17868 non-null  float64 \n",
      " 4   TotalP            17868 non-null  float64 \n",
      " 5   comid             21840 non-null  int64   \n",
      " 6   huc               21840 non-null  category\n",
      " 7   gwlfe_endpoint    21840 non-null  category\n",
      " 8   huc_level         21840 non-null  int64   \n",
      " 9   run_group         21840 non-null  category\n",
      " 10  funding_sources   0 non-null      category\n",
      " 11  with_attenuation  21840 non-null  bool    \n",
      "dtypes: bool(1), category(5), float64(3), int64(3)\n",
      "memory usage: 1.3 MB\n"
     ]
    }
   ],
   "source": [
    "reach_concs_ps = reach_concs_ps_runs.loc[reach_concs_ps_runs.run_group == 'No restoration or protection']\n",
    "reach_concs_ps.info()"
   ]
  },
  {
   "cell_type": "code",
   "execution_count": 32,
   "id": "dcd8e766-0a9d-4c18-bc41-71f44b052afe",
   "metadata": {},
   "outputs": [],
   "source": [
    "reach_concs_ps.set_index('comid', inplace=True)"
   ]
  },
  {
   "cell_type": "code",
   "execution_count": 33,
   "id": "4b22bd99-abb1-4f49-934c-7bc51bf78a76",
   "metadata": {},
   "outputs": [
    {
     "data": {
      "text/plain": [
       "Int64Index([ 2612780,  2612782,  2612792,  2612794,  2612920,  2612948,\n",
       "             2612950,  2612952,  2612790,  2612800,\n",
       "            ...\n",
       "             9889028,  9889030,  9889032,  9889034,  9889036,  9891532,\n",
       "            10466473, 10466475, 10466691, 27081103],\n",
       "           dtype='int64', name='comid', length=21840)"
      ]
     },
     "execution_count": 33,
     "metadata": {},
     "output_type": "execute_result"
    }
   ],
   "source": [
    "reach_concs_ps.index"
   ]
  },
  {
   "cell_type": "markdown",
   "id": "f086db53",
   "metadata": {},
   "source": [
    "# Add Stage 2 data to Stage 1 dataframe"
   ]
  }
 ],
 "metadata": {
  "interpreter": {
   "hash": "be2ad55ef110ae35ba44efbbda9909011312709cc16366f2adb735c9d7f96037"
  },
  "kernelspec": {
   "display_name": "Python 3 (ipykernel)",
   "language": "python",
   "name": "python3"
  },
  "language_info": {
   "codemirror_mode": {
    "name": "ipython",
    "version": 3
   },
   "file_extension": ".py",
   "mimetype": "text/x-python",
   "name": "python",
   "nbconvert_exporter": "python",
   "pygments_lexer": "ipython3",
   "version": "3.9.13"
  },
  "toc-autonumbering": true,
  "toc-showcode": false,
  "toc-showmarkdowntxt": false,
  "toc-showtags": false
 },
 "nbformat": 4,
 "nbformat_minor": 5
}
