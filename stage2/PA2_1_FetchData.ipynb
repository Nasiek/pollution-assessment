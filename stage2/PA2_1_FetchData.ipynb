{
 "cells": [
  {
   "cell_type": "markdown",
   "id": "6244f984",
   "metadata": {
    "tags": []
   },
   "source": [
    "PA2 Notebook 1: Fecth Data\n",
    "===\n",
    "\n",
    "\n",
    "This is the first notebook for DRWI Pollution Assessment Stage 2 (PA2) analysis.\n",
    "It fetches and prepares all the input data and modeling necessary for the Stage 2 Assessment.\n",
    "\n",
    "The general data fectching pipeline is to:\n",
    "- Run Model My Watershed (MMW) Multi-Year Model (GWLF-E)\n",
    "  -  for every HUC12 in DRWI.\n",
    "- Proccess MMW HUC12 results through [WikiSRAT microservice](https://github.com/TheAcademyofNaturalSciences/WikiSRATMicroService) API.\n",
    "  - WikiSRAT downscales HUC12 loads to NHD+v2 catchments and route pollution through the NHD+v2 stream reach network. \n",
    "  - WikiSRAT runs group MMW HUC12 results by HUC8 to properly route loads through the stream network.\n",
    "  - Stream network routing includes attenuation due to physical and biological processes within surface waters. \n",
    "  - WikiSRAT gets run multiple times to simulate:\n",
    "    - Baseline results, with no restoration or protection practices.\n",
    "    - Restoration results, which include 3 run groups\n",
    "    - Protection results\n",
    "- Read, organize, and save combined results for PA2 analysis calculations (Notebook 2)."
   ]
  },
  {
   "cell_type": "markdown",
   "id": "c1d094d8",
   "metadata": {},
   "source": [
    "# Installation and Setup\n",
    "\n",
    "Carefully follow our **[Installation Instructions](README.md#get-started)**, especially including:\n",
    "- Creating a virtual environment for this repository (step 3)"
   ]
  },
  {
   "cell_type": "markdown",
   "id": "b30b2a24",
   "metadata": {},
   "source": [
    "## Import Python Dependencies"
   ]
  },
  {
   "cell_type": "code",
   "execution_count": 1,
   "id": "45a593b9",
   "metadata": {},
   "outputs": [],
   "source": [
    "from pathlib import Path\n",
    "\n",
    "import pandas    as pd\n",
    "import geopandas as gpd\n",
    "\n",
    "# packages for data requests\n",
    "import requests\n",
    "from requests.auth import HTTPBasicAuth\n",
    "import json\n",
    "\n",
    "# To save to Parquet files\n",
    "import pyarrow"
   ]
  },
  {
   "cell_type": "code",
   "execution_count": 2,
   "id": "d894cfe9",
   "metadata": {},
   "outputs": [
    {
     "name": "stdout",
     "output_type": "stream",
     "text": [
      "path exists, skipping /Users/aaufdenkampe/Documents/Python/pollution-assessment/src\n",
      "completed operation for: /Users/aaufdenkampe/Documents/Python/pollution-assessment/src\n"
     ]
    }
   ],
   "source": [
    "!conda-develop /Users/aaufdenkampe/Documents/Python/pollution-assessment/src"
   ]
  },
  {
   "cell_type": "code",
   "execution_count": 3,
   "id": "c4808fb8",
   "metadata": {},
   "outputs": [
    {
     "data": {
      "text/plain": [
       "['__builtins__',\n",
       " '__cached__',\n",
       " '__doc__',\n",
       " '__file__',\n",
       " '__loader__',\n",
       " '__name__',\n",
       " '__package__',\n",
       " '__path__',\n",
       " '__spec__',\n",
       " 'calc',\n",
       " 'plot']"
      ]
     },
     "execution_count": 3,
     "metadata": {},
     "output_type": "execute_result"
    }
   ],
   "source": [
    "# Custom functions for Pollution Assessment\n",
    "import pollution_assessment as pa\n",
    "import pollution_assessment.calc\n",
    "import pollution_assessment.plot\n",
    "# Confirm that sub-modules are imported\n",
    "dir(pa)"
   ]
  },
  {
   "cell_type": "markdown",
   "id": "d139bc57",
   "metadata": {},
   "source": [
    "## Set Paths to Input and Output Files with `pathlib`\n",
    "\n",
    "Use the [pathlib](https://docs.python.org/3/library/pathlib.html) library (built-in to Python 3) to manage paths indpendentely of OS or environment.\n",
    "\n",
    "This blog post describes `pathlib`'s benefits relative to using the `os` library or manual approaches.\n",
    "- https://medium.com/@ageitgey/python-3-quick-tip-the-easy-way-to-deal-with-file-paths-on-windows-mac-and-linux-11a072b58d5f"
   ]
  },
  {
   "cell_type": "code",
   "execution_count": 4,
   "id": "19ea02c8",
   "metadata": {},
   "outputs": [
    {
     "data": {
      "text/plain": [
       "PosixPath('/Users/aaufdenkampe/Documents/Python/pollution-assessment/stage2')"
      ]
     },
     "execution_count": 4,
     "metadata": {},
     "output_type": "execute_result"
    }
   ],
   "source": [
    "# Find your current working directory, which should be folder for this notebook.\n",
    "Path.cwd()"
   ]
  },
  {
   "cell_type": "code",
   "execution_count": 5,
   "id": "27f8fd7c",
   "metadata": {},
   "outputs": [
    {
     "data": {
      "text/plain": [
       "PosixPath('/Users/aaufdenkampe/Documents/Python/pollution-assessment')"
      ]
     },
     "execution_count": 5,
     "metadata": {},
     "output_type": "execute_result"
    }
   ],
   "source": [
    "# Set your project directory to your local folder for your clone of this repository\n",
    "project_path = Path.cwd().parent\n",
    "project_path"
   ]
  },
  {
   "cell_type": "code",
   "execution_count": 6,
   "id": "4f3da955",
   "metadata": {},
   "outputs": [],
   "source": [
    "# Assign relative paths for data INPUT folders. \n",
    "# For folders, end with a slash character, `/`.\n",
    "pa1_data_folder = Path('stage1/data/')\n",
    "pa2_mmw_folder  = Path('stage2/DRB_GWLFE/mmw_results/')\n",
    "pa2_wikisrat_folder = Path('stage2/wikiSRAT/')"
   ]
  },
  {
   "cell_type": "code",
   "execution_count": 7,
   "id": "ab8ec3bc-359a-4fd3-88ac-1d6d452c4d67",
   "metadata": {},
   "outputs": [],
   "source": [
    "# Assign relative paths for the data OUTPUT folder.\n",
    "pa2_data_output_folder = Path('stage2/data_output')"
   ]
  },
  {
   "cell_type": "markdown",
   "id": "2bf87dcd",
   "metadata": {},
   "source": [
    "# PA2 Names & Units"
   ]
  },
  {
   "cell_type": "markdown",
   "id": "34e9b9c2-f187-4364-b6ef-da5f5ff4de28",
   "metadata": {},
   "source": [
    "## PA2 File Naming Conventions\n",
    "NOTE: For Stage 2 we changed naming slightly from Stage 1, to better facilitate building various options.\n",
    "\n",
    "Level 1 names, scale:\n",
    "* `reach` indicates reach-level data, which includes all upstream contributions\n",
    "* `catch` indicates catchment-level data, for the local catchment only\n",
    "\n",
    "Level 2 names, model:\n",
    "* `_base` indicates model baseline outputs (no conservation)\n",
    "* `_rest` indicates model with restoration reductions\n",
    "* `_prot` indicates model with protection projects, avoided loads\n",
    "\n",
    "**Clusters** are geographic priority areas, which include parts of pristine headwaters and working forests of the upper watershed, farmlands, suburbs, and industrial and urban centers downstream, and the coastal plain where the river and emerging groundwater empties into either the Delaware Bay or the Atlantic Coast.\n",
    "\n",
    "There are 8 included in the DRB:\n",
    "- Poconos-Kittaninny, \n",
    "- Upper Lehigh,  \n",
    "- New Jersey Highlands, \n",
    "- Middle Schuylkill, \n",
    "- Schuylkill Highlands, \n",
    "- Upstream Suburban Philadelphia, \n",
    "- Brandywine-Christina, \n",
    "- Kirkwood-Cohansey Aquifer. \n",
    "\n",
    "**Focus areas** are smaller geographic units within clusters. "
   ]
  },
  {
   "cell_type": "markdown",
   "id": "1097498e",
   "metadata": {},
   "source": [
    "# Create GeoDataframes for COMID Catchment & Reach Geometries\n",
    "Read Stage 1 dataframes to get the COMIDs & geometries for NHD+v2 catchments and reaches, as a foundation for all Stage 2 work\n",
    "\n",
    "- Background: stage1/WikiSRAT_AnalysisViz.ipynb\n",
    "- Parquet to GeoDataFrame: https://geopandas.readthedocs.io/en/latest/docs/reference/api/geopandas.read_parquet.html"
   ]
  },
  {
   "cell_type": "code",
   "execution_count": 8,
   "id": "e5f13b75",
   "metadata": {},
   "outputs": [
    {
     "name": "stdout",
     "output_type": "stream",
     "text": [
      "CPU times: user 1.13 s, sys: 105 ms, total: 1.24 s\n",
      "Wall time: 1.22 s\n"
     ]
    }
   ],
   "source": [
    "%%time\n",
    "# read data from parquet files\n",
    "catch_gdf = gpd.read_parquet(project_path / pa1_data_folder /'base_df_catch.parquet')\n",
    "reach_gdf = gpd.read_parquet(project_path / pa1_data_folder /'base_df_reach.parquet')"
   ]
  },
  {
   "cell_type": "code",
   "execution_count": 9,
   "id": "d921eb2d",
   "metadata": {},
   "outputs": [
    {
     "name": "stdout",
     "output_type": "stream",
     "text": [
      "<class 'geopandas.geodataframe.GeoDataFrame'>\n",
      "Int64Index: 19496 entries, 1748535 to 932040370\n",
      "Data columns (total 19 columns):\n",
      " #   Column              Non-Null Count  Dtype   \n",
      "---  ------              --------------  -----   \n",
      " 0   tp_load             19496 non-null  float64 \n",
      " 1   tn_load             19496 non-null  float64 \n",
      " 2   tss_load            19496 non-null  float64 \n",
      " 3   catchment_hectares  19496 non-null  float64 \n",
      " 4   watershed_hectares  19496 non-null  float64 \n",
      " 5   tp_loadrate_ws      19496 non-null  float64 \n",
      " 6   tn_loadrate_ws      19496 non-null  float64 \n",
      " 7   tss_loadrate_ws     19496 non-null  float64 \n",
      " 8   maflowv             19496 non-null  float64 \n",
      " 9   geom_catchment      19496 non-null  geometry\n",
      " 10  cluster             17358 non-null  category\n",
      " 11  sub_focusarea       186 non-null    Int64   \n",
      " 12  nord                18870 non-null  Int64   \n",
      " 13  nordstop            18844 non-null  Int64   \n",
      " 14  huc12               19496 non-null  category\n",
      " 15  streamorder         19496 non-null  int64   \n",
      " 16  headwater           19496 non-null  int64   \n",
      " 17  phase               4082 non-null   category\n",
      " 18  fa_name             4082 non-null   category\n",
      "dtypes: Int64(3), category(4), float64(9), geometry(1), int64(2)\n",
      "memory usage: 2.6 MB\n"
     ]
    }
   ],
   "source": [
    "catch_gdf.info()"
   ]
  },
  {
   "cell_type": "code",
   "execution_count": 10,
   "id": "389622c8",
   "metadata": {},
   "outputs": [
    {
     "name": "stdout",
     "output_type": "stream",
     "text": [
      "<class 'geopandas.geodataframe.GeoDataFrame'>\n",
      "Int64Index: 19496 entries, 1748535 to 932040370\n",
      "Data columns (total 16 columns):\n",
      " #   Column              Non-Null Count  Dtype   \n",
      "---  ------              --------------  -----   \n",
      " 0   tp_conc             16823 non-null  float64 \n",
      " 1   tn_conc             16823 non-null  float64 \n",
      " 2   tss_conc            16823 non-null  float64 \n",
      " 3   catchment_hectares  19496 non-null  float64 \n",
      " 4   watershed_hectares  19496 non-null  float64 \n",
      " 5   maflowv             19496 non-null  float64 \n",
      " 6   geom                19494 non-null  geometry\n",
      " 7   cluster             17358 non-null  category\n",
      " 8   sub_focusarea       186 non-null    Int64   \n",
      " 9   nord                18870 non-null  Int64   \n",
      " 10  nordstop            18844 non-null  Int64   \n",
      " 11  huc12               19496 non-null  category\n",
      " 12  streamorder         19496 non-null  int64   \n",
      " 13  headwater           19496 non-null  int64   \n",
      " 14  phase               4082 non-null   category\n",
      " 15  fa_name             4082 non-null   category\n",
      "dtypes: Int64(3), category(4), float64(6), geometry(1), int64(2)\n",
      "memory usage: 2.1 MB\n"
     ]
    }
   ],
   "source": [
    "reach_gdf.info()"
   ]
  },
  {
   "cell_type": "code",
   "execution_count": 11,
   "id": "3c870bb1-2222-4a5e-baf9-93197322a074",
   "metadata": {},
   "outputs": [
    {
     "data": {
      "text/plain": [
       "array([1, 0])"
      ]
     },
     "execution_count": 11,
     "metadata": {},
     "output_type": "execute_result"
    }
   ],
   "source": [
    "reach_gdf.headwater.unique()"
   ]
  },
  {
   "cell_type": "markdown",
   "id": "25a5684b",
   "metadata": {},
   "source": [
    "## Remove Stage 1 results"
   ]
  },
  {
   "cell_type": "code",
   "execution_count": 12,
   "id": "5b9fc2ae",
   "metadata": {},
   "outputs": [],
   "source": [
    "pa1_catch_vars = ['tp_load', 'tn_load', 'tss_load',\n",
    "                  'tp_loadrate_ws', 'tn_loadrate_ws', 'tss_loadrate_ws',]\n",
    "catch_gdf.drop(pa1_catch_vars, axis='columns', inplace=True)"
   ]
  },
  {
   "cell_type": "code",
   "execution_count": 13,
   "id": "8b0a0d76",
   "metadata": {},
   "outputs": [],
   "source": [
    "pa1_reach_vars = ['tp_conc', 'tn_conc', 'tss_conc',]\n",
    "reach_gdf.drop(pa1_reach_vars, axis='columns', inplace=True)"
   ]
  },
  {
   "cell_type": "markdown",
   "id": "30282615",
   "metadata": {},
   "source": [
    "## Set CRS"
   ]
  },
  {
   "cell_type": "code",
   "execution_count": 14,
   "id": "2f2374f5",
   "metadata": {},
   "outputs": [
    {
     "data": {
      "text/plain": [
       "<Derived Projected CRS: EPSG:32618>\n",
       "Name: WGS 84 / UTM zone 18N\n",
       "Axis Info [cartesian]:\n",
       "- E[east]: Easting (metre)\n",
       "- N[north]: Northing (metre)\n",
       "Area of Use:\n",
       "- name: Between 78°W and 72°W, northern hemisphere between equator and 84°N, onshore and offshore. Bahamas. Canada - Nunavut; Ontario; Quebec. Colombia. Cuba. Ecuador. Greenland. Haiti. Jamica. Panama. Turks and Caicos Islands. United States (USA). Venezuela.\n",
       "- bounds: (-78.0, 0.0, -72.0, 84.0)\n",
       "Coordinate Operation:\n",
       "- name: UTM zone 18N\n",
       "- method: Transverse Mercator\n",
       "Datum: World Geodetic System 1984 ensemble\n",
       "- Ellipsoid: WGS 84\n",
       "- Prime Meridian: Greenwich"
      ]
     },
     "execution_count": 14,
     "metadata": {},
     "output_type": "execute_result"
    }
   ],
   "source": [
    "# Check CRS, which appears preserved in Parquet file metadata.\n",
    "catch_gdf.crs"
   ]
  },
  {
   "cell_type": "code",
   "execution_count": 15,
   "id": "31d4491b",
   "metadata": {},
   "outputs": [
    {
     "name": "stdout",
     "output_type": "stream",
     "text": [
      "CPU times: user 5.89 s, sys: 52.5 ms, total: 5.95 s\n",
      "Wall time: 5.98 s\n"
     ]
    }
   ],
   "source": [
    "%%time\n",
    "# Test method to reproject CRS to 3857, which is useful for visualization\n",
    "catch_gdf.to_crs(epsg=3857, inplace=True)\n",
    "reach_gdf.to_crs(epsg=3857, inplace=True)"
   ]
  },
  {
   "cell_type": "code",
   "execution_count": 16,
   "id": "a61e25ca",
   "metadata": {},
   "outputs": [
    {
     "data": {
      "text/plain": [
       "<Derived Projected CRS: EPSG:3857>\n",
       "Name: WGS 84 / Pseudo-Mercator\n",
       "Axis Info [cartesian]:\n",
       "- X[east]: Easting (metre)\n",
       "- Y[north]: Northing (metre)\n",
       "Area of Use:\n",
       "- name: World between 85.06°S and 85.06°N.\n",
       "- bounds: (-180.0, -85.06, 180.0, 85.06)\n",
       "Coordinate Operation:\n",
       "- name: Popular Visualisation Pseudo-Mercator\n",
       "- method: Popular Visualisation Pseudo Mercator\n",
       "Datum: World Geodetic System 1984 ensemble\n",
       "- Ellipsoid: WGS 84\n",
       "- Prime Meridian: Greenwich"
      ]
     },
     "execution_count": 16,
     "metadata": {},
     "output_type": "execute_result"
    }
   ],
   "source": [
    "# Check CRS\n",
    "catch_gdf.crs"
   ]
  },
  {
   "cell_type": "code",
   "execution_count": 17,
   "id": "1a5f6ccf",
   "metadata": {},
   "outputs": [
    {
     "data": {
      "text/plain": [
       "<Derived Projected CRS: EPSG:3857>\n",
       "Name: WGS 84 / Pseudo-Mercator\n",
       "Axis Info [cartesian]:\n",
       "- X[east]: Easting (metre)\n",
       "- Y[north]: Northing (metre)\n",
       "Area of Use:\n",
       "- name: World between 85.06°S and 85.06°N.\n",
       "- bounds: (-180.0, -85.06, 180.0, 85.06)\n",
       "Coordinate Operation:\n",
       "- name: Popular Visualisation Pseudo-Mercator\n",
       "- method: Popular Visualisation Pseudo Mercator\n",
       "Datum: World Geodetic System 1984 ensemble\n",
       "- Ellipsoid: WGS 84\n",
       "- Prime Meridian: Greenwich"
      ]
     },
     "execution_count": 17,
     "metadata": {},
     "output_type": "execute_result"
    }
   ],
   "source": [
    "reach_gdf.crs"
   ]
  },
  {
   "cell_type": "markdown",
   "id": "97de0076",
   "metadata": {
    "tags": []
   },
   "source": [
    "# Read Results from MMW-WikiSRAT\n",
    "Read Stage 2 baseline results from MMW-WikiSRAT, which were run and saved separately using  for five different scenarios differntiated by `run_group`, using the`stage2/wikiSRAT/run_srat_with_bmps.py` script by Sara Damiano.\n",
    "\n",
    "Run groups\n",
    "- 'No restoration or protection', \n",
    "- 'Direct WPF Restoration', \n",
    "- 'Direct and Indirect WPF Restoration', \n",
    "- 'All Restoration', \n",
    "- 'Direct WPF Protection'\n",
    "\n",
    "Python Docs:\n",
    "- Read CSV to Pandas: \n",
    "  - Guide: https://pandas.pydata.org/docs/user_guide/io.html#csv-text-files \n",
    "  - Ref:   https://pandas.pydata.org/docs/reference/api/pandas.read_csv.html\n",
    "- Style (4-space hanging indent; nothing on first line)\n",
    "  - https://google.github.io/styleguide/pyguide.html#34-indentation"
   ]
  },
  {
   "cell_type": "markdown",
   "id": "457a2800",
   "metadata": {},
   "source": [
    "## Reach Concentrations\n",
    "- Concentrations are average annual concentrations leaving the stream reach, and including all upstream loads and attenuation (if turned on).\n",
    "- Concentration units are `mg/L`."
   ]
  },
  {
   "cell_type": "code",
   "execution_count": 29,
   "id": "f0d7503b-f961-4023-8c93-6a3e43f2b6a2",
   "metadata": {},
   "outputs": [
    {
     "name": "stdout",
     "output_type": "stream",
     "text": [
      "<class 'pandas.core.frame.DataFrame'>\n",
      "RangeIndex: 109200 entries, 0 to 109199\n",
      "Data columns (total 12 columns):\n",
      " #   Column            Non-Null Count   Dtype   \n",
      "---  ------            --------------   -----   \n",
      " 0   Unnamed: 0        109200 non-null  int64   \n",
      " 1   Source            109200 non-null  category\n",
      " 2   Sediment          89340 non-null   float64 \n",
      " 3   TotalN            89340 non-null   float64 \n",
      " 4   TotalP            89340 non-null   float64 \n",
      " 5   comid             109200 non-null  int64   \n",
      " 6   huc               109200 non-null  category\n",
      " 7   gwlfe_endpoint    109200 non-null  category\n",
      " 8   huc_level         109200 non-null  int64   \n",
      " 9   run_group         109200 non-null  category\n",
      " 10  funding_sources   87360 non-null   category\n",
      " 11  with_attenuation  109200 non-null  bool    \n",
      "dtypes: bool(1), category(5), float64(3), int64(3)\n",
      "memory usage: 5.7 MB\n"
     ]
    }
   ],
   "source": [
    "# Reach total concentrations\n",
    "reach_concs = pd.read_csv(\n",
    "    project_path / 'stage2/wikiSRAT/reach_concentrations.csv',\n",
    "    dtype = {\n",
    "        'Source': 'category',\n",
    "        'huc': 'category',\n",
    "        'gwlfe_endpoint': 'category',\n",
    "        'run_group': 'category',\n",
    "        'funding_sources': 'category',\n",
    "        'with_attenuation': bool,\n",
    "    }\n",
    ")\n",
    "reach_concs.info()"
   ]
  },
  {
   "cell_type": "code",
   "execution_count": 30,
   "id": "a31710ec-7a42-4f0f-9965-256a493d7bc8",
   "metadata": {},
   "outputs": [
    {
     "data": {
      "text/plain": [
       "['Reach Concentration']\n",
       "Categories (1, object): ['Reach Concentration']"
      ]
     },
     "execution_count": 30,
     "metadata": {},
     "output_type": "execute_result"
    }
   ],
   "source": [
    "# Confirm only total concentration\n",
    "reach_concs.Source.unique()"
   ]
  },
  {
   "cell_type": "code",
   "execution_count": 31,
   "id": "5671d41a-3153-4e77-8f06-27ee0035273c",
   "metadata": {},
   "outputs": [
    {
     "data": {
      "text/plain": [
       "['No restoration or protection', 'Direct WPF Restoration', 'Direct and Indirect WPF Restoration', 'All Restoration', 'Direct WPF Protection']\n",
       "Categories (5, object): ['All Restoration', 'Direct WPF Protection', 'Direct WPF Restoration', 'Direct and Indirect WPF Restoration', 'No restoration or protection']"
      ]
     },
     "execution_count": 31,
     "metadata": {},
     "output_type": "execute_result"
    }
   ],
   "source": [
    "# List Run Groups\n",
    "reach_concs.run_group.unique()"
   ]
  },
  {
   "cell_type": "code",
   "execution_count": 32,
   "id": "a4400144-9331-4d58-90db-69286101affc",
   "metadata": {},
   "outputs": [
    {
     "name": "stdout",
     "output_type": "stream",
     "text": [
      "<class 'pandas.core.frame.DataFrame'>\n",
      "RangeIndex: 109200 entries, 0 to 109199\n",
      "Data columns (total 12 columns):\n",
      " #   Column            Non-Null Count   Dtype   \n",
      "---  ------            --------------   -----   \n",
      " 0   Unnamed: 0        109200 non-null  int64   \n",
      " 1   Source            109200 non-null  category\n",
      " 2   Sediment          89340 non-null   float64 \n",
      " 3   TotalN            89340 non-null   float64 \n",
      " 4   TotalP            89340 non-null   float64 \n",
      " 5   comid             109200 non-null  int64   \n",
      " 6   huc               109200 non-null  category\n",
      " 7   gwlfe_endpoint    109200 non-null  category\n",
      " 8   huc_level         109200 non-null  int64   \n",
      " 9   run_group         109200 non-null  category\n",
      " 10  funding_sources   87360 non-null   category\n",
      " 11  with_attenuation  109200 non-null  bool    \n",
      "dtypes: bool(1), category(5), float64(3), int64(3)\n",
      "memory usage: 5.7 MB\n"
     ]
    }
   ],
   "source": [
    "# Reach Point Source Concentrations\n",
    "reach_concs_ps_runs = pd.read_csv(\n",
    "    project_path / 'stage2/wikiSRAT/reach_pt_source_conc.csv',\n",
    "    dtype = {\n",
    "        'Source': 'category',\n",
    "        'huc': 'category',\n",
    "        'gwlfe_endpoint': 'category',\n",
    "        'run_group': 'category',\n",
    "        'funding_sources': 'category',\n",
    "        'with_attenuation': bool,\n",
    "    }\n",
    ")\n",
    "reach_concs_ps_runs.info()"
   ]
  },
  {
   "cell_type": "code",
   "execution_count": 33,
   "id": "042c84d9-2f4c-4deb-bf52-c370855b4333",
   "metadata": {},
   "outputs": [
    {
     "data": {
      "text/plain": [
       "['Point Source Derived Concentration']\n",
       "Categories (1, object): ['Point Source Derived Concentration']"
      ]
     },
     "execution_count": 33,
     "metadata": {},
     "output_type": "execute_result"
    }
   ],
   "source": [
    "# Confirm Source = 'Point Source Derived Concentration'\n",
    "reach_concs_ps_runs.Source.unique()"
   ]
  },
  {
   "cell_type": "code",
   "execution_count": 34,
   "id": "e699f3dc-787b-488c-995d-97d4ae8b1c87",
   "metadata": {},
   "outputs": [
    {
     "data": {
      "text/plain": [
       "['No restoration or protection', 'Direct WPF Restoration', 'Direct and Indirect WPF Restoration', 'All Restoration', 'Direct WPF Protection']\n",
       "Categories (5, object): ['All Restoration', 'Direct WPF Protection', 'Direct WPF Restoration', 'Direct and Indirect WPF Restoration', 'No restoration or protection']"
      ]
     },
     "execution_count": 34,
     "metadata": {},
     "output_type": "execute_result"
    }
   ],
   "source": [
    "# NOTE that this contains all run groups\n",
    "# We only need baseline results, as all have identical values\n",
    "reach_concs_ps_runs.run_group.unique()"
   ]
  },
  {
   "cell_type": "code",
   "execution_count": 35,
   "id": "8345128e-5c87-4d49-9f4d-8d4064f0aa80",
   "metadata": {},
   "outputs": [
    {
     "name": "stdout",
     "output_type": "stream",
     "text": [
      "<class 'pandas.core.frame.DataFrame'>\n",
      "Int64Index: 131040 entries, 0 to 109195\n",
      "Data columns (total 12 columns):\n",
      " #   Column            Non-Null Count   Dtype   \n",
      "---  ------            --------------   -----   \n",
      " 0   Unnamed: 0        131040 non-null  int64   \n",
      " 1   Source            131040 non-null  object  \n",
      " 2   Sediment          107208 non-null  float64 \n",
      " 3   TotalN            107208 non-null  float64 \n",
      " 4   TotalP            107208 non-null  float64 \n",
      " 5   comid             131040 non-null  int64   \n",
      " 6   huc               131040 non-null  category\n",
      " 7   gwlfe_endpoint    131040 non-null  category\n",
      " 8   huc_level         131040 non-null  int64   \n",
      " 9   run_group         131040 non-null  category\n",
      " 10  funding_sources   87360 non-null   category\n",
      " 11  with_attenuation  131040 non-null  bool    \n",
      "dtypes: bool(1), category(4), float64(3), int64(3), object(1)\n",
      "memory usage: 8.8+ MB\n",
      "CPU times: user 29.8 ms, sys: 2.48 ms, total: 32.3 ms\n",
      "Wall time: 31.3 ms\n"
     ]
    }
   ],
   "source": [
    "%%time\n",
    "# Concatentate Point Sources data to main dataframe\n",
    "frames = [reach_concs,\n",
    "          reach_concs_ps_runs.loc[reach_concs_ps_runs.run_group == 'No restoration or protection'],\n",
    "         ]\n",
    "reach_concs_df = pd.concat(frames)\n",
    "reach_concs_df.info()"
   ]
  },
  {
   "cell_type": "code",
   "execution_count": 36,
   "id": "899aeba5-025f-42a8-8582-1c11d053f7de",
   "metadata": {},
   "outputs": [
    {
     "data": {
      "text/plain": [
       "Reach Concentration                   109200\n",
       "Point Source Derived Concentration     21840\n",
       "Name: Source, dtype: int64"
      ]
     },
     "execution_count": 36,
     "metadata": {},
     "output_type": "execute_result"
    }
   ],
   "source": [
    "# Confirm two source types\n",
    "reach_concs_df.Source.value_counts()"
   ]
  },
  {
   "cell_type": "code",
   "execution_count": 37,
   "id": "85805e16-731b-4ce7-a235-ab1c8bbcb485",
   "metadata": {},
   "outputs": [],
   "source": [
    "# Drop duplicate column\n",
    "reach_concs_df.drop('Unnamed: 0', axis='columns', inplace=True)"
   ]
  },
  {
   "cell_type": "code",
   "execution_count": 38,
   "id": "1e406f8d-a0f5-4e43-bfc6-6ad05a9f1796",
   "metadata": {},
   "outputs": [
    {
     "data": {
      "text/html": [
       "<div>\n",
       "<style scoped>\n",
       "    .dataframe tbody tr th:only-of-type {\n",
       "        vertical-align: middle;\n",
       "    }\n",
       "\n",
       "    .dataframe tbody tr th {\n",
       "        vertical-align: top;\n",
       "    }\n",
       "\n",
       "    .dataframe thead th {\n",
       "        text-align: right;\n",
       "    }\n",
       "</style>\n",
       "<table border=\"1\" class=\"dataframe\">\n",
       "  <thead>\n",
       "    <tr style=\"text-align: right;\">\n",
       "      <th></th>\n",
       "      <th>Source</th>\n",
       "      <th>Sediment</th>\n",
       "      <th>TotalN</th>\n",
       "      <th>TotalP</th>\n",
       "      <th>comid</th>\n",
       "      <th>huc</th>\n",
       "      <th>gwlfe_endpoint</th>\n",
       "      <th>huc_level</th>\n",
       "      <th>run_group</th>\n",
       "      <th>funding_sources</th>\n",
       "      <th>with_attenuation</th>\n",
       "    </tr>\n",
       "  </thead>\n",
       "  <tbody>\n",
       "    <tr>\n",
       "      <th>0</th>\n",
       "      <td>Reach Concentration</td>\n",
       "      <td>17.456653</td>\n",
       "      <td>0.240183</td>\n",
       "      <td>0.022851</td>\n",
       "      <td>2612780</td>\n",
       "      <td>020401010101</td>\n",
       "      <td>wikiSRAT</td>\n",
       "      <td>12</td>\n",
       "      <td>No restoration or protection</td>\n",
       "      <td>NaN</td>\n",
       "      <td>True</td>\n",
       "    </tr>\n",
       "    <tr>\n",
       "      <th>1</th>\n",
       "      <td>Reach Concentration</td>\n",
       "      <td>17.456653</td>\n",
       "      <td>0.240183</td>\n",
       "      <td>0.022851</td>\n",
       "      <td>2612780</td>\n",
       "      <td>020401010101</td>\n",
       "      <td>wikiSRAT</td>\n",
       "      <td>12</td>\n",
       "      <td>Direct WPF Restoration</td>\n",
       "      <td>Delaware River Restoration Fund</td>\n",
       "      <td>True</td>\n",
       "    </tr>\n",
       "    <tr>\n",
       "      <th>2</th>\n",
       "      <td>Reach Concentration</td>\n",
       "      <td>17.456653</td>\n",
       "      <td>0.240183</td>\n",
       "      <td>0.022851</td>\n",
       "      <td>2612780</td>\n",
       "      <td>020401010101</td>\n",
       "      <td>wikiSRAT</td>\n",
       "      <td>12</td>\n",
       "      <td>Direct and Indirect WPF Restoration</td>\n",
       "      <td>Delaware River Restoration Fund, Delaware Rive...</td>\n",
       "      <td>True</td>\n",
       "    </tr>\n",
       "    <tr>\n",
       "      <th>3</th>\n",
       "      <td>Reach Concentration</td>\n",
       "      <td>17.456559</td>\n",
       "      <td>0.240182</td>\n",
       "      <td>0.022851</td>\n",
       "      <td>2612780</td>\n",
       "      <td>020401010101</td>\n",
       "      <td>wikiSRAT</td>\n",
       "      <td>12</td>\n",
       "      <td>All Restoration</td>\n",
       "      <td>Delaware River Restoration Fund, Delaware Rive...</td>\n",
       "      <td>True</td>\n",
       "    </tr>\n",
       "    <tr>\n",
       "      <th>4</th>\n",
       "      <td>Reach Concentration</td>\n",
       "      <td>17.456653</td>\n",
       "      <td>0.240183</td>\n",
       "      <td>0.022851</td>\n",
       "      <td>2612780</td>\n",
       "      <td>020401010101</td>\n",
       "      <td>wikiSRAT</td>\n",
       "      <td>12</td>\n",
       "      <td>Direct WPF Protection</td>\n",
       "      <td>Delaware River Watershed Protection Fund - For...</td>\n",
       "      <td>True</td>\n",
       "    </tr>\n",
       "    <tr>\n",
       "      <th>...</th>\n",
       "      <td>...</td>\n",
       "      <td>...</td>\n",
       "      <td>...</td>\n",
       "      <td>...</td>\n",
       "      <td>...</td>\n",
       "      <td>...</td>\n",
       "      <td>...</td>\n",
       "      <td>...</td>\n",
       "      <td>...</td>\n",
       "      <td>...</td>\n",
       "      <td>...</td>\n",
       "    </tr>\n",
       "    <tr>\n",
       "      <th>109175</th>\n",
       "      <td>Point Source Derived Concentration</td>\n",
       "      <td>0.000000</td>\n",
       "      <td>0.000000</td>\n",
       "      <td>0.000000</td>\n",
       "      <td>9891532</td>\n",
       "      <td>020403040501</td>\n",
       "      <td>wikiSRAT</td>\n",
       "      <td>12</td>\n",
       "      <td>No restoration or protection</td>\n",
       "      <td>NaN</td>\n",
       "      <td>True</td>\n",
       "    </tr>\n",
       "    <tr>\n",
       "      <th>109180</th>\n",
       "      <td>Point Source Derived Concentration</td>\n",
       "      <td>0.000000</td>\n",
       "      <td>0.000000</td>\n",
       "      <td>0.000000</td>\n",
       "      <td>10466473</td>\n",
       "      <td>020403040501</td>\n",
       "      <td>wikiSRAT</td>\n",
       "      <td>12</td>\n",
       "      <td>No restoration or protection</td>\n",
       "      <td>NaN</td>\n",
       "      <td>True</td>\n",
       "    </tr>\n",
       "    <tr>\n",
       "      <th>109185</th>\n",
       "      <td>Point Source Derived Concentration</td>\n",
       "      <td>0.000000</td>\n",
       "      <td>0.000000</td>\n",
       "      <td>0.000000</td>\n",
       "      <td>10466475</td>\n",
       "      <td>020403040501</td>\n",
       "      <td>wikiSRAT</td>\n",
       "      <td>12</td>\n",
       "      <td>No restoration or protection</td>\n",
       "      <td>NaN</td>\n",
       "      <td>True</td>\n",
       "    </tr>\n",
       "    <tr>\n",
       "      <th>109190</th>\n",
       "      <td>Point Source Derived Concentration</td>\n",
       "      <td>0.000000</td>\n",
       "      <td>0.000000</td>\n",
       "      <td>0.000000</td>\n",
       "      <td>10466691</td>\n",
       "      <td>020403040501</td>\n",
       "      <td>wikiSRAT</td>\n",
       "      <td>12</td>\n",
       "      <td>No restoration or protection</td>\n",
       "      <td>NaN</td>\n",
       "      <td>True</td>\n",
       "    </tr>\n",
       "    <tr>\n",
       "      <th>109195</th>\n",
       "      <td>Point Source Derived Concentration</td>\n",
       "      <td>0.000000</td>\n",
       "      <td>0.000000</td>\n",
       "      <td>0.000000</td>\n",
       "      <td>27081103</td>\n",
       "      <td>020403040501</td>\n",
       "      <td>wikiSRAT</td>\n",
       "      <td>12</td>\n",
       "      <td>No restoration or protection</td>\n",
       "      <td>NaN</td>\n",
       "      <td>True</td>\n",
       "    </tr>\n",
       "  </tbody>\n",
       "</table>\n",
       "<p>131040 rows × 11 columns</p>\n",
       "</div>"
      ],
      "text/plain": [
       "                                    Source   Sediment    TotalN    TotalP  \\\n",
       "0                      Reach Concentration  17.456653  0.240183  0.022851   \n",
       "1                      Reach Concentration  17.456653  0.240183  0.022851   \n",
       "2                      Reach Concentration  17.456653  0.240183  0.022851   \n",
       "3                      Reach Concentration  17.456559  0.240182  0.022851   \n",
       "4                      Reach Concentration  17.456653  0.240183  0.022851   \n",
       "...                                    ...        ...       ...       ...   \n",
       "109175  Point Source Derived Concentration   0.000000  0.000000  0.000000   \n",
       "109180  Point Source Derived Concentration   0.000000  0.000000  0.000000   \n",
       "109185  Point Source Derived Concentration   0.000000  0.000000  0.000000   \n",
       "109190  Point Source Derived Concentration   0.000000  0.000000  0.000000   \n",
       "109195  Point Source Derived Concentration   0.000000  0.000000  0.000000   \n",
       "\n",
       "           comid           huc gwlfe_endpoint  huc_level  \\\n",
       "0        2612780  020401010101       wikiSRAT         12   \n",
       "1        2612780  020401010101       wikiSRAT         12   \n",
       "2        2612780  020401010101       wikiSRAT         12   \n",
       "3        2612780  020401010101       wikiSRAT         12   \n",
       "4        2612780  020401010101       wikiSRAT         12   \n",
       "...          ...           ...            ...        ...   \n",
       "109175   9891532  020403040501       wikiSRAT         12   \n",
       "109180  10466473  020403040501       wikiSRAT         12   \n",
       "109185  10466475  020403040501       wikiSRAT         12   \n",
       "109190  10466691  020403040501       wikiSRAT         12   \n",
       "109195  27081103  020403040501       wikiSRAT         12   \n",
       "\n",
       "                                  run_group  \\\n",
       "0              No restoration or protection   \n",
       "1                    Direct WPF Restoration   \n",
       "2       Direct and Indirect WPF Restoration   \n",
       "3                           All Restoration   \n",
       "4                     Direct WPF Protection   \n",
       "...                                     ...   \n",
       "109175         No restoration or protection   \n",
       "109180         No restoration or protection   \n",
       "109185         No restoration or protection   \n",
       "109190         No restoration or protection   \n",
       "109195         No restoration or protection   \n",
       "\n",
       "                                          funding_sources  with_attenuation  \n",
       "0                                                     NaN              True  \n",
       "1                         Delaware River Restoration Fund              True  \n",
       "2       Delaware River Restoration Fund, Delaware Rive...              True  \n",
       "3       Delaware River Restoration Fund, Delaware Rive...              True  \n",
       "4       Delaware River Watershed Protection Fund - For...              True  \n",
       "...                                                   ...               ...  \n",
       "109175                                                NaN              True  \n",
       "109180                                                NaN              True  \n",
       "109185                                                NaN              True  \n",
       "109190                                                NaN              True  \n",
       "109195                                                NaN              True  \n",
       "\n",
       "[131040 rows x 11 columns]"
      ]
     },
     "execution_count": 38,
     "metadata": {},
     "output_type": "execute_result"
    }
   ],
   "source": [
    "reach_concs_df"
   ]
  },
  {
   "cell_type": "markdown",
   "id": "df5fb0f5-d39f-4df4-804c-97053c159a3c",
   "metadata": {},
   "source": [
    "## Catchment Loads\n",
    "- Loads are local loads from the land to the stream reach.\n",
    "- Load units are `kg/y`."
   ]
  },
  {
   "cell_type": "code",
   "execution_count": 18,
   "id": "7b22ffbb",
   "metadata": {},
   "outputs": [
    {
     "name": "stdout",
     "output_type": "stream",
     "text": [
      "<class 'pandas.core.frame.DataFrame'>\n",
      "RangeIndex: 109200 entries, 0 to 109199\n",
      "Data columns (total 12 columns):\n",
      " #   Column            Non-Null Count   Dtype   \n",
      "---  ------            --------------   -----   \n",
      " 0   Unnamed: 0        109200 non-null  int64   \n",
      " 1   Source            109200 non-null  category\n",
      " 2   Sediment          109200 non-null  float64 \n",
      " 3   TotalN            109200 non-null  float64 \n",
      " 4   TotalP            109200 non-null  float64 \n",
      " 5   comid             109200 non-null  int64   \n",
      " 6   huc               109200 non-null  category\n",
      " 7   gwlfe_endpoint    109200 non-null  category\n",
      " 8   huc_level         109200 non-null  int64   \n",
      " 9   run_group         109200 non-null  category\n",
      " 10  funding_sources   87360 non-null   category\n",
      " 11  with_attenuation  109200 non-null  bool    \n",
      "dtypes: bool(1), category(5), float64(3), int64(3)\n",
      "memory usage: 5.7 MB\n"
     ]
    }
   ],
   "source": [
    "# Catchment 'Total Local Load' for every COMID and Run Group\n",
    "catch_loads = pd.read_csv(\n",
    "    project_path / 'stage2/wikiSRAT/' / 'catchment_total_local_load.csv',\n",
    "    dtype = {\n",
    "        'Source': 'category',\n",
    "        'huc': 'category',\n",
    "        'gwlfe_endpoint': 'category',\n",
    "        'run_group': 'category',\n",
    "        'funding_sources': 'category',\n",
    "        'with_attenuation': bool,\n",
    "    }\n",
    ")\n",
    "catch_loads.info()  # Not setting index, as each `comid` has 5 runs"
   ]
  },
  {
   "cell_type": "code",
   "execution_count": 19,
   "id": "72387fe7",
   "metadata": {},
   "outputs": [
    {
     "data": {
      "text/plain": [
       "['Total Local Load']\n",
       "Categories (1, object): ['Total Local Load']"
      ]
     },
     "execution_count": 19,
     "metadata": {},
     "output_type": "execute_result"
    }
   ],
   "source": [
    "# Confirm only total local loads\n",
    "catch_loads.Source.unique()"
   ]
  },
  {
   "cell_type": "code",
   "execution_count": 20,
   "id": "18b954dc",
   "metadata": {},
   "outputs": [
    {
     "data": {
      "text/plain": [
       "['No restoration or protection', 'Direct WPF Restoration', 'Direct and Indirect WPF Restoration', 'All Restoration', 'Direct WPF Protection']\n",
       "Categories (5, object): ['All Restoration', 'Direct WPF Protection', 'Direct WPF Restoration', 'Direct and Indirect WPF Restoration', 'No restoration or protection']"
      ]
     },
     "execution_count": 20,
     "metadata": {},
     "output_type": "execute_result"
    }
   ],
   "source": [
    "# List Run Groups\n",
    "catch_loads.run_group.unique()"
   ]
  },
  {
   "cell_type": "code",
   "execution_count": 21,
   "id": "2b812dc5",
   "metadata": {},
   "outputs": [
    {
     "data": {
      "text/plain": [
       "[NaN, 'Delaware River Restoration Fund', 'Delaware River Restoration Fund, Delaware Riv..., 'Delaware River Restoration Fund, Delaware Riv..., 'Delaware River Watershed Protection Fund - Fo...]\n",
       "Categories (4, object): ['Delaware River Restoration Fund', 'Delaware River Restoration Fund, Delaware Riv..., 'Delaware River Restoration Fund, Delaware Riv..., 'Delaware River Watershed Protection Fund - Fo...]"
      ]
     },
     "execution_count": 21,
     "metadata": {},
     "output_type": "execute_result"
    }
   ],
   "source": [
    "# List Funding Sources per run group\n",
    "catch_loads.funding_sources.unique()"
   ]
  },
  {
   "cell_type": "code",
   "execution_count": 22,
   "id": "f3cfbb5a-f00c-4b60-a900-9a11cde7b144",
   "metadata": {},
   "outputs": [
    {
     "name": "stdout",
     "output_type": "stream",
     "text": [
      "<class 'pandas.core.frame.DataFrame'>\n",
      "RangeIndex: 371280 entries, 0 to 371279\n",
      "Data columns (total 12 columns):\n",
      " #   Column            Non-Null Count   Dtype   \n",
      "---  ------            --------------   -----   \n",
      " 0   Unnamed: 0        371280 non-null  int64   \n",
      " 1   Source            371280 non-null  category\n",
      " 2   Sediment          279948 non-null  float64 \n",
      " 3   TotalN            367308 non-null  float64 \n",
      " 4   TotalP            367308 non-null  float64 \n",
      " 5   comid             371280 non-null  int64   \n",
      " 6   huc               371280 non-null  category\n",
      " 7   gwlfe_endpoint    371280 non-null  category\n",
      " 8   huc_level         371280 non-null  int64   \n",
      " 9   run_group         371280 non-null  category\n",
      " 10  funding_sources   0 non-null       category\n",
      " 11  with_attenuation  371280 non-null  bool    \n",
      "dtypes: bool(1), category(5), float64(3), int64(3)\n",
      "memory usage: 19.5 MB\n"
     ]
    }
   ],
   "source": [
    "# Catchment loads by 'Source' for Run Group 0 (baseline)\n",
    "catch_loads_sources = pd.read_csv(\n",
    "    project_path / 'stage2/wikiSRAT/catchment_sources_local_load.csv',\n",
    "    dtype = {\n",
    "        'Source': 'category',\n",
    "        'huc': 'category',\n",
    "        'gwlfe_endpoint': 'category',\n",
    "        'run_group': 'category',\n",
    "        'funding_sources': 'category',\n",
    "        'with_attenuation': bool,\n",
    "    }\n",
    ")\n",
    "catch_loads_sources.info()"
   ]
  },
  {
   "cell_type": "code",
   "execution_count": 23,
   "id": "b66a6bba-c32f-41c9-9a23-1d0cd1e5d0fe",
   "metadata": {},
   "outputs": [
    {
     "data": {
      "text/plain": [
       "['No restoration or protection']\n",
       "Categories (1, object): ['No restoration or protection']"
      ]
     },
     "execution_count": 23,
     "metadata": {},
     "output_type": "execute_result"
    }
   ],
   "source": [
    "# Confirm Run Group is for baseline results (i.e. 'No restoration or protection')\n",
    "catch_loads_sources.run_group.unique()"
   ]
  },
  {
   "cell_type": "code",
   "execution_count": 24,
   "id": "5423f29c-0d7f-4d63-9c07-34ed119f63d8",
   "metadata": {},
   "outputs": [
    {
     "data": {
      "text/plain": [
       "['Barren Areas',\n",
       " 'Cropland',\n",
       " 'Farm Animals',\n",
       " 'Hay/Pasture',\n",
       " 'High-Density Mixed',\n",
       " 'Low-Density Mixed',\n",
       " 'Low-Density Open Space',\n",
       " 'Medium-Density Mixed',\n",
       " 'Open Land',\n",
       " 'Point Sources',\n",
       " 'Reach Concentration',\n",
       " 'Septic Systems',\n",
       " 'Stream Bank Erosion',\n",
       " 'Subsurface Flow',\n",
       " 'Total Local Load',\n",
       " 'Wetlands',\n",
       " 'Wooded Areas']"
      ]
     },
     "execution_count": 24,
     "metadata": {},
     "output_type": "execute_result"
    }
   ],
   "source": [
    "# Get Source names, for 'Point Sources'\n",
    "list(catch_loads_sources.Source.unique())"
   ]
  },
  {
   "cell_type": "code",
   "execution_count": 25,
   "id": "7b5b0e82-8d5a-420e-91f0-c280bb7987ff",
   "metadata": {},
   "outputs": [
    {
     "name": "stdout",
     "output_type": "stream",
     "text": [
      "<class 'pandas.core.frame.DataFrame'>\n",
      "Int64Index: 131040 entries, 0 to 371272\n",
      "Data columns (total 12 columns):\n",
      " #   Column            Non-Null Count   Dtype   \n",
      "---  ------            --------------   -----   \n",
      " 0   Unnamed: 0        131040 non-null  int64   \n",
      " 1   Source            131040 non-null  object  \n",
      " 2   Sediment          109200 non-null  float64 \n",
      " 3   TotalN            131040 non-null  float64 \n",
      " 4   TotalP            131040 non-null  float64 \n",
      " 5   comid             131040 non-null  int64   \n",
      " 6   huc               131040 non-null  category\n",
      " 7   gwlfe_endpoint    131040 non-null  category\n",
      " 8   huc_level         131040 non-null  int64   \n",
      " 9   run_group         131040 non-null  object  \n",
      " 10  funding_sources   87360 non-null   category\n",
      " 11  with_attenuation  131040 non-null  bool    \n",
      "dtypes: bool(1), category(3), float64(3), int64(3), object(2)\n",
      "memory usage: 9.6+ MB\n",
      "CPU times: user 45.3 ms, sys: 1.69 ms, total: 47 ms\n",
      "Wall time: 46.2 ms\n"
     ]
    }
   ],
   "source": [
    "%%time\n",
    "# Concatentate Point Sources data to main dataframe\n",
    "frames = [catch_loads,\n",
    "          catch_loads_sources.loc[catch_loads_sources.Source == 'Point Sources'],\n",
    "         ]\n",
    "catch_loads_df = pd.concat(frames)\n",
    "catch_loads_df.info()"
   ]
  },
  {
   "cell_type": "code",
   "execution_count": 26,
   "id": "4f23ebab-3b8f-4ed3-b89c-5ab05ed03a29",
   "metadata": {},
   "outputs": [
    {
     "data": {
      "text/plain": [
       "Total Local Load    109200\n",
       "Point Sources        21840\n",
       "Name: Source, dtype: int64"
      ]
     },
     "execution_count": 26,
     "metadata": {},
     "output_type": "execute_result"
    }
   ],
   "source": [
    "# Confirm two source types\n",
    "catch_loads_df.Source.value_counts()"
   ]
  },
  {
   "cell_type": "code",
   "execution_count": 27,
   "id": "041b979e-fefb-4216-a9dd-29ab43344622",
   "metadata": {},
   "outputs": [],
   "source": [
    "# Drop duplicate column\n",
    "catch_loads_df.drop('Unnamed: 0', axis='columns', inplace=True)"
   ]
  },
  {
   "cell_type": "code",
   "execution_count": 28,
   "id": "dcb3966b-3ac6-41db-8e96-437a27898ee5",
   "metadata": {},
   "outputs": [
    {
     "data": {
      "text/html": [
       "<div>\n",
       "<style scoped>\n",
       "    .dataframe tbody tr th:only-of-type {\n",
       "        vertical-align: middle;\n",
       "    }\n",
       "\n",
       "    .dataframe tbody tr th {\n",
       "        vertical-align: top;\n",
       "    }\n",
       "\n",
       "    .dataframe thead th {\n",
       "        text-align: right;\n",
       "    }\n",
       "</style>\n",
       "<table border=\"1\" class=\"dataframe\">\n",
       "  <thead>\n",
       "    <tr style=\"text-align: right;\">\n",
       "      <th></th>\n",
       "      <th>Source</th>\n",
       "      <th>Sediment</th>\n",
       "      <th>TotalN</th>\n",
       "      <th>TotalP</th>\n",
       "      <th>comid</th>\n",
       "      <th>huc</th>\n",
       "      <th>gwlfe_endpoint</th>\n",
       "      <th>huc_level</th>\n",
       "      <th>run_group</th>\n",
       "      <th>funding_sources</th>\n",
       "      <th>with_attenuation</th>\n",
       "    </tr>\n",
       "  </thead>\n",
       "  <tbody>\n",
       "    <tr>\n",
       "      <th>0</th>\n",
       "      <td>Total Local Load</td>\n",
       "      <td>30060.129179</td>\n",
       "      <td>413.59125</td>\n",
       "      <td>39.349002</td>\n",
       "      <td>2612780</td>\n",
       "      <td>020401010101</td>\n",
       "      <td>wikiSRAT</td>\n",
       "      <td>12</td>\n",
       "      <td>No restoration or protection</td>\n",
       "      <td>NaN</td>\n",
       "      <td>True</td>\n",
       "    </tr>\n",
       "    <tr>\n",
       "      <th>1</th>\n",
       "      <td>Total Local Load</td>\n",
       "      <td>30060.129179</td>\n",
       "      <td>413.59125</td>\n",
       "      <td>39.349002</td>\n",
       "      <td>2612780</td>\n",
       "      <td>020401010101</td>\n",
       "      <td>wikiSRAT</td>\n",
       "      <td>12</td>\n",
       "      <td>Direct WPF Restoration</td>\n",
       "      <td>Delaware River Restoration Fund</td>\n",
       "      <td>True</td>\n",
       "    </tr>\n",
       "    <tr>\n",
       "      <th>2</th>\n",
       "      <td>Total Local Load</td>\n",
       "      <td>30060.129179</td>\n",
       "      <td>413.59125</td>\n",
       "      <td>39.349002</td>\n",
       "      <td>2612780</td>\n",
       "      <td>020401010101</td>\n",
       "      <td>wikiSRAT</td>\n",
       "      <td>12</td>\n",
       "      <td>Direct and Indirect WPF Restoration</td>\n",
       "      <td>Delaware River Restoration Fund, Delaware Rive...</td>\n",
       "      <td>True</td>\n",
       "    </tr>\n",
       "    <tr>\n",
       "      <th>3</th>\n",
       "      <td>Total Local Load</td>\n",
       "      <td>30059.966727</td>\n",
       "      <td>413.59035</td>\n",
       "      <td>39.348603</td>\n",
       "      <td>2612780</td>\n",
       "      <td>020401010101</td>\n",
       "      <td>wikiSRAT</td>\n",
       "      <td>12</td>\n",
       "      <td>All Restoration</td>\n",
       "      <td>Delaware River Restoration Fund, Delaware Rive...</td>\n",
       "      <td>True</td>\n",
       "    </tr>\n",
       "    <tr>\n",
       "      <th>4</th>\n",
       "      <td>Total Local Load</td>\n",
       "      <td>30060.129179</td>\n",
       "      <td>413.59125</td>\n",
       "      <td>39.349002</td>\n",
       "      <td>2612780</td>\n",
       "      <td>020401010101</td>\n",
       "      <td>wikiSRAT</td>\n",
       "      <td>12</td>\n",
       "      <td>Direct WPF Protection</td>\n",
       "      <td>Delaware River Watershed Protection Fund - For...</td>\n",
       "      <td>True</td>\n",
       "    </tr>\n",
       "    <tr>\n",
       "      <th>...</th>\n",
       "      <td>...</td>\n",
       "      <td>...</td>\n",
       "      <td>...</td>\n",
       "      <td>...</td>\n",
       "      <td>...</td>\n",
       "      <td>...</td>\n",
       "      <td>...</td>\n",
       "      <td>...</td>\n",
       "      <td>...</td>\n",
       "      <td>...</td>\n",
       "      <td>...</td>\n",
       "    </tr>\n",
       "    <tr>\n",
       "      <th>371204</th>\n",
       "      <td>Point Sources</td>\n",
       "      <td>NaN</td>\n",
       "      <td>0.00000</td>\n",
       "      <td>0.000000</td>\n",
       "      <td>9891532</td>\n",
       "      <td>020403040501</td>\n",
       "      <td>wikiSRAT</td>\n",
       "      <td>12</td>\n",
       "      <td>No restoration or protection</td>\n",
       "      <td>NaN</td>\n",
       "      <td>True</td>\n",
       "    </tr>\n",
       "    <tr>\n",
       "      <th>371221</th>\n",
       "      <td>Point Sources</td>\n",
       "      <td>NaN</td>\n",
       "      <td>0.00000</td>\n",
       "      <td>0.000000</td>\n",
       "      <td>10466473</td>\n",
       "      <td>020403040501</td>\n",
       "      <td>wikiSRAT</td>\n",
       "      <td>12</td>\n",
       "      <td>No restoration or protection</td>\n",
       "      <td>NaN</td>\n",
       "      <td>True</td>\n",
       "    </tr>\n",
       "    <tr>\n",
       "      <th>371238</th>\n",
       "      <td>Point Sources</td>\n",
       "      <td>NaN</td>\n",
       "      <td>0.00000</td>\n",
       "      <td>0.000000</td>\n",
       "      <td>10466475</td>\n",
       "      <td>020403040501</td>\n",
       "      <td>wikiSRAT</td>\n",
       "      <td>12</td>\n",
       "      <td>No restoration or protection</td>\n",
       "      <td>NaN</td>\n",
       "      <td>True</td>\n",
       "    </tr>\n",
       "    <tr>\n",
       "      <th>371255</th>\n",
       "      <td>Point Sources</td>\n",
       "      <td>NaN</td>\n",
       "      <td>0.00000</td>\n",
       "      <td>0.000000</td>\n",
       "      <td>10466691</td>\n",
       "      <td>020403040501</td>\n",
       "      <td>wikiSRAT</td>\n",
       "      <td>12</td>\n",
       "      <td>No restoration or protection</td>\n",
       "      <td>NaN</td>\n",
       "      <td>True</td>\n",
       "    </tr>\n",
       "    <tr>\n",
       "      <th>371272</th>\n",
       "      <td>Point Sources</td>\n",
       "      <td>NaN</td>\n",
       "      <td>0.00000</td>\n",
       "      <td>0.000000</td>\n",
       "      <td>27081103</td>\n",
       "      <td>020403040501</td>\n",
       "      <td>wikiSRAT</td>\n",
       "      <td>12</td>\n",
       "      <td>No restoration or protection</td>\n",
       "      <td>NaN</td>\n",
       "      <td>True</td>\n",
       "    </tr>\n",
       "  </tbody>\n",
       "</table>\n",
       "<p>131040 rows × 11 columns</p>\n",
       "</div>"
      ],
      "text/plain": [
       "                  Source      Sediment     TotalN     TotalP     comid  \\\n",
       "0       Total Local Load  30060.129179  413.59125  39.349002   2612780   \n",
       "1       Total Local Load  30060.129179  413.59125  39.349002   2612780   \n",
       "2       Total Local Load  30060.129179  413.59125  39.349002   2612780   \n",
       "3       Total Local Load  30059.966727  413.59035  39.348603   2612780   \n",
       "4       Total Local Load  30060.129179  413.59125  39.349002   2612780   \n",
       "...                  ...           ...        ...        ...       ...   \n",
       "371204     Point Sources           NaN    0.00000   0.000000   9891532   \n",
       "371221     Point Sources           NaN    0.00000   0.000000  10466473   \n",
       "371238     Point Sources           NaN    0.00000   0.000000  10466475   \n",
       "371255     Point Sources           NaN    0.00000   0.000000  10466691   \n",
       "371272     Point Sources           NaN    0.00000   0.000000  27081103   \n",
       "\n",
       "                 huc gwlfe_endpoint  huc_level  \\\n",
       "0       020401010101       wikiSRAT         12   \n",
       "1       020401010101       wikiSRAT         12   \n",
       "2       020401010101       wikiSRAT         12   \n",
       "3       020401010101       wikiSRAT         12   \n",
       "4       020401010101       wikiSRAT         12   \n",
       "...              ...            ...        ...   \n",
       "371204  020403040501       wikiSRAT         12   \n",
       "371221  020403040501       wikiSRAT         12   \n",
       "371238  020403040501       wikiSRAT         12   \n",
       "371255  020403040501       wikiSRAT         12   \n",
       "371272  020403040501       wikiSRAT         12   \n",
       "\n",
       "                                  run_group  \\\n",
       "0              No restoration or protection   \n",
       "1                    Direct WPF Restoration   \n",
       "2       Direct and Indirect WPF Restoration   \n",
       "3                           All Restoration   \n",
       "4                     Direct WPF Protection   \n",
       "...                                     ...   \n",
       "371204         No restoration or protection   \n",
       "371221         No restoration or protection   \n",
       "371238         No restoration or protection   \n",
       "371255         No restoration or protection   \n",
       "371272         No restoration or protection   \n",
       "\n",
       "                                          funding_sources  with_attenuation  \n",
       "0                                                     NaN              True  \n",
       "1                         Delaware River Restoration Fund              True  \n",
       "2       Delaware River Restoration Fund, Delaware Rive...              True  \n",
       "3       Delaware River Restoration Fund, Delaware Rive...              True  \n",
       "4       Delaware River Watershed Protection Fund - For...              True  \n",
       "...                                                   ...               ...  \n",
       "371204                                                NaN              True  \n",
       "371221                                                NaN              True  \n",
       "371238                                                NaN              True  \n",
       "371255                                                NaN              True  \n",
       "371272                                                NaN              True  \n",
       "\n",
       "[131040 rows x 11 columns]"
      ]
     },
     "execution_count": 28,
     "metadata": {},
     "output_type": "execute_result"
    }
   ],
   "source": [
    "catch_loads_df"
   ]
  },
  {
   "cell_type": "markdown",
   "id": "f086db53",
   "metadata": {},
   "source": [
    "# Save Outputs to Parquet Files\n",
    "The code below converts the data into a locally saved parquet file to avoid having to access the database every time we run the visualization script.  \n",
    "\n",
    "Apache Parquet has become the high-performance binary cloud format of choice for storing dataframes.\n",
    "- https://pandas.pydata.org/docs/user_guide/io.html#io-parquet\n",
    "- https://anaconda.org/TomAugspurger/pandas-performance/notebook\n",
    "- https://geopandas.readthedocs.io/en/latest/docs/reference/api/geopandas.GeoDataFrame.to_parquet.html\n",
    "\n",
    "NOTE: If you get a `UserWarning`, then upgrade `GeoPandas >=0.11` to get full support for GeoParquet.\n",
    "- Release Notes: https://geopandas.org/en/stable/docs/changelog.html#version-0-11-june-20-2022. "
   ]
  },
  {
   "cell_type": "code",
   "execution_count": 39,
   "id": "5ebeea77-3ee5-46c4-a6c2-1f1913dfc44b",
   "metadata": {},
   "outputs": [
    {
     "name": "stdout",
     "output_type": "stream",
     "text": [
      "Geopandas:  0.11.1\n"
     ]
    }
   ],
   "source": [
    "print(\"Geopandas: \", gpd.__version__)"
   ]
  },
  {
   "cell_type": "code",
   "execution_count": 40,
   "id": "081a57b4-55ef-4eec-95e7-4f67a2fd9a9d",
   "metadata": {},
   "outputs": [
    {
     "data": {
      "text/plain": [
       "PosixPath('/Users/aaufdenkampe/Documents/Python/pollution-assessment/stage2/data_output')"
      ]
     },
     "execution_count": 40,
     "metadata": {},
     "output_type": "execute_result"
    }
   ],
   "source": [
    "# Save Outputs to this folder\n",
    "output_path = project_path / pa2_data_output_folder\n",
    "output_path"
   ]
  },
  {
   "cell_type": "code",
   "execution_count": 41,
   "id": "6fd89c1c-edb5-42c3-a632-56e0b0708de5",
   "metadata": {},
   "outputs": [
    {
     "name": "stdout",
     "output_type": "stream",
     "text": [
      "CPU times: user 4.42 s, sys: 59.1 ms, total: 4.48 s\n",
      "Wall time: 4.49 s\n"
     ]
    }
   ],
   "source": [
    "%%time\n",
    "# Save GeoDataframes for Plotting by COMID\n",
    "reach_gdf.to_parquet(output_path /'reach_gdf.parquet',compression='gzip')\n",
    "catch_gdf.to_parquet(output_path /'catch_gdf.parquet',compression='gzip')"
   ]
  },
  {
   "cell_type": "code",
   "execution_count": 42,
   "id": "1b06c5c9-9e89-4a24-91b2-468287bedc32",
   "metadata": {},
   "outputs": [
    {
     "name": "stdout",
     "output_type": "stream",
     "text": [
      "CPU times: user 332 ms, sys: 8.42 ms, total: 340 ms\n",
      "Wall time: 335 ms\n"
     ]
    }
   ],
   "source": [
    "%%time\n",
    "# Save WikiSRAT results\n",
    "reach_concs_df.to_parquet(output_path /'reach_concs_df.parquet',compression='gzip')\n",
    "catch_loads_df.to_parquet(output_path /'catch_loads_df.parquet',compression='gzip')"
   ]
  }
 ],
 "metadata": {
  "interpreter": {
   "hash": "be2ad55ef110ae35ba44efbbda9909011312709cc16366f2adb735c9d7f96037"
  },
  "kernelspec": {
   "display_name": "Python 3 (ipykernel)",
   "language": "python",
   "name": "python3"
  },
  "language_info": {
   "codemirror_mode": {
    "name": "ipython",
    "version": 3
   },
   "file_extension": ".py",
   "mimetype": "text/x-python",
   "name": "python",
   "nbconvert_exporter": "python",
   "pygments_lexer": "ipython3",
   "version": "3.9.13"
  },
  "toc-autonumbering": true,
  "toc-showcode": false,
  "toc-showmarkdowntxt": false,
  "toc-showtags": false
 },
 "nbformat": 4,
 "nbformat_minor": 5
}
