{
 "cells": [
  {
   "cell_type": "markdown",
   "id": "6244f984",
   "metadata": {
    "tags": []
   },
   "source": [
    "Fetching of WikiSRAT data\n",
    "===\n",
    "\n",
    "In this notebook, we fetch WikiSRAT data for analysis and visualization by future notebooks.\n",
    "\n",
    "Run within a conda environment specified in the included `environment.yml` file. \n",
    "\n",
    "Create the environment with either the Import button on Anaconda Navigator's Environments tab, or this Conda command in your terminal or console, replacing `path/environment.yml` with the full file pathway to the environment.yml file in the local cloned repository.\n",
    "\n",
    "```bash\n",
    "conda env create --file path/environment.yml\n",
    "```\n",
    "\n",
    "To update your environment, either use Anaconda Navigator, or run the following command:\n",
    "\n",
    "```bash\n",
    "conda env update --file path/environment.yml --prune\n",
    "```\n",
    "\n",
    "or\n",
    "\n",
    "```bash\n",
    "conda env create --file path/environment.yml --force\n",
    "```\n",
    "\n",
    "# Setup\n",
    "* Import packages\n",
    "* Load data from parquet files"
   ]
  },
  {
   "cell_type": "code",
   "execution_count": 1,
   "id": "45a593b9",
   "metadata": {},
   "outputs": [],
   "source": [
    "# packages for data requests\n",
    "import requests\n",
    "import pandas as pd\n",
    "from requests.auth import HTTPBasicAuth\n",
    "import json\n",
    "import os\n",
    "import psycopg2\n",
    "from pathlib import Path\n",
    "import numpy as np\n",
    "\n",
    "\n",
    "# geo packages\n",
    "import geopandas as gpd"
   ]
  },
  {
   "cell_type": "code",
   "execution_count": null,
   "id": "8b6317d0",
   "metadata": {},
   "outputs": [
    {
     "name": "stdout",
     "output_type": "stream",
     "text": [
      "Geopandas:  0.9.0\n"
     ]
    }
   ],
   "source": [
    "print(\"Geopandas: \", gpd.__version__)\n",
    "# print(\"spatialpandas: \", spd.__version__)\n",
    "# print(\"datashader: \", ds.__version__)\n",
    "# print(\"pygeos: \", pygeos.__version__)"
   ]
  },
  {
   "cell_type": "markdown",
   "id": "29bc78e2",
   "metadata": {
    "tags": []
   },
   "source": [
    "## Read Parquet Files\n",
    "- https://geopandas.readthedocs.io/en/latest/docs/reference/api/geopandas.read_parquet.html"
   ]
  },
  {
   "cell_type": "code",
   "execution_count": 3,
   "id": "19ea02c8",
   "metadata": {},
   "outputs": [
    {
     "data": {
      "text/plain": [
       "WindowsPath('C:/Users/sjordan/Documents/GitHub/pollution-assessment/stage1')"
      ]
     },
     "execution_count": 3,
     "metadata": {},
     "output_type": "execute_result"
    }
   ],
   "source": [
    "# Find current working directory\n",
    "Path.cwd()"
   ]
  },
  {
   "cell_type": "markdown",
   "id": "9aceda1c-47e7-4506-beb5-cf82e05e4641",
   "metadata": {},
   "source": [
    "If you get an error, make sure you've navigated to the `stage2` folder. "
   ]
  },
  {
   "cell_type": "code",
   "execution_count": 4,
   "id": "4f3da955",
   "metadata": {},
   "outputs": [],
   "source": [
    "# Use relative path - will work for anybody in this directory / cloning the github\n",
    "data_folder    = Path('data/')"
   ]
  },
  {
   "cell_type": "markdown",
   "id": "34e9b9c2-f187-4364-b6ef-da5f5ff4de28",
   "metadata": {},
   "source": [
    "Info to help parse table names below:\n",
    "* `base_` indicates base case\n",
    "* `rest_` indicates with restoration\n",
    "* `prot_` indicates protection projects\n",
    "* `catch` indicates catchment-level data\n",
    "* `reach` indicates reach data\n",
    "\n",
    "**Clusters** are geographic units. There are 8 included in the DRB: Poconos-Kittaninny, Upper Lehigh,  New Jersey Highlands, Middle Schuylkill, Schuylkill Highlands, Upstream Suburban Philadelphia, Brandywine-Christina, Kirkwood-Cohansey Aquifer. These priority locations include parts of pristine headwaters and working forests of the upper watershed, farmlands, suburbs, and industrial and urban centers downstream, and the coastal plain where the river and emerging groundwater empties into either the Delaware Bay or the Atlantic Coast.\n",
    "\n",
    "**Focus areas** are smaller geographic units within clusters. "
   ]
  },
  {
   "cell_type": "code",
   "execution_count": 5,
   "id": "05f1cca3",
   "metadata": {},
   "outputs": [
    {
     "name": "stdout",
     "output_type": "stream",
     "text": [
      "Wall time: 2.2 s\n"
     ]
    }
   ],
   "source": [
    "%%time\n",
    "# read data from parquet files\n",
    "base_catch_gdf = gpd.read_parquet(data_folder /'base_df_catch.parquet')\n",
    "base_reach_gdf = gpd.read_parquet(data_folder /'base_df_reach.parquet')\n",
    "\n",
    "rest_catch_gdf = gpd.read_parquet(data_folder /'rest_df_catch.parquet')\n",
    "rest_reach_gdf = gpd.read_parquet(data_folder /'rest_df_reach.parquet')\n",
    "\n",
    "point_src_gdf = gpd.read_parquet(data_folder /'point_source_df.parquet')\n",
    "\n",
    "proj_prot_gdf = gpd.read_parquet(data_folder /'prot_proj_df.parquet')\n",
    "proj_rest_gdf = gpd.read_parquet(data_folder /'rest_proj_df.parquet')\n",
    "\n",
    "cluster_gdf = gpd.read_parquet(data_folder /'cluster_df.parquet')   \n",
    "\n",
    "mmw_huc12_loads_df = pd.read_parquet(data_folder /'mmw_huc12_loads_df.parquet')"
   ]
  },
  {
   "cell_type": "code",
   "execution_count": 6,
   "id": "f8e2fbcc-58b5-4ffc-b4e3-d0dc959dae49",
   "metadata": {},
   "outputs": [],
   "source": [
    "focusarea_gdf = gpd.read_parquet(data_folder /'fa_phase2_df.parquet')\n",
    "focusarea_gdf.cluster = focusarea_gdf.cluster.replace('Kirkwood Cohansey Aquifer', 'Kirkwood - Cohansey Aquifer') # update name for consistency with other files \n",
    "focusarea_gdf.set_index('name', inplace=True)"
   ]
  },
  {
   "cell_type": "markdown",
   "id": "54d438e2-71b0-4eb5-b891-5c2b15a0c3f3",
   "metadata": {},
   "source": [
    "Follow this notebook with WikiSRAT_Analysis.ipynb for analysis of fetched data. "
   ]
  }
 ],
 "metadata": {
  "interpreter": {
   "hash": "a4a506783a33eb20d59bb0f72c582aacfb85f9cfed3788384470a054af89f5ac"
  },
  "kernelspec": {
   "display_name": "Python 3 (ipykernel)",
   "language": "python",
   "name": "python3"
  },
  "language_info": {
   "codemirror_mode": {
    "name": "ipython",
    "version": 3
   },
   "file_extension": ".py",
   "mimetype": "text/x-python",
   "name": "python",
   "nbconvert_exporter": "python",
   "pygments_lexer": "ipython3",
   "version": "3.8.13"
  },
  "toc-autonumbering": true
 },
 "nbformat": 4,
 "nbformat_minor": 5
}
