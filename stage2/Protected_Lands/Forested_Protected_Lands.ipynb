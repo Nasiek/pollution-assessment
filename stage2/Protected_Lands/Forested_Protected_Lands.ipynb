{
 "cells": [
  {
   "cell_type": "markdown",
   "id": "338205ed-3262-4421-9b52-d7c9c8159235",
   "metadata": {},
   "source": [
    "Forested Protected Lands\n",
    "===\n",
    "\n",
    "This notebook overlays the DRWI protected lands and WeConservePA protected lands with the 2019 NLCD land use data using the ModelMyWatershed api. \n",
    "\n",
    "The goal of this notebook is to identify whether protected lands overlap with forested areas."
   ]
  },
  {
   "cell_type": "markdown",
   "id": "17be690c-4eea-41cb-880e-13e84f481923",
   "metadata": {},
   "source": [
    "# Setup"
   ]
  },
  {
   "cell_type": "markdown",
   "id": "71717a89-7bae-4031-a80d-608ff9348746",
   "metadata": {},
   "source": [
    "## Imports"
   ]
  },
  {
   "cell_type": "code",
   "execution_count": 4,
   "id": "e09ff36c-c364-42cd-a140-ff2da2923545",
   "metadata": {},
   "outputs": [],
   "source": [
    "# Import packages\n",
    "from pathlib import Path\n",
    "import pandas as pd\n",
    "import geopandas as gpd\n",
    "import json\n",
    "from modelmw_client import *\n",
    "\n",
    "# Plotting packages\n",
    "import matplotlib.pyplot as plt"
   ]
  },
  {
   "cell_type": "markdown",
   "id": "5bb1f39e-94b4-4d25-9562-71167fdeb401",
   "metadata": {},
   "source": [
    "## File paths"
   ]
  },
  {
   "cell_type": "code",
   "execution_count": 5,
   "id": "613ba042-1ab1-4651-af53-bd0ac27cbcaf",
   "metadata": {},
   "outputs": [
    {
     "data": {
      "text/plain": [
       "WindowsPath('C:/Users/clulay/OneDrive - LimnoTech/Documents/GitHub/pollution-assessment/stage2/Protected_Lands')"
      ]
     },
     "execution_count": 5,
     "metadata": {},
     "output_type": "execute_result"
    }
   ],
   "source": [
    "# Find your current working directory, which should be folder for this notebook.\n",
    "Path.cwd()"
   ]
  },
  {
   "cell_type": "code",
   "execution_count": 6,
   "id": "7dd48b4f-bb8b-4c4a-b3bb-8c58e5c11089",
   "metadata": {},
   "outputs": [
    {
     "data": {
      "text/plain": [
       "WindowsPath('C:/Users/clulay/OneDrive - LimnoTech/Documents/GitHub/pollution-assessment')"
      ]
     },
     "execution_count": 6,
     "metadata": {},
     "output_type": "execute_result"
    }
   ],
   "source": [
    "# Set your project directory to your local folder for your clone of this repository\n",
    "project_path = Path.cwd().parent.parent\n",
    "project_path"
   ]
  },
  {
   "cell_type": "code",
   "execution_count": 7,
   "id": "fb9161b0-f802-4ed6-b991-f099d193d5c2",
   "metadata": {},
   "outputs": [
    {
     "data": {
      "text/plain": [
       "True"
      ]
     },
     "execution_count": 7,
     "metadata": {},
     "output_type": "execute_result"
    }
   ],
   "source": [
    "# Path to WeConservePA protected lands shapefile\n",
    "wcpa_path = project_path / Path('stage2/Protected_Lands/WeConservePA_pl_20220810.shp')\n",
    "wcpa_path.exists()"
   ]
  },
  {
   "cell_type": "markdown",
   "id": "a077571d-1caf-4486-a038-3b674a3749c1",
   "metadata": {
    "tags": []
   },
   "source": [
    "## Private file paths\n",
    "- Download from https://drive.google.com/drive/folders/1HKlnA3lC2xvKBQ1bg1J08gsEB3N9rp2V\n",
    "- Save in `stage2/private` folder"
   ]
  },
  {
   "cell_type": "code",
   "execution_count": 22,
   "id": "331707df-7048-4584-9b51-a68b133a5de8",
   "metadata": {},
   "outputs": [
    {
     "data": {
      "text/plain": [
       "True"
      ]
     },
     "execution_count": 22,
     "metadata": {},
     "output_type": "execute_result"
    }
   ],
   "source": [
    "# Path to FieldDoc protected lands export file\n",
    "fielddoc_path = project_path / Path('stage2/private/protection_bmps_from_FieldDoc.parquet')\n",
    "fielddoc_path.exists()"
   ]
  },
  {
   "cell_type": "markdown",
   "id": "e0684628-1aed-4f2c-8ac0-d4d9dcf7e110",
   "metadata": {
    "tags": []
   },
   "source": [
    "# Load data"
   ]
  },
  {
   "cell_type": "markdown",
   "id": "ccd1ed1d-825c-4ec2-8474-e03905d90d42",
   "metadata": {},
   "source": [
    "## Protected Lands from WeConservePA"
   ]
  },
  {
   "cell_type": "code",
   "execution_count": 7,
   "id": "92ad47fe-835b-4a0a-ac45-275ce7066e29",
   "metadata": {},
   "outputs": [],
   "source": [
    "# Import weconservePA protected lands\n",
    "wcpa_gdf = gpd.read_file(wcpa_path)"
   ]
  },
  {
   "cell_type": "code",
   "execution_count": 8,
   "id": "3bbc10a8-6655-4028-950a-4acaf44d99e9",
   "metadata": {},
   "outputs": [],
   "source": [
    "# Add data source tag\n",
    "wcpa_gdf['data_source'] = 'weconservePA_2022'"
   ]
  },
  {
   "cell_type": "markdown",
   "id": "ed5fa931-7d1c-49f5-a291-aa1ad811fe00",
   "metadata": {},
   "source": [
    "## Protected Lands from FieldDoc"
   ]
  },
  {
   "cell_type": "code",
   "execution_count": 23,
   "id": "b3d8bccd-fee5-44a5-a3e7-d2cced5d06ab",
   "metadata": {},
   "outputs": [
    {
     "name": "stdout",
     "output_type": "stream",
     "text": [
      "<class 'geopandas.geodataframe.GeoDataFrame'>\n",
      "RangeIndex: 75 entries, 0 to 74\n",
      "Data columns (total 19 columns):\n",
      " #   Column         Non-Null Count  Dtype   \n",
      "---  ------         --------------  -----   \n",
      " 0   practice_name  75 non-null     object  \n",
      " 1   practice_id    75 non-null     int64   \n",
      " 2   program_name   75 non-null     object  \n",
      " 3   program_id     75 non-null     int64   \n",
      " 4   organization   75 non-null     object  \n",
      " 5   description    26 non-null     object  \n",
      " 6   practice_type  75 non-null     object  \n",
      " 7   created_at     75 non-null     object  \n",
      " 8   modified_at    75 non-null     object  \n",
      " 9   tot_pwr        75 non-null     float64 \n",
      " 10  head_pwr       75 non-null     float64 \n",
      " 11  nat_land       75 non-null     float64 \n",
      " 12  ara_pwr        75 non-null     float64 \n",
      " 13  wet_pwr        75 non-null     float64 \n",
      " 14  dev_land       75 non-null     float64 \n",
      " 15  ag_land        75 non-null     float64 \n",
      " 16  str_bank       75 non-null     float64 \n",
      " 17  geometry       75 non-null     geometry\n",
      " 18  data_source    75 non-null     object  \n",
      "dtypes: float64(8), geometry(1), int64(2), object(8)\n",
      "memory usage: 11.3+ KB\n"
     ]
    }
   ],
   "source": [
    "# Import FieldDoc protected lands \n",
    "fielddoc_gdf = gpd.read_parquet(fielddoc_path)\n",
    "\n",
    "# Add a column to fielddoc_gdf with data source\n",
    "fielddoc_gdf['data_source'] = 'fielddoc_2022-08-11'\n",
    "\n",
    "fielddoc_gdf.info()"
   ]
  },
  {
   "cell_type": "markdown",
   "id": "3f848fe8-b5f4-4df2-ba34-14004f85676a",
   "metadata": {
    "tags": []
   },
   "source": [
    "## DRWI Geographies"
   ]
  },
  {
   "cell_type": "code",
   "execution_count": 33,
   "id": "e90b97e7-8dda-484c-883b-923c83dc0f7a",
   "metadata": {},
   "outputs": [],
   "source": [
    "# Import cluster and focus area geometries\n",
    "cluster_gdf = gpd.read_parquet(project_path / Path('stage1/data/cluster_df.parquet'))  \n",
    "focusarea_gdf = gpd.read_parquet(project_path / Path('stage1/data/fa_phase2_df.parquet'))\n",
    "\n",
    "focusarea_gdf.cluster = focusarea_gdf.cluster.replace('Kirkwood Cohansey Aquifer', 'Kirkwood - Cohansey Aquifer') # update name for consistency with other files \n",
    "focusarea_gdf.set_index('name', inplace=True)"
   ]
  },
  {
   "cell_type": "markdown",
   "id": "f811d7b1-3360-4e3d-a407-9c8120159cd1",
   "metadata": {
    "jp-MarkdownHeadingCollapsed": true,
    "tags": []
   },
   "source": [
    "# Convert from geometries to geojson"
   ]
  },
  {
   "cell_type": "code",
   "execution_count": 18,
   "id": "fe496eed-ee06-446b-83e6-f2481864c397",
   "metadata": {},
   "outputs": [
    {
     "name": "stderr",
     "output_type": "stream",
     "text": [
      "C:\\Users\\clulay\\.conda\\envs\\WikiSRAT\\lib\\site-packages\\geopandas\\io\\file.py:362: FutureWarning: pandas.Int64Index is deprecated and will be removed from pandas in a future version. Use pandas.Index with the appropriate dtype instead.\n",
      "  pd.Int64Index,\n"
     ]
    }
   ],
   "source": [
    "#items = [1,2,3,4]\n",
    "#sub_gdf = wcpa_gdf[wcpa_gdf['OBJECTID'].isin(items)]\n",
    "wcpa_gdf.to_file(project_path / Path('stage2/Protected_Lands/wcpa.geojson'), driver=\"GeoJSON\")\n",
    "wcpa_json = json.load(open(project_path / Path('stage2/Protected_Lands/wcpa.geojson')))"
   ]
  },
  {
   "cell_type": "code",
   "execution_count": 12,
   "id": "f905ccc8-2183-450d-9e33-6d76417fa8df",
   "metadata": {},
   "outputs": [
    {
     "name": "stderr",
     "output_type": "stream",
     "text": [
      "C:\\Users\\clulay\\.conda\\envs\\WikiSRAT\\lib\\site-packages\\geopandas\\io\\file.py:362: FutureWarning: pandas.Int64Index is deprecated and will be removed from pandas in a future version. Use pandas.Index with the appropriate dtype instead.\n",
      "  pd.Int64Index,\n"
     ]
    }
   ],
   "source": [
    "fielddoc_gdf.to_file(project_path / Path('stage2/private/fielddoc.geojson'), driver=\"GeoJSON\")\n",
    "fd_json = json.load(open(project_path / Path('stage2/private/fielddoc.geojson')))"
   ]
  },
  {
   "cell_type": "markdown",
   "id": "5d793075-280c-40cf-b7a4-b941eb2dddcd",
   "metadata": {},
   "source": [
    "# MMW"
   ]
  },
  {
   "cell_type": "code",
   "execution_count": 1,
   "id": "dc3c9bd9-8a4b-4dec-b7d5-48081ef266af",
   "metadata": {},
   "outputs": [],
   "source": [
    "MMW_API_URL = 'https://modelmywatershed.org/api'"
   ]
  },
  {
   "cell_type": "code",
   "execution_count": 2,
   "id": "4c583c0b-1fdc-40a1-8bce-4aa3c9e10881",
   "metadata": {},
   "outputs": [],
   "source": [
    "staging_api_key = '79413b2d045e0bb7eb063afaa9d4d9ace9378581'"
   ]
  },
  {
   "cell_type": "code",
   "execution_count": 8,
   "id": "dbecf68d-0f85-4a20-97ca-348f43949c3f",
   "metadata": {},
   "outputs": [],
   "source": [
    "# Create an API user\n",
    "mmw_run = ModelMyWatershedAPI(api_key=staging_api_key, use_staging=False)"
   ]
  },
  {
   "cell_type": "code",
   "execution_count": 11,
   "id": "b1db9192-3ecb-4616-a31e-f9cebb3e6fd6",
   "metadata": {},
   "outputs": [],
   "source": [
    "huc12 = pd.read_csv(project_path / Path('stage2/DRB_GWLFE/geojson/huc12_list_drwipolassess.csv'))\n",
    "huc12 = huc12.astype({'huc12': str})\n",
    "\n",
    "# Add leading zeros so hucs ids are 12 digits long\n",
    "huc12['huc12'] = huc12['huc12'].apply(lambda x: x.zfill(12))\n",
    "huc12_list = huc12['huc12'].to_list()\n",
    "\n",
    "huc12_list_short = huc12_list[0:3]\n",
    "huc12_list_short\n",
    "\n",
    "huc = '020401010101'"
   ]
  },
  {
   "cell_type": "code",
   "execution_count": 20,
   "id": "353fda0b-373a-4eb6-bd50-34d6e57b6c3d",
   "metadata": {},
   "outputs": [],
   "source": [
    "item_lu = mmw_run.run_mmw_job(\n",
    "    mmw_run.land_endpoint.format(\"2019_2019\"),\n",
    "    huc,\n",
    "    {\"huc\": huc},)"
   ]
  },
  {
   "cell_type": "code",
   "execution_count": 21,
   "id": "f5d7dcc1-764a-44b9-bfdf-b37bbfc88702",
   "metadata": {},
   "outputs": [
    {
     "data": {
      "text/plain": [
       "{'job_label': '020401010101',\n",
       " 'request_host': 'https://modelmywatershed.org',\n",
       " 'request_endpoint': 'api/analyze/land/2019_2019/',\n",
       " 'payload': {'huc': '020401010101'},\n",
       " 'start_job_status': 'succeeded',\n",
       " 'job_result_status': 'Not Started',\n",
       " 'start_job_response': None}"
      ]
     },
     "execution_count": 21,
     "metadata": {},
     "output_type": "execute_result"
    }
   ],
   "source": [
    "item_lu"
   ]
  },
  {
   "cell_type": "code",
   "execution_count": null,
   "id": "7e7802ba-dbb8-4bca-b067-eda5edb07c0c",
   "metadata": {},
   "outputs": [],
   "source": [
    "for huc in huc12_list_short: \n",
    "    huc_3030_dict = {'name':[],\n",
    "                    'mmw_area_m2': [],\n",
    "                    'forest_area_m2': [],\n",
    "                    'natural_area_m2': [],\n",
    "                    'perc_forest': [],\n",
    "                    'perc_natural': []}\n",
    "\n",
    "    forest_lu = [41, 42, 43]\n",
    "\n",
    "    # Include open water, forest, shrub/scrub, grassland/herbaceous, and wetlands as \"natural\"\n",
    "    natural_lu = [11, 41, 42, 43, 52, 71, 90, 95]\n",
    "          \n",
    "    item_lu = mmw_run.run_mmw_job(\n",
    "        mmw_run.land_endpoint.format(\"2019_2019\"),\n",
    "        name,\n",
    "        {'huc': huc})\n",
    "        try:\n",
    "            item_lu_df = pd.DataFrame().from_dict(item_lu['result_response']['result']['survey']['categories'])\n",
    "\n",
    "            total_area_m2 = item_lu_df['area'].sum()\n",
    "\n",
    "            forest_df = item_lu_df[item_lu_df['nlcd'].isin(forest_lu)]\n",
    "            forest_m2 = forest_df['area'].sum()\n",
    "\n",
    "            natural_df = item_lu_df[item_lu_df['nlcd'].isin(natural_lu)]\n",
    "            natural_m2 = natural_df['area'].sum()\n",
    "\n",
    "            perc_forest = forest_m2/total_area_m2 * 100\n",
    "            perc_natural = natural_m2/total_area_m2 * 100\n",
    "        \n",
    "            fa_3030_dict['name'].append(huc)\n",
    "            fa_3030_dict['mmw_area_m2'].append(total_area_m2)\n",
    "            fa_3030_dict['forest_area_m2'].append(forest_m2)\n",
    "            fa_3030_dict['natural_area_m2'].append(natural_m2)\n",
    "            fa_3030_dict['ans_area_ac'].append(ans_area)\n",
    "            fa_3030_dict['perc_forest'].append(perc_forest)\n",
    "            fa_3030_dict['perc_natural'].append(perc_natural)\n",
    "            \n",
    "        except KeyError: \n",
    "            print(name)\n",
    "            \n",
    "\n",
    "        \n",
    "    \n",
    "    fa_3030_df = pd.DataFrame().from_dict(fa_3030_dict)\n",
    "\n",
    "    return(fa_3030_df)"
   ]
  },
  {
   "cell_type": "code",
   "execution_count": 10,
   "id": "872a0c62-daa7-43cf-a580-bc3be4f47c34",
   "metadata": {},
   "outputs": [
    {
     "ename": "ValueError",
     "evalue": "No objects to concatenate",
     "output_type": "error",
     "traceback": [
      "\u001b[1;31m---------------------------------------------------------------------------\u001b[0m",
      "\u001b[1;31mValueError\u001b[0m                                Traceback (most recent call last)",
      "Input \u001b[1;32mIn [10]\u001b[0m, in \u001b[0;36m<cell line: 1>\u001b[1;34m()\u001b[0m\n\u001b[1;32m----> 1\u001b[0m huc12_lu_df \u001b[38;5;241m=\u001b[39m \u001b[43mmmw_run\u001b[49m\u001b[38;5;241;43m.\u001b[39;49m\u001b[43mrun_batch_analysis\u001b[49m\u001b[43m(\u001b[49m\u001b[43mhuc12_list_short\u001b[49m\u001b[43m,\u001b[49m\n\u001b[0;32m      2\u001b[0m \u001b[43m            \u001b[49m\u001b[43mmmw_run\u001b[49m\u001b[38;5;241;43m.\u001b[39;49m\u001b[43mland_endpoint\u001b[49m\u001b[38;5;241;43m.\u001b[39;49m\u001b[43mformat\u001b[49m\u001b[43m(\u001b[49m\u001b[38;5;124;43m\"\u001b[39;49m\u001b[38;5;124;43m2019_2019\u001b[39;49m\u001b[38;5;124;43m\"\u001b[39;49m\u001b[43m)\u001b[49m\u001b[43m)\u001b[49m\n",
      "File \u001b[1;32m~\\.conda\\envs\\WikiSRAT\\lib\\site-packages\\modelmw_client\\model_client.py:985\u001b[0m, in \u001b[0;36mModelMyWatershedAPI.run_batch_analysis\u001b[1;34m(self, list_of_aois, analysis_endpoint)\u001b[0m\n\u001b[0;32m    982\u001b[0m     run_number \u001b[38;5;241m+\u001b[39m\u001b[38;5;241m=\u001b[39m \u001b[38;5;241m1\u001b[39m\n\u001b[0;32m    984\u001b[0m \u001b[38;5;66;03m# join all of the frames together into one frame with the batch results\u001b[39;00m\n\u001b[1;32m--> 985\u001b[0m lu_results \u001b[38;5;241m=\u001b[39m \u001b[43mpd\u001b[49m\u001b[38;5;241;43m.\u001b[39;49m\u001b[43mconcat\u001b[49m\u001b[43m(\u001b[49m\u001b[43mrun_frames\u001b[49m\u001b[43m,\u001b[49m\u001b[43m \u001b[49m\u001b[43mignore_index\u001b[49m\u001b[38;5;241;43m=\u001b[39;49m\u001b[38;5;28;43;01mTrue\u001b[39;49;00m\u001b[43m)\u001b[49m\n\u001b[0;32m    986\u001b[0m \u001b[38;5;28;01mreturn\u001b[39;00m lu_results\n",
      "File \u001b[1;32m~\\.conda\\envs\\WikiSRAT\\lib\\site-packages\\pandas\\util\\_decorators.py:311\u001b[0m, in \u001b[0;36mdeprecate_nonkeyword_arguments.<locals>.decorate.<locals>.wrapper\u001b[1;34m(*args, **kwargs)\u001b[0m\n\u001b[0;32m    305\u001b[0m \u001b[38;5;28;01mif\u001b[39;00m \u001b[38;5;28mlen\u001b[39m(args) \u001b[38;5;241m>\u001b[39m num_allow_args:\n\u001b[0;32m    306\u001b[0m     warnings\u001b[38;5;241m.\u001b[39mwarn(\n\u001b[0;32m    307\u001b[0m         msg\u001b[38;5;241m.\u001b[39mformat(arguments\u001b[38;5;241m=\u001b[39marguments),\n\u001b[0;32m    308\u001b[0m         \u001b[38;5;167;01mFutureWarning\u001b[39;00m,\n\u001b[0;32m    309\u001b[0m         stacklevel\u001b[38;5;241m=\u001b[39mstacklevel,\n\u001b[0;32m    310\u001b[0m     )\n\u001b[1;32m--> 311\u001b[0m \u001b[38;5;28;01mreturn\u001b[39;00m \u001b[43mfunc\u001b[49m\u001b[43m(\u001b[49m\u001b[38;5;241;43m*\u001b[39;49m\u001b[43margs\u001b[49m\u001b[43m,\u001b[49m\u001b[43m \u001b[49m\u001b[38;5;241;43m*\u001b[39;49m\u001b[38;5;241;43m*\u001b[39;49m\u001b[43mkwargs\u001b[49m\u001b[43m)\u001b[49m\n",
      "File \u001b[1;32m~\\.conda\\envs\\WikiSRAT\\lib\\site-packages\\pandas\\core\\reshape\\concat.py:347\u001b[0m, in \u001b[0;36mconcat\u001b[1;34m(objs, axis, join, ignore_index, keys, levels, names, verify_integrity, sort, copy)\u001b[0m\n\u001b[0;32m    143\u001b[0m \u001b[38;5;129m@deprecate_nonkeyword_arguments\u001b[39m(version\u001b[38;5;241m=\u001b[39m\u001b[38;5;28;01mNone\u001b[39;00m, allowed_args\u001b[38;5;241m=\u001b[39m[\u001b[38;5;124m\"\u001b[39m\u001b[38;5;124mobjs\u001b[39m\u001b[38;5;124m\"\u001b[39m])\n\u001b[0;32m    144\u001b[0m \u001b[38;5;28;01mdef\u001b[39;00m \u001b[38;5;21mconcat\u001b[39m(\n\u001b[0;32m    145\u001b[0m     objs: Iterable[NDFrame] \u001b[38;5;241m|\u001b[39m Mapping[Hashable, NDFrame],\n\u001b[1;32m   (...)\u001b[0m\n\u001b[0;32m    154\u001b[0m     copy: \u001b[38;5;28mbool\u001b[39m \u001b[38;5;241m=\u001b[39m \u001b[38;5;28;01mTrue\u001b[39;00m,\n\u001b[0;32m    155\u001b[0m ) \u001b[38;5;241m-\u001b[39m\u001b[38;5;241m>\u001b[39m DataFrame \u001b[38;5;241m|\u001b[39m Series:\n\u001b[0;32m    156\u001b[0m     \u001b[38;5;124;03m\"\"\"\u001b[39;00m\n\u001b[0;32m    157\u001b[0m \u001b[38;5;124;03m    Concatenate pandas objects along a particular axis with optional set logic\u001b[39;00m\n\u001b[0;32m    158\u001b[0m \u001b[38;5;124;03m    along the other axes.\u001b[39;00m\n\u001b[1;32m   (...)\u001b[0m\n\u001b[0;32m    345\u001b[0m \u001b[38;5;124;03m    ValueError: Indexes have overlapping values: ['a']\u001b[39;00m\n\u001b[0;32m    346\u001b[0m \u001b[38;5;124;03m    \"\"\"\u001b[39;00m\n\u001b[1;32m--> 347\u001b[0m     op \u001b[38;5;241m=\u001b[39m \u001b[43m_Concatenator\u001b[49m\u001b[43m(\u001b[49m\n\u001b[0;32m    348\u001b[0m \u001b[43m        \u001b[49m\u001b[43mobjs\u001b[49m\u001b[43m,\u001b[49m\n\u001b[0;32m    349\u001b[0m \u001b[43m        \u001b[49m\u001b[43maxis\u001b[49m\u001b[38;5;241;43m=\u001b[39;49m\u001b[43maxis\u001b[49m\u001b[43m,\u001b[49m\n\u001b[0;32m    350\u001b[0m \u001b[43m        \u001b[49m\u001b[43mignore_index\u001b[49m\u001b[38;5;241;43m=\u001b[39;49m\u001b[43mignore_index\u001b[49m\u001b[43m,\u001b[49m\n\u001b[0;32m    351\u001b[0m \u001b[43m        \u001b[49m\u001b[43mjoin\u001b[49m\u001b[38;5;241;43m=\u001b[39;49m\u001b[43mjoin\u001b[49m\u001b[43m,\u001b[49m\n\u001b[0;32m    352\u001b[0m \u001b[43m        \u001b[49m\u001b[43mkeys\u001b[49m\u001b[38;5;241;43m=\u001b[39;49m\u001b[43mkeys\u001b[49m\u001b[43m,\u001b[49m\n\u001b[0;32m    353\u001b[0m \u001b[43m        \u001b[49m\u001b[43mlevels\u001b[49m\u001b[38;5;241;43m=\u001b[39;49m\u001b[43mlevels\u001b[49m\u001b[43m,\u001b[49m\n\u001b[0;32m    354\u001b[0m \u001b[43m        \u001b[49m\u001b[43mnames\u001b[49m\u001b[38;5;241;43m=\u001b[39;49m\u001b[43mnames\u001b[49m\u001b[43m,\u001b[49m\n\u001b[0;32m    355\u001b[0m \u001b[43m        \u001b[49m\u001b[43mverify_integrity\u001b[49m\u001b[38;5;241;43m=\u001b[39;49m\u001b[43mverify_integrity\u001b[49m\u001b[43m,\u001b[49m\n\u001b[0;32m    356\u001b[0m \u001b[43m        \u001b[49m\u001b[43mcopy\u001b[49m\u001b[38;5;241;43m=\u001b[39;49m\u001b[43mcopy\u001b[49m\u001b[43m,\u001b[49m\n\u001b[0;32m    357\u001b[0m \u001b[43m        \u001b[49m\u001b[43msort\u001b[49m\u001b[38;5;241;43m=\u001b[39;49m\u001b[43msort\u001b[49m\u001b[43m,\u001b[49m\n\u001b[0;32m    358\u001b[0m \u001b[43m    \u001b[49m\u001b[43m)\u001b[49m\n\u001b[0;32m    360\u001b[0m     \u001b[38;5;28;01mreturn\u001b[39;00m op\u001b[38;5;241m.\u001b[39mget_result()\n",
      "File \u001b[1;32m~\\.conda\\envs\\WikiSRAT\\lib\\site-packages\\pandas\\core\\reshape\\concat.py:404\u001b[0m, in \u001b[0;36m_Concatenator.__init__\u001b[1;34m(self, objs, axis, join, keys, levels, names, ignore_index, verify_integrity, copy, sort)\u001b[0m\n\u001b[0;32m    401\u001b[0m     objs \u001b[38;5;241m=\u001b[39m \u001b[38;5;28mlist\u001b[39m(objs)\n\u001b[0;32m    403\u001b[0m \u001b[38;5;28;01mif\u001b[39;00m \u001b[38;5;28mlen\u001b[39m(objs) \u001b[38;5;241m==\u001b[39m \u001b[38;5;241m0\u001b[39m:\n\u001b[1;32m--> 404\u001b[0m     \u001b[38;5;28;01mraise\u001b[39;00m \u001b[38;5;167;01mValueError\u001b[39;00m(\u001b[38;5;124m\"\u001b[39m\u001b[38;5;124mNo objects to concatenate\u001b[39m\u001b[38;5;124m\"\u001b[39m)\n\u001b[0;32m    406\u001b[0m \u001b[38;5;28;01mif\u001b[39;00m keys \u001b[38;5;129;01mis\u001b[39;00m \u001b[38;5;28;01mNone\u001b[39;00m:\n\u001b[0;32m    407\u001b[0m     objs \u001b[38;5;241m=\u001b[39m \u001b[38;5;28mlist\u001b[39m(com\u001b[38;5;241m.\u001b[39mnot_none(\u001b[38;5;241m*\u001b[39mobjs))\n",
      "\u001b[1;31mValueError\u001b[0m: No objects to concatenate"
     ]
    }
   ],
   "source": [
    "huc12_lu_df = mmw_run.run_batch_analysis(huc12_list_short,\n",
    "            mmw_run.land_endpoint.format(\"2019_2019\"))"
   ]
  },
  {
   "cell_type": "code",
   "execution_count": null,
   "id": "827cd865-2b69-4727-a0fa-6cf7f134f017",
   "metadata": {},
   "outputs": [
    {
     "data": {
      "text/plain": [
       "<AxesSubplot:>"
      ]
     },
     "execution_count": 25,
     "metadata": {},
     "output_type": "execute_result"
    },
    {
     "data": {
      "image/png": "[encoded data removed]",
      "text/plain": [
       "<Figure size 432x288 with 1 Axes>"
      ]
     },
     "metadata": {
      "needs_background": "light"
     },
     "output_type": "display_data"
    }
   ],
   "source": [
    "# Plot weconservePA and fielddoc protected lands\n",
    "wcpa_gdf = wcpa_gdf[wcpa_gdf.index > 2992]\n",
    "x = wcpa_gdf[wcpa_gdf['sitename']=='State Game Land 129']\n",
    "x.plot()"
   ]
  },
  {
   "cell_type": "code",
   "execution_count": 85,
   "id": "aa736f37-f16d-4956-ace6-a3db90725881",
   "metadata": {},
   "outputs": [
    {
     "data": {
      "text/html": [
       "<div>\n",
       "<style scoped>\n",
       "    .dataframe tbody tr th:only-of-type {\n",
       "        vertical-align: middle;\n",
       "    }\n",
       "\n",
       "    .dataframe tbody tr th {\n",
       "        vertical-align: top;\n",
       "    }\n",
       "\n",
       "    .dataframe thead th {\n",
       "        text-align: right;\n",
       "    }\n",
       "</style>\n",
       "<table border=\"1\" class=\"dataframe\">\n",
       "  <thead>\n",
       "    <tr style=\"text-align: right;\">\n",
       "      <th></th>\n",
       "      <th>labels</th>\n",
       "      <th>gid</th>\n",
       "      <th>objectid</th>\n",
       "      <th>label_id</th>\n",
       "      <th>sum_acres</th>\n",
       "      <th>acres</th>\n",
       "      <th>ncontrb_a</th>\n",
       "      <th>acres_ans</th>\n",
       "      <th>name</th>\n",
       "      <th>shape_leng</th>\n",
       "      <th>shape_area</th>\n",
       "      <th>geom</th>\n",
       "    </tr>\n",
       "  </thead>\n",
       "  <tbody>\n",
       "    <tr>\n",
       "      <th>0</th>\n",
       "      <td>Poconos and Kittatinny</td>\n",
       "      <td>1</td>\n",
       "      <td>0</td>\n",
       "      <td>5</td>\n",
       "      <td>8.662812e+05</td>\n",
       "      <td>8.662812e+05</td>\n",
       "      <td>8.655927e+05</td>\n",
       "      <td>865593</td>\n",
       "      <td>Poconos and Kittatinny</td>\n",
       "      <td>5.179372</td>\n",
       "      <td>0.368441</td>\n",
       "      <td>MULTIPOLYGON (((-74.85664 41.72986, -74.85633 ...</td>\n",
       "    </tr>\n",
       "    <tr>\n",
       "      <th>1</th>\n",
       "      <td>Middle Schuylkill</td>\n",
       "      <td>2</td>\n",
       "      <td>0</td>\n",
       "      <td>3</td>\n",
       "      <td>5.018739e+05</td>\n",
       "      <td>5.018739e+05</td>\n",
       "      <td>5.015325e+05</td>\n",
       "      <td>501533</td>\n",
       "      <td>Middle Schuylkill</td>\n",
       "      <td>0.000000</td>\n",
       "      <td>0.000000</td>\n",
       "      <td>MULTIPOLYGON (((-76.20066 40.49200, -76.20078 ...</td>\n",
       "    </tr>\n",
       "    <tr>\n",
       "      <th>2</th>\n",
       "      <td>Brandywine and Christina</td>\n",
       "      <td>3</td>\n",
       "      <td>0</td>\n",
       "      <td>1</td>\n",
       "      <td>3.605241e+05</td>\n",
       "      <td>3.605241e+05</td>\n",
       "      <td>3.602701e+05</td>\n",
       "      <td>360270</td>\n",
       "      <td>Brandywine and Christina</td>\n",
       "      <td>0.000000</td>\n",
       "      <td>0.000000</td>\n",
       "      <td>MULTIPOLYGON (((-75.60052 40.05667, -75.59983 ...</td>\n",
       "    </tr>\n",
       "    <tr>\n",
       "      <th>3</th>\n",
       "      <td>New Jersey Highlands</td>\n",
       "      <td>4</td>\n",
       "      <td>0</td>\n",
       "      <td>4</td>\n",
       "      <td>4.417943e+05</td>\n",
       "      <td>4.417943e+05</td>\n",
       "      <td>4.414416e+05</td>\n",
       "      <td>441442</td>\n",
       "      <td>New Jersey Highlands</td>\n",
       "      <td>0.000000</td>\n",
       "      <td>0.000000</td>\n",
       "      <td>MULTIPOLYGON (((-75.16331 40.94820, -75.16154 ...</td>\n",
       "    </tr>\n",
       "    <tr>\n",
       "      <th>4</th>\n",
       "      <td>Schuylkill Highlands</td>\n",
       "      <td>5</td>\n",
       "      <td>0</td>\n",
       "      <td>6</td>\n",
       "      <td>1.091863e+05</td>\n",
       "      <td>1.091863e+05</td>\n",
       "      <td>1.091078e+05</td>\n",
       "      <td>109108</td>\n",
       "      <td>Schuylkill Highlands</td>\n",
       "      <td>0.000000</td>\n",
       "      <td>0.000000</td>\n",
       "      <td>MULTIPOLYGON (((-75.63777 40.25676, -75.63702 ...</td>\n",
       "    </tr>\n",
       "    <tr>\n",
       "      <th>5</th>\n",
       "      <td>Upstream Suburban Philadelphia</td>\n",
       "      <td>6</td>\n",
       "      <td>0</td>\n",
       "      <td>8</td>\n",
       "      <td>8.465670e+04</td>\n",
       "      <td>8.465670e+04</td>\n",
       "      <td>8.458919e+04</td>\n",
       "      <td>84589</td>\n",
       "      <td>Upstream Suburban Philadelphia</td>\n",
       "      <td>0.000000</td>\n",
       "      <td>0.000000</td>\n",
       "      <td>MULTIPOLYGON (((-75.24542 40.24569, -75.24462 ...</td>\n",
       "    </tr>\n",
       "    <tr>\n",
       "      <th>6</th>\n",
       "      <td>Kirkwood - Cohansey Aquifer</td>\n",
       "      <td>7</td>\n",
       "      <td>0</td>\n",
       "      <td>2</td>\n",
       "      <td>1.355948e+06</td>\n",
       "      <td>1.355948e+06</td>\n",
       "      <td>1.354892e+06</td>\n",
       "      <td>1354892</td>\n",
       "      <td>Kirkwood Cohansey Aquifer</td>\n",
       "      <td>0.000000</td>\n",
       "      <td>0.000000</td>\n",
       "      <td>MULTIPOLYGON (((-75.42338 39.55279, -75.42374 ...</td>\n",
       "    </tr>\n",
       "    <tr>\n",
       "      <th>7</th>\n",
       "      <td>Upper Lehigh</td>\n",
       "      <td>8</td>\n",
       "      <td>0</td>\n",
       "      <td>7</td>\n",
       "      <td>4.894516e+05</td>\n",
       "      <td>4.894516e+05</td>\n",
       "      <td>4.890917e+05</td>\n",
       "      <td>489092</td>\n",
       "      <td>Upper Lehigh</td>\n",
       "      <td>0.000000</td>\n",
       "      <td>0.000000</td>\n",
       "      <td>MULTIPOLYGON (((-75.41172 41.28605, -75.41113 ...</td>\n",
       "    </tr>\n",
       "  </tbody>\n",
       "</table>\n",
       "</div>"
      ],
      "text/plain": [
       "                           labels  gid  objectid  label_id     sum_acres  \\\n",
       "0          Poconos and Kittatinny    1         0         5  8.662812e+05   \n",
       "1               Middle Schuylkill    2         0         3  5.018739e+05   \n",
       "2        Brandywine and Christina    3         0         1  3.605241e+05   \n",
       "3            New Jersey Highlands    4         0         4  4.417943e+05   \n",
       "4            Schuylkill Highlands    5         0         6  1.091863e+05   \n",
       "5  Upstream Suburban Philadelphia    6         0         8  8.465670e+04   \n",
       "6     Kirkwood - Cohansey Aquifer    7         0         2  1.355948e+06   \n",
       "7                    Upper Lehigh    8         0         7  4.894516e+05   \n",
       "\n",
       "          acres     ncontrb_a  acres_ans                            name  \\\n",
       "0  8.662812e+05  8.655927e+05     865593          Poconos and Kittatinny   \n",
       "1  5.018739e+05  5.015325e+05     501533               Middle Schuylkill   \n",
       "2  3.605241e+05  3.602701e+05     360270        Brandywine and Christina   \n",
       "3  4.417943e+05  4.414416e+05     441442            New Jersey Highlands   \n",
       "4  1.091863e+05  1.091078e+05     109108            Schuylkill Highlands   \n",
       "5  8.465670e+04  8.458919e+04      84589  Upstream Suburban Philadelphia   \n",
       "6  1.355948e+06  1.354892e+06    1354892       Kirkwood Cohansey Aquifer   \n",
       "7  4.894516e+05  4.890917e+05     489092                    Upper Lehigh   \n",
       "\n",
       "   shape_leng  shape_area                                               geom  \n",
       "0    5.179372    0.368441  MULTIPOLYGON (((-74.85664 41.72986, -74.85633 ...  \n",
       "1    0.000000    0.000000  MULTIPOLYGON (((-76.20066 40.49200, -76.20078 ...  \n",
       "2    0.000000    0.000000  MULTIPOLYGON (((-75.60052 40.05667, -75.59983 ...  \n",
       "3    0.000000    0.000000  MULTIPOLYGON (((-75.16331 40.94820, -75.16154 ...  \n",
       "4    0.000000    0.000000  MULTIPOLYGON (((-75.63777 40.25676, -75.63702 ...  \n",
       "5    0.000000    0.000000  MULTIPOLYGON (((-75.24542 40.24569, -75.24462 ...  \n",
       "6    0.000000    0.000000  MULTIPOLYGON (((-75.42338 39.55279, -75.42374 ...  \n",
       "7    0.000000    0.000000  MULTIPOLYGON (((-75.41172 41.28605, -75.41113 ...  "
      ]
     },
     "execution_count": 85,
     "metadata": {},
     "output_type": "execute_result"
    }
   ],
   "source": [
    "cluster_gdf = cluster_gdf.astype({'name': object, 'labels': object})\n",
    "#cluster_gdf = cluster_gdf.reset_index()\n",
    "cluster_gdf"
   ]
  },
  {
   "cell_type": "code",
   "execution_count": 59,
   "id": "dbd531bf-fe24-4506-81c9-bb6334af0cb8",
   "metadata": {},
   "outputs": [
    {
     "data": {
      "text/plain": [
       "<AxesSubplot:>"
      ]
     },
     "execution_count": 59,
     "metadata": {},
     "output_type": "execute_result"
    },
    {
     "data": {
      "image/png": "[encoded data removed]",
      "text/plain": [
       "<Figure size 432x288 with 1 Axes>"
      ]
     },
     "metadata": {
      "needs_background": "light"
     },
     "output_type": "display_data"
    }
   ],
   "source": [
    "cluster_gdf.to_crs(epsg=4326, inplace=True)\n",
    "x = cluster_gdf[cluster_gdf['name']=='Brandywine and Christina']\n",
    "x.plot()"
   ]
  },
  {
   "cell_type": "markdown",
   "id": "484e1fb0-c1e4-4f7f-950a-722d9e4f24e2",
   "metadata": {
    "tags": []
   },
   "source": [
    "### Protected lands 3030 call"
   ]
  },
  {
   "cell_type": "code",
   "execution_count": 20,
   "id": "bec88814-fb0a-4350-aab5-95037d287a27",
   "metadata": {},
   "outputs": [],
   "source": [
    "def get_3030_protected_lands(geojson):\n",
    "    pl_3030_dict = {'OBJECTID':[],\n",
    "                        'sitename': [],\n",
    "                        'practice_type': [],\n",
    "                        'mmw_area_m2': [],\n",
    "                        'forest_area_m2': [],\n",
    "                        'natural_area_m2': []}\n",
    "\n",
    "    forest_lu = [41, 42, 43]\n",
    "\n",
    "    # Include open water, forest, shrub/scrub, grassland/herbaceous, and wetlands as \"natural\"\n",
    "    natural_lu = [11, 41, 42, 43, 52, 71, 90, 95]\n",
    "    \n",
    "    # Kent, DE 775; Sussex, DE 825; Haman 1031; Myrancuk 1746\n",
    "    # Smith 2161; Tom 2327; Twp 2359; U-pick 2992\n",
    "    # Error no objects to concatenate\n",
    "    \n",
    "    for item in geojson['features']:\n",
    "        name = item['properties']['sitename']\n",
    "        oid = item['properties']['OBJECTID']\n",
    "        practice_type = item['properties']['RECLASS2']\n",
    "\n",
    "        print(name)\n",
    "        \n",
    "        if (name != 'Arthur Weeks' and name != 'Caruso, Angelo J.' and name != 'Estate of George E. Scheller' \n",
    "            and name != 'Farm and Ranch Lands Protection Program (FRPP), Burlington, New Jersey' \n",
    "            and name != 'Farm And Ranch Lands Protection Program (Frpp), Kent, Delaware'\n",
    "            and name != 'Farm And Ranch Lands Protection Program (Frpp), Sussex, Delaware'\n",
    "            and name != 'Haman-Hoch-Coleman District' and name != 'Myrancuk & Weinroth'\n",
    "            and name != 'Smith District' and name != 'Tom & Denise Costantino'\n",
    "            and name != 'Twp of Blairstown (DeBlock)' and name != 'U-Pick Farm Stream Corridor'\n",
    "            and name != 'Salem County, NJ 111'):\n",
    "\n",
    "            item_lu_df = mmw_run.run_batch_analysis(\n",
    "                [item['geometry']],\n",
    "                mmw_run.land_endpoint.format(\"2019_2019\"))\n",
    "\n",
    "            total_area_m2 = item_lu_df['area'].sum()\n",
    "\n",
    "            forest_df = item_lu_df[item_lu_df['nlcd'].isin(forest_lu)]\n",
    "            forest_m2 = forest_df['area'].sum()\n",
    "\n",
    "            natural_df = item_lu_df[item_lu_df['nlcd'].isin(natural_lu)]\n",
    "            natural_m2 = natural_df['area'].sum()\n",
    "\n",
    "            perc_forest = forest_m2/total_area_m2 * 100\n",
    "            perc_natural = natural_m2/total_area_m2 * 100\n",
    "\n",
    "            pl_3030_dict['sitename'].append(name)\n",
    "            pl_3030_dict['practice_type'].append(practice_type)\n",
    "            pl_3030_dict['mmw_area_m2'].append(total_area_m2)\n",
    "            pl_3030_dict['forest_area_m2'].append(forest_m2)\n",
    "            pl_3030_dict['natural_area_m2'].append(natural_m2)\n",
    "            pl_3030_dict['OBJECTID'].append(oid)\n",
    "\n",
    "            \n",
    "    pl_3030_df = pd.DataFrame().from_dict(pl_3030_dict)\n",
    "    return(pl_3030_df)"
   ]
  },
  {
   "cell_type": "code",
   "execution_count": 21,
   "id": "6b9e8c22-ade7-4908-8c6b-cb21694dfd74",
   "metadata": {},
   "outputs": [
    {
     "name": "stdout",
     "output_type": "stream",
     "text": [
      "Farm And Ranch Lands Protection Program (Frpp), Kent, Delaware\n",
      "Salem County, NJ 111\n",
      "SADC/Applegate\n"
     ]
    },
    {
     "ename": "ValueError",
     "evalue": "No objects to concatenate",
     "output_type": "error",
     "traceback": [
      "\u001b[1;31m---------------------------------------------------------------------------\u001b[0m",
      "\u001b[1;31mValueError\u001b[0m                                Traceback (most recent call last)",
      "Input \u001b[1;32mIn [21]\u001b[0m, in \u001b[0;36m<cell line: 1>\u001b[1;34m()\u001b[0m\n\u001b[1;32m----> 1\u001b[0m \u001b[43mget_3030_protected_lands\u001b[49m\u001b[43m(\u001b[49m\u001b[43mwcpa_json\u001b[49m\u001b[43m)\u001b[49m\n",
      "Input \u001b[1;32mIn [20]\u001b[0m, in \u001b[0;36mget_3030_protected_lands\u001b[1;34m(geojson)\u001b[0m\n\u001b[0;32m     23\u001b[0m \u001b[38;5;28mprint\u001b[39m(name)\n\u001b[0;32m     25\u001b[0m \u001b[38;5;28;01mif\u001b[39;00m (name \u001b[38;5;241m!=\u001b[39m \u001b[38;5;124m'\u001b[39m\u001b[38;5;124mArthur Weeks\u001b[39m\u001b[38;5;124m'\u001b[39m \u001b[38;5;129;01mand\u001b[39;00m name \u001b[38;5;241m!=\u001b[39m \u001b[38;5;124m'\u001b[39m\u001b[38;5;124mCaruso, Angelo J.\u001b[39m\u001b[38;5;124m'\u001b[39m \u001b[38;5;129;01mand\u001b[39;00m name \u001b[38;5;241m!=\u001b[39m \u001b[38;5;124m'\u001b[39m\u001b[38;5;124mEstate of George E. Scheller\u001b[39m\u001b[38;5;124m'\u001b[39m \n\u001b[0;32m     26\u001b[0m     \u001b[38;5;129;01mand\u001b[39;00m name \u001b[38;5;241m!=\u001b[39m \u001b[38;5;124m'\u001b[39m\u001b[38;5;124mFarm and Ranch Lands Protection Program (FRPP), Burlington, New Jersey\u001b[39m\u001b[38;5;124m'\u001b[39m \n\u001b[0;32m     27\u001b[0m     \u001b[38;5;129;01mand\u001b[39;00m name \u001b[38;5;241m!=\u001b[39m \u001b[38;5;124m'\u001b[39m\u001b[38;5;124mFarm And Ranch Lands Protection Program (Frpp), Kent, Delaware\u001b[39m\u001b[38;5;124m'\u001b[39m\n\u001b[1;32m   (...)\u001b[0m\n\u001b[0;32m     31\u001b[0m     \u001b[38;5;129;01mand\u001b[39;00m name \u001b[38;5;241m!=\u001b[39m \u001b[38;5;124m'\u001b[39m\u001b[38;5;124mTwp of Blairstown (DeBlock)\u001b[39m\u001b[38;5;124m'\u001b[39m \u001b[38;5;129;01mand\u001b[39;00m name \u001b[38;5;241m!=\u001b[39m \u001b[38;5;124m'\u001b[39m\u001b[38;5;124mU-Pick Farm Stream Corridor\u001b[39m\u001b[38;5;124m'\u001b[39m\n\u001b[0;32m     32\u001b[0m     \u001b[38;5;129;01mand\u001b[39;00m name \u001b[38;5;241m!=\u001b[39m \u001b[38;5;124m'\u001b[39m\u001b[38;5;124mSalem County, NJ 111\u001b[39m\u001b[38;5;124m'\u001b[39m):\n\u001b[1;32m---> 34\u001b[0m     item_lu_df \u001b[38;5;241m=\u001b[39m \u001b[43mmmw_run\u001b[49m\u001b[38;5;241;43m.\u001b[39;49m\u001b[43mrun_batch_analysis\u001b[49m\u001b[43m(\u001b[49m\n\u001b[0;32m     35\u001b[0m \u001b[43m        \u001b[49m\u001b[43m[\u001b[49m\u001b[43mitem\u001b[49m\u001b[43m[\u001b[49m\u001b[38;5;124;43m'\u001b[39;49m\u001b[38;5;124;43mgeometry\u001b[39;49m\u001b[38;5;124;43m'\u001b[39;49m\u001b[43m]\u001b[49m\u001b[43m]\u001b[49m\u001b[43m,\u001b[49m\n\u001b[0;32m     36\u001b[0m \u001b[43m        \u001b[49m\u001b[43mmmw_run\u001b[49m\u001b[38;5;241;43m.\u001b[39;49m\u001b[43mland_endpoint\u001b[49m\u001b[38;5;241;43m.\u001b[39;49m\u001b[43mformat\u001b[49m\u001b[43m(\u001b[49m\u001b[38;5;124;43m\"\u001b[39;49m\u001b[38;5;124;43m2019_2019\u001b[39;49m\u001b[38;5;124;43m\"\u001b[39;49m\u001b[43m)\u001b[49m\u001b[43m)\u001b[49m\n\u001b[0;32m     38\u001b[0m     total_area_m2 \u001b[38;5;241m=\u001b[39m item_lu_df[\u001b[38;5;124m'\u001b[39m\u001b[38;5;124marea\u001b[39m\u001b[38;5;124m'\u001b[39m]\u001b[38;5;241m.\u001b[39msum()\n\u001b[0;32m     40\u001b[0m     forest_df \u001b[38;5;241m=\u001b[39m item_lu_df[item_lu_df[\u001b[38;5;124m'\u001b[39m\u001b[38;5;124mnlcd\u001b[39m\u001b[38;5;124m'\u001b[39m]\u001b[38;5;241m.\u001b[39misin(forest_lu)]\n",
      "File \u001b[1;32m~\\.conda\\envs\\WikiSRAT\\lib\\site-packages\\modelmw_client\\model_client.py:985\u001b[0m, in \u001b[0;36mModelMyWatershedAPI.run_batch_analysis\u001b[1;34m(self, list_of_aois, analysis_endpoint)\u001b[0m\n\u001b[0;32m    982\u001b[0m     run_number \u001b[38;5;241m+\u001b[39m\u001b[38;5;241m=\u001b[39m \u001b[38;5;241m1\u001b[39m\n\u001b[0;32m    984\u001b[0m \u001b[38;5;66;03m# join all of the frames together into one frame with the batch results\u001b[39;00m\n\u001b[1;32m--> 985\u001b[0m lu_results \u001b[38;5;241m=\u001b[39m \u001b[43mpd\u001b[49m\u001b[38;5;241;43m.\u001b[39;49m\u001b[43mconcat\u001b[49m\u001b[43m(\u001b[49m\u001b[43mrun_frames\u001b[49m\u001b[43m,\u001b[49m\u001b[43m \u001b[49m\u001b[43mignore_index\u001b[49m\u001b[38;5;241;43m=\u001b[39;49m\u001b[38;5;28;43;01mTrue\u001b[39;49;00m\u001b[43m)\u001b[49m\n\u001b[0;32m    986\u001b[0m \u001b[38;5;28;01mreturn\u001b[39;00m lu_results\n",
      "File \u001b[1;32m~\\.conda\\envs\\WikiSRAT\\lib\\site-packages\\pandas\\util\\_decorators.py:311\u001b[0m, in \u001b[0;36mdeprecate_nonkeyword_arguments.<locals>.decorate.<locals>.wrapper\u001b[1;34m(*args, **kwargs)\u001b[0m\n\u001b[0;32m    305\u001b[0m \u001b[38;5;28;01mif\u001b[39;00m \u001b[38;5;28mlen\u001b[39m(args) \u001b[38;5;241m>\u001b[39m num_allow_args:\n\u001b[0;32m    306\u001b[0m     warnings\u001b[38;5;241m.\u001b[39mwarn(\n\u001b[0;32m    307\u001b[0m         msg\u001b[38;5;241m.\u001b[39mformat(arguments\u001b[38;5;241m=\u001b[39marguments),\n\u001b[0;32m    308\u001b[0m         \u001b[38;5;167;01mFutureWarning\u001b[39;00m,\n\u001b[0;32m    309\u001b[0m         stacklevel\u001b[38;5;241m=\u001b[39mstacklevel,\n\u001b[0;32m    310\u001b[0m     )\n\u001b[1;32m--> 311\u001b[0m \u001b[38;5;28;01mreturn\u001b[39;00m \u001b[43mfunc\u001b[49m\u001b[43m(\u001b[49m\u001b[38;5;241;43m*\u001b[39;49m\u001b[43margs\u001b[49m\u001b[43m,\u001b[49m\u001b[43m \u001b[49m\u001b[38;5;241;43m*\u001b[39;49m\u001b[38;5;241;43m*\u001b[39;49m\u001b[43mkwargs\u001b[49m\u001b[43m)\u001b[49m\n",
      "File \u001b[1;32m~\\.conda\\envs\\WikiSRAT\\lib\\site-packages\\pandas\\core\\reshape\\concat.py:347\u001b[0m, in \u001b[0;36mconcat\u001b[1;34m(objs, axis, join, ignore_index, keys, levels, names, verify_integrity, sort, copy)\u001b[0m\n\u001b[0;32m    143\u001b[0m \u001b[38;5;129m@deprecate_nonkeyword_arguments\u001b[39m(version\u001b[38;5;241m=\u001b[39m\u001b[38;5;28;01mNone\u001b[39;00m, allowed_args\u001b[38;5;241m=\u001b[39m[\u001b[38;5;124m\"\u001b[39m\u001b[38;5;124mobjs\u001b[39m\u001b[38;5;124m\"\u001b[39m])\n\u001b[0;32m    144\u001b[0m \u001b[38;5;28;01mdef\u001b[39;00m \u001b[38;5;21mconcat\u001b[39m(\n\u001b[0;32m    145\u001b[0m     objs: Iterable[NDFrame] \u001b[38;5;241m|\u001b[39m Mapping[Hashable, NDFrame],\n\u001b[1;32m   (...)\u001b[0m\n\u001b[0;32m    154\u001b[0m     copy: \u001b[38;5;28mbool\u001b[39m \u001b[38;5;241m=\u001b[39m \u001b[38;5;28;01mTrue\u001b[39;00m,\n\u001b[0;32m    155\u001b[0m ) \u001b[38;5;241m-\u001b[39m\u001b[38;5;241m>\u001b[39m DataFrame \u001b[38;5;241m|\u001b[39m Series:\n\u001b[0;32m    156\u001b[0m     \u001b[38;5;124;03m\"\"\"\u001b[39;00m\n\u001b[0;32m    157\u001b[0m \u001b[38;5;124;03m    Concatenate pandas objects along a particular axis with optional set logic\u001b[39;00m\n\u001b[0;32m    158\u001b[0m \u001b[38;5;124;03m    along the other axes.\u001b[39;00m\n\u001b[1;32m   (...)\u001b[0m\n\u001b[0;32m    345\u001b[0m \u001b[38;5;124;03m    ValueError: Indexes have overlapping values: ['a']\u001b[39;00m\n\u001b[0;32m    346\u001b[0m \u001b[38;5;124;03m    \"\"\"\u001b[39;00m\n\u001b[1;32m--> 347\u001b[0m     op \u001b[38;5;241m=\u001b[39m \u001b[43m_Concatenator\u001b[49m\u001b[43m(\u001b[49m\n\u001b[0;32m    348\u001b[0m \u001b[43m        \u001b[49m\u001b[43mobjs\u001b[49m\u001b[43m,\u001b[49m\n\u001b[0;32m    349\u001b[0m \u001b[43m        \u001b[49m\u001b[43maxis\u001b[49m\u001b[38;5;241;43m=\u001b[39;49m\u001b[43maxis\u001b[49m\u001b[43m,\u001b[49m\n\u001b[0;32m    350\u001b[0m \u001b[43m        \u001b[49m\u001b[43mignore_index\u001b[49m\u001b[38;5;241;43m=\u001b[39;49m\u001b[43mignore_index\u001b[49m\u001b[43m,\u001b[49m\n\u001b[0;32m    351\u001b[0m \u001b[43m        \u001b[49m\u001b[43mjoin\u001b[49m\u001b[38;5;241;43m=\u001b[39;49m\u001b[43mjoin\u001b[49m\u001b[43m,\u001b[49m\n\u001b[0;32m    352\u001b[0m \u001b[43m        \u001b[49m\u001b[43mkeys\u001b[49m\u001b[38;5;241;43m=\u001b[39;49m\u001b[43mkeys\u001b[49m\u001b[43m,\u001b[49m\n\u001b[0;32m    353\u001b[0m \u001b[43m        \u001b[49m\u001b[43mlevels\u001b[49m\u001b[38;5;241;43m=\u001b[39;49m\u001b[43mlevels\u001b[49m\u001b[43m,\u001b[49m\n\u001b[0;32m    354\u001b[0m \u001b[43m        \u001b[49m\u001b[43mnames\u001b[49m\u001b[38;5;241;43m=\u001b[39;49m\u001b[43mnames\u001b[49m\u001b[43m,\u001b[49m\n\u001b[0;32m    355\u001b[0m \u001b[43m        \u001b[49m\u001b[43mverify_integrity\u001b[49m\u001b[38;5;241;43m=\u001b[39;49m\u001b[43mverify_integrity\u001b[49m\u001b[43m,\u001b[49m\n\u001b[0;32m    356\u001b[0m \u001b[43m        \u001b[49m\u001b[43mcopy\u001b[49m\u001b[38;5;241;43m=\u001b[39;49m\u001b[43mcopy\u001b[49m\u001b[43m,\u001b[49m\n\u001b[0;32m    357\u001b[0m \u001b[43m        \u001b[49m\u001b[43msort\u001b[49m\u001b[38;5;241;43m=\u001b[39;49m\u001b[43msort\u001b[49m\u001b[43m,\u001b[49m\n\u001b[0;32m    358\u001b[0m \u001b[43m    \u001b[49m\u001b[43m)\u001b[49m\n\u001b[0;32m    360\u001b[0m     \u001b[38;5;28;01mreturn\u001b[39;00m op\u001b[38;5;241m.\u001b[39mget_result()\n",
      "File \u001b[1;32m~\\.conda\\envs\\WikiSRAT\\lib\\site-packages\\pandas\\core\\reshape\\concat.py:404\u001b[0m, in \u001b[0;36m_Concatenator.__init__\u001b[1;34m(self, objs, axis, join, keys, levels, names, ignore_index, verify_integrity, copy, sort)\u001b[0m\n\u001b[0;32m    401\u001b[0m     objs \u001b[38;5;241m=\u001b[39m \u001b[38;5;28mlist\u001b[39m(objs)\n\u001b[0;32m    403\u001b[0m \u001b[38;5;28;01mif\u001b[39;00m \u001b[38;5;28mlen\u001b[39m(objs) \u001b[38;5;241m==\u001b[39m \u001b[38;5;241m0\u001b[39m:\n\u001b[1;32m--> 404\u001b[0m     \u001b[38;5;28;01mraise\u001b[39;00m \u001b[38;5;167;01mValueError\u001b[39;00m(\u001b[38;5;124m\"\u001b[39m\u001b[38;5;124mNo objects to concatenate\u001b[39m\u001b[38;5;124m\"\u001b[39m)\n\u001b[0;32m    406\u001b[0m \u001b[38;5;28;01mif\u001b[39;00m keys \u001b[38;5;129;01mis\u001b[39;00m \u001b[38;5;28;01mNone\u001b[39;00m:\n\u001b[0;32m    407\u001b[0m     objs \u001b[38;5;241m=\u001b[39m \u001b[38;5;28mlist\u001b[39m(com\u001b[38;5;241m.\u001b[39mnot_none(\u001b[38;5;241m*\u001b[39mobjs))\n",
      "\u001b[1;31mValueError\u001b[0m: No objects to concatenate"
     ]
    }
   ],
   "source": [
    "get_3030_protected_lands(wcpa_json)"
   ]
  },
  {
   "cell_type": "code",
   "execution_count": 20,
   "id": "4d1a46ec-7b02-4158-bbad-92e0ffe94cc4",
   "metadata": {},
   "outputs": [
    {
     "data": {
      "text/html": [
       "<div>\n",
       "<style scoped>\n",
       "    .dataframe tbody tr th:only-of-type {\n",
       "        vertical-align: middle;\n",
       "    }\n",
       "\n",
       "    .dataframe tbody tr th {\n",
       "        vertical-align: top;\n",
       "    }\n",
       "\n",
       "    .dataframe thead th {\n",
       "        text-align: right;\n",
       "    }\n",
       "</style>\n",
       "<table border=\"1\" class=\"dataframe\">\n",
       "  <thead>\n",
       "    <tr style=\"text-align: right;\">\n",
       "      <th></th>\n",
       "      <th>sitename</th>\n",
       "      <th>practice_type</th>\n",
       "      <th>mmw_area_m2</th>\n",
       "      <th>perc_forest</th>\n",
       "      <th>perc_natural</th>\n",
       "    </tr>\n",
       "  </thead>\n",
       "  <tbody>\n",
       "    <tr>\n",
       "      <th>0</th>\n",
       "      <td>A &amp; A Likanchuk Enterprises</td>\n",
       "      <td>Agricultural Easement</td>\n",
       "      <td>188438.510607</td>\n",
       "      <td>29.047619</td>\n",
       "      <td>29.047619</td>\n",
       "    </tr>\n",
       "    <tr>\n",
       "      <th>1</th>\n",
       "      <td>A Massey And Mary G Moor Expansion Of The Mrs ...</td>\n",
       "      <td>Agricultural Easement</td>\n",
       "      <td>200108.761614</td>\n",
       "      <td>0.000000</td>\n",
       "      <td>8.520179</td>\n",
       "    </tr>\n",
       "    <tr>\n",
       "      <th>2</th>\n",
       "      <td>A. Robert &amp; Elizabeth Masten Forestland Preser...</td>\n",
       "      <td>Agricultural Easement</td>\n",
       "      <td>62817.072814</td>\n",
       "      <td>11.428571</td>\n",
       "      <td>97.142857</td>\n",
       "    </tr>\n",
       "    <tr>\n",
       "      <th>3</th>\n",
       "      <td>A. Robert Masten District</td>\n",
       "      <td>Agricultural Easement</td>\n",
       "      <td>680216.036057</td>\n",
       "      <td>5.013193</td>\n",
       "      <td>42.875989</td>\n",
       "    </tr>\n",
       "  </tbody>\n",
       "</table>\n",
       "</div>"
      ],
      "text/plain": [
       "                                            sitename          practice_type  \\\n",
       "0                        A & A Likanchuk Enterprises  Agricultural Easement   \n",
       "1  A Massey And Mary G Moor Expansion Of The Mrs ...  Agricultural Easement   \n",
       "2  A. Robert & Elizabeth Masten Forestland Preser...  Agricultural Easement   \n",
       "3                          A. Robert Masten District  Agricultural Easement   \n",
       "\n",
       "     mmw_area_m2  perc_forest  perc_natural  \n",
       "0  188438.510607    29.047619     29.047619  \n",
       "1  200108.761614     0.000000      8.520179  \n",
       "2   62817.072814    11.428571     97.142857  \n",
       "3  680216.036057     5.013193     42.875989  "
      ]
     },
     "execution_count": 20,
     "metadata": {},
     "output_type": "execute_result"
    }
   ],
   "source": [
    "wcpa_lu"
   ]
  },
  {
   "cell_type": "code",
   "execution_count": null,
   "id": "f3758fac-8e19-49a6-9802-bb01759a8c9d",
   "metadata": {},
   "outputs": [],
   "source": [
    "fig, ax = plt.subplots()\n",
    "wcpa_gdf.geometry.boundary.plot(color=None,edgecolor='k',ax=ax)\n",
    "plt.show()"
   ]
  },
  {
   "cell_type": "code",
   "execution_count": null,
   "id": "88b64660-a843-47da-9b54-ff95b21f70fe",
   "metadata": {},
   "outputs": [],
   "source": [
    "fig, ax = plt.subplots()\n",
    "fielddoc_gdf.geometry.boundary.plot(color=None,edgecolor='k',ax=ax)\n",
    "plt.show()"
   ]
  },
  {
   "cell_type": "code",
   "execution_count": null,
   "id": "fbeba02c-5b1c-4b1e-a5d1-c4e6d04c9fec",
   "metadata": {},
   "outputs": [],
   "source": [
    "for item in wcpa_json['features']:\n",
    "    print(item['geometry'])"
   ]
  },
  {
   "cell_type": "code",
   "execution_count": null,
   "id": "0ae842f9-f927-4da3-ab48-3d4c1ddbd7d6",
   "metadata": {},
   "outputs": [],
   "source": [
    "wcpa_run_dict = {}\n",
    "\n",
    "#fielddoc_run_dict[test['practice_name']] = {}\n",
    "for item in wcpa_json['features']:\n",
    "    \n",
    "\n",
    "    print(f'Starting...')\n",
    "    # Set up request\n",
    "    DATA = {'area_of_interest': item['geometry']}\n",
    "    HEADERS = {'Authorization': f'Token {MMW_API_TOKEN}'}\n",
    "    res_base = requests.post(f'{MMW_API_URL}/analyze/land/2019/',data=DATA, headers=HEADERS)\n",
    "\n",
    "    print('  waiting for id ... ')\n",
    "    time.sleep(10)\n",
    "    print(res_base.json())\n",
    "    #PREPARE_JOB_UUID = res_base.json()['job_uuid']\n",
    "    #res_base = requests.get(f'{MMW_API_URL}/jobs/{PREPARE_JOB_UUID}/', headers=HEADERS)\n",
    "    #time.sleep(10)\n",
    "    \n",
    "    print('  sending run...')\n",
    "    "
   ]
  }
 ],
 "metadata": {
  "kernelspec": {
   "display_name": "Python [conda env:.conda-WikiSRAT] *",
   "language": "python",
   "name": "conda-env-.conda-WikiSRAT-py"
  },
  "language_info": {
   "codemirror_mode": {
    "name": "ipython",
    "version": 3
   },
   "file_extension": ".py",
   "mimetype": "text/x-python",
   "name": "python",
   "nbconvert_exporter": "python",
   "pygments_lexer": "ipython3",
   "version": "3.8.13"
  }
 },
 "nbformat": 4,
 "nbformat_minor": 5
}
