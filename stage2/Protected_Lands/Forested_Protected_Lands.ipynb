{
 "cells": [
  {
   "cell_type": "markdown",
   "id": "338205ed-3262-4421-9b52-d7c9c8159235",
   "metadata": {},
   "source": [
    "Forested Protected Lands\n",
    "===\n",
    "\n",
    "This notebook overlays the DRWI protected lands and WeConservePA protected lands with the 2019 NLCD land use data using the ModelMyWatershed api. \n",
    "\n",
    "The goal of this notebook is to identify whether protected lands overlap with forested areas."
   ]
  },
  {
   "cell_type": "markdown",
   "id": "17be690c-4eea-41cb-880e-13e84f481923",
   "metadata": {},
   "source": [
    "# Setup"
   ]
  },
  {
   "cell_type": "markdown",
   "id": "71717a89-7bae-4031-a80d-608ff9348746",
   "metadata": {},
   "source": [
    "## Imports"
   ]
  },
  {
   "cell_type": "code",
   "execution_count": 1,
   "id": "e09ff36c-c364-42cd-a140-ff2da2923545",
   "metadata": {},
   "outputs": [],
   "source": [
    "# Import packages\n",
    "from pathlib import Path\n",
    "import pandas as pd\n",
    "import geopandas as gpd\n",
    "import json\n",
    "from modelmw_client import *\n",
    "\n",
    "# Plotting packages\n",
    "import matplotlib.pyplot as plt\n",
    "from matplotlib.colors import ListedColormap\n",
    "from pyproj import CRS\n",
    "from shapely.validation import make_valid\n",
    "import colorcet as cc\n",
    "from colorcet.plotting import swatch, swatches, sine_combs\n",
    "import contextily as ctx"
   ]
  },
  {
   "cell_type": "markdown",
   "id": "5bb1f39e-94b4-4d25-9562-71167fdeb401",
   "metadata": {},
   "source": [
    "## File paths"
   ]
  },
  {
   "cell_type": "code",
   "execution_count": 2,
   "id": "613ba042-1ab1-4651-af53-bd0ac27cbcaf",
   "metadata": {},
   "outputs": [
    {
     "data": {
      "text/plain": [
       "WindowsPath('C:/Users/clulay/OneDrive - LimnoTech/Documents/GitHub/pollution-assessment/stage2/Protected_Lands')"
      ]
     },
     "execution_count": 2,
     "metadata": {},
     "output_type": "execute_result"
    }
   ],
   "source": [
    "# Find your current working directory, which should be folder for this notebook.\n",
    "Path.cwd()"
   ]
  },
  {
   "cell_type": "code",
   "execution_count": 3,
   "id": "7dd48b4f-bb8b-4c4a-b3bb-8c58e5c11089",
   "metadata": {},
   "outputs": [
    {
     "data": {
      "text/plain": [
       "WindowsPath('C:/Users/clulay/OneDrive - LimnoTech/Documents/GitHub/pollution-assessment')"
      ]
     },
     "execution_count": 3,
     "metadata": {},
     "output_type": "execute_result"
    }
   ],
   "source": [
    "# Set your project directory to your local folder for your clone of this repository\n",
    "project_path = Path.cwd().parent.parent\n",
    "project_path"
   ]
  },
  {
   "cell_type": "code",
   "execution_count": 4,
   "id": "fb9161b0-f802-4ed6-b991-f099d193d5c2",
   "metadata": {},
   "outputs": [
    {
     "data": {
      "text/plain": [
       "True"
      ]
     },
     "execution_count": 4,
     "metadata": {},
     "output_type": "execute_result"
    }
   ],
   "source": [
    "# Path to WeConservePA protected lands shapefile\n",
    "wcpa_path = project_path / Path('stage2/Protected_Lands/WeConserve_pl_20220810.shp')\n",
    "wcpa_path.exists()"
   ]
  },
  {
   "cell_type": "markdown",
   "id": "a077571d-1caf-4486-a038-3b674a3749c1",
   "metadata": {},
   "source": [
    "## Private file paths\n",
    "- Download from https://drive.google.com/drive/folders/1HKlnA3lC2xvKBQ1bg1J08gsEB3N9rp2V\n",
    "- Save in `stage2/private` folder"
   ]
  },
  {
   "cell_type": "code",
   "execution_count": 5,
   "id": "331707df-7048-4584-9b51-a68b133a5de8",
   "metadata": {},
   "outputs": [
    {
     "data": {
      "text/plain": [
       "True"
      ]
     },
     "execution_count": 5,
     "metadata": {},
     "output_type": "execute_result"
    }
   ],
   "source": [
    "# Path to FieldDoc protected lands export file\n",
    "fielddoc_path = project_path / Path('stage2/private/protection_bmps_from_FieldDoc.parquet')\n",
    "fielddoc_path.exists()"
   ]
  },
  {
   "cell_type": "markdown",
   "id": "e0684628-1aed-4f2c-8ac0-d4d9dcf7e110",
   "metadata": {},
   "source": [
    "# Load data"
   ]
  },
  {
   "cell_type": "markdown",
   "id": "ccd1ed1d-825c-4ec2-8474-e03905d90d42",
   "metadata": {},
   "source": [
    "## Protected Lands from WeConservePA"
   ]
  },
  {
   "cell_type": "code",
   "execution_count": 6,
   "id": "92ad47fe-835b-4a0a-ac45-275ce7066e29",
   "metadata": {},
   "outputs": [],
   "source": [
    "# Import weconservePA protected lands\n",
    "wcpa_gdf = gpd.read_file(wcpa_path)"
   ]
  },
  {
   "cell_type": "code",
   "execution_count": 7,
   "id": "3bbc10a8-6655-4028-950a-4acaf44d99e9",
   "metadata": {},
   "outputs": [],
   "source": [
    "# Add data source tag\n",
    "wcpa_gdf['data_source'] = 'weconservePA_2022'"
   ]
  },
  {
   "cell_type": "markdown",
   "id": "ed5fa931-7d1c-49f5-a291-aa1ad811fe00",
   "metadata": {},
   "source": [
    "## Protected Lands from FieldDoc"
   ]
  },
  {
   "cell_type": "code",
   "execution_count": 8,
   "id": "b3d8bccd-fee5-44a5-a3e7-d2cced5d06ab",
   "metadata": {},
   "outputs": [],
   "source": [
    "# Import FieldDoc protected lands \n",
    "fielddoc_gdf = gpd.read_parquet(fielddoc_path)\n",
    "\n",
    "# Add a column to fielddoc_gdf with data source\n",
    "fielddoc_gdf['data_source'] = 'fielddoc_2022-08-11'"
   ]
  },
  {
   "cell_type": "markdown",
   "id": "3f848fe8-b5f4-4df2-ba34-14004f85676a",
   "metadata": {
    "tags": []
   },
   "source": [
    "## DRWI Geographies"
   ]
  },
  {
   "cell_type": "code",
   "execution_count": 9,
   "id": "e90b97e7-8dda-484c-883b-923c83dc0f7a",
   "metadata": {},
   "outputs": [],
   "source": [
    "# Import cluster and focus area geometries\n",
    "cluster_gdf = gpd.read_parquet(project_path / Path('stage1/data/cluster_df.parquet'))  \n",
    "focusarea_gdf = gpd.read_parquet(project_path / Path('stage1/data/fa_phase2_df.parquet'))\n",
    "\n",
    "focusarea_gdf.cluster = focusarea_gdf.cluster.replace('Kirkwood Cohansey Aquifer', 'Kirkwood - Cohansey Aquifer') # update name for consistency with other files \n",
    "focusarea_gdf.set_index('name', inplace=True)"
   ]
  },
  {
   "cell_type": "markdown",
   "id": "f811d7b1-3360-4e3d-a407-9c8120159cd1",
   "metadata": {
    "tags": []
   },
   "source": [
    "# Convert from geometries to geojson"
   ]
  },
  {
   "cell_type": "code",
   "execution_count": 21,
   "id": "fe496eed-ee06-446b-83e6-f2481864c397",
   "metadata": {},
   "outputs": [
    {
     "name": "stderr",
     "output_type": "stream",
     "text": [
      "C:\\Users\\clulay\\.conda\\envs\\WikiSRAT\\lib\\site-packages\\geopandas\\io\\file.py:362: FutureWarning: pandas.Int64Index is deprecated and will be removed from pandas in a future version. Use pandas.Index with the appropriate dtype instead.\n",
      "  pd.Int64Index,\n"
     ]
    }
   ],
   "source": [
    "items = [1,2,3,4]\n",
    "sub_gdf = wcpa_gdf[wcpa_gdf['OBJECTID'].isin(items)]\n",
    "wcpa_gdf.to_file(project_path / Path('stage2/Protected_Lands/wcpa.geojson'), driver=\"GeoJSON\")\n",
    "wcpa_json = json.load(open(project_path / Path('stage2/Protected_Lands/wcpa.geojson')))"
   ]
  },
  {
   "cell_type": "code",
   "execution_count": 11,
   "id": "f905ccc8-2183-450d-9e33-6d76417fa8df",
   "metadata": {},
   "outputs": [
    {
     "name": "stderr",
     "output_type": "stream",
     "text": [
      "C:\\Users\\clulay\\.conda\\envs\\WikiSRAT\\lib\\site-packages\\geopandas\\io\\file.py:362: FutureWarning: pandas.Int64Index is deprecated and will be removed from pandas in a future version. Use pandas.Index with the appropriate dtype instead.\n",
      "  pd.Int64Index,\n"
     ]
    }
   ],
   "source": [
    "fielddoc_gdf.to_file(project_path / Path('stage2/private/fielddoc.geojson'), driver=\"GeoJSON\")\n",
    "fd_json = json.load(open(project_path / Path('stage2/private/fielddoc.geojson')))"
   ]
  },
  {
   "cell_type": "markdown",
   "id": "5d793075-280c-40cf-b7a4-b941eb2dddcd",
   "metadata": {},
   "source": [
    "# MMW"
   ]
  },
  {
   "cell_type": "code",
   "execution_count": 12,
   "id": "4c583c0b-1fdc-40a1-8bce-4aa3c9e10881",
   "metadata": {},
   "outputs": [],
   "source": [
    "staging_api_key = '82fb0268c9af8aeaac22c01910d344c3389586a2'"
   ]
  },
  {
   "cell_type": "code",
   "execution_count": 13,
   "id": "dbecf68d-0f85-4a20-97ca-348f43949c3f",
   "metadata": {},
   "outputs": [],
   "source": [
    "# Create an API user\n",
    "mmw_run = ModelMyWatershedAPI(api_key=staging_api_key, use_staging=True)"
   ]
  },
  {
   "cell_type": "code",
   "execution_count": 52,
   "id": "827cd865-2b69-4727-a0fa-6cf7f134f017",
   "metadata": {},
   "outputs": [],
   "source": [
    "# Plot weconservePA and fielddoc protected lands \n",
    "plt.rcParams[\"figure.figsize\"] = (7,10)\n",
    "wcpa_gdf = wcpa_gdf[wcpa_gdf['sitename']=='Estate of George E. Scheller']"
   ]
  },
  {
   "cell_type": "code",
   "execution_count": 55,
   "id": "bec88814-fb0a-4350-aab5-95037d287a27",
   "metadata": {},
   "outputs": [],
   "source": [
    "def get_perc_forest_natural(geojson):\n",
    "    perc_forest_dict = {'sitename': [],\n",
    "                    'practice_type': [],\n",
    "                    'mmw_area_m2': [],\n",
    "                    'perc_forest': [],\n",
    "                    'perc_natural': []}\n",
    "\n",
    "    forest_lu = [41, 42, 43]\n",
    "\n",
    "    # Include forest, shrub/scrub, grassland/herbaceous, and wetlands as \"natural\"\n",
    "    natural_lu = [41, 42, 43, 52, 71, 90, 95]\n",
    "    \n",
    "    for item in geojson['features']:\n",
    "        name = item['properties']['sitename']\n",
    "        if (name != 'Arthur Weeks' and name != 'Caruso, Angelo J.' and name != 'Estate of George E. Scheller' \n",
    "            and name != 'Farm and Ranch Lands Protection Program (FRPP), Burlington, New Jersey'):\n",
    "            print(name)\n",
    "            practice_type = item['properties']['RECLASS2']\n",
    "\n",
    "            item_lu_df = mmw_run.run_batch_analysis(\n",
    "                [item['geometry']],\n",
    "                mmw_run.land_endpoint.format(\"2019_2019\"))\n",
    "\n",
    "            total_area_m2 = item_lu_df['area'].sum()\n",
    "\n",
    "            forest_df = item_lu_df[item_lu_df['nlcd'].isin(forest_lu)]\n",
    "            forest_m2 = forest_df['area'].sum()\n",
    "\n",
    "            natural_df = item_lu_df[item_lu_df['nlcd'].isin(natural_lu)]\n",
    "            natural_m2 = natural_df['area'].sum()\n",
    "\n",
    "            perc_forest = forest_m2/total_area_m2 * 100\n",
    "            perc_natural = natural_m2/total_area_m2 * 100\n",
    "\n",
    "            perc_forest_dict['sitename'].append(name)\n",
    "            perc_forest_dict['practice_type'].append(practice_type)\n",
    "            perc_forest_dict['mmw_area_m2'].append(total_area_m2)\n",
    "            perc_forest_dict['perc_forest'].append(perc_forest)\n",
    "            perc_forest_dict['perc_natural'].append(perc_natural)\n",
    "\n",
    "    perc_forest_df = pd.DataFrame().from_dict(perc_forest_dict)\n",
    "    return(perc_forest_df)"
   ]
  },
  {
   "cell_type": "code",
   "execution_count": null,
   "id": "3bef912f-9596-4c38-bf6b-cfc9a8173d34",
   "metadata": {},
   "outputs": [
    {
     "name": "stdout",
     "output_type": "stream",
     "text": [
      "A & A Likanchuk Enterprises\n",
      "A Massey And Mary G Moor Expansion Of The Mrs Grace Shorts Caulk District\n",
      "A. Robert & Elizabeth Masten Forestland Preservation Area\n",
      "A. Robert Masten District\n",
      "Aaronson, Janet\n",
      "Ackerman and Ackerman (former Elmer Trust)\n",
      "Ackley, David B. & Nancy J. (Lot 4.03)\n",
      "Adams Farm\n",
      "Adamucci (1)\n",
      "Addis, David & Priscilla\n",
      "Agricultural Conservation Easement Program - Agricultural Land Easements (ACEP-ALE), Hunterdon, New Jersey\n",
      "Agricultural Conservation Easement Program - Agricultural Land Easements (Acep-Ale), Kent, Delaware\n",
      "Agricultural Conservation Easement Program - Agricultural Land Easements (Acep-Ale), New Castle, Delaware\n",
      "Agricultural Conservation Easement Program - Agricultural Land Easements (ACEP-ALE), Salem, New Jersey\n",
      "Agricultural Conservation Easement Program - Agricultural Land Easements (ACEP-ALE), Salem, New Jersey\n",
      "Agricultural Conservation Easement Program - Agricultural Land Easements (Acep-Ale), Sussex, Delaware\n",
      "Agricultural Easement\n",
      "AJR\n",
      "Alan & Joan Apgar\n",
      "Alba Vineyards\n",
      "Albert Grier Farm Expansion Of The Cave Plantation District\n",
      "Albert Ruh (Sunset Farm)\n",
      "Ale, Kenneth & Carol (Lot 2) (Easement #13)\n",
      "Ale, Kenneth and Carol (Lot 7.02)\n",
      "Alexander Expansion Of The Exchange Tract Ltd. District\n",
      "Alexandria Airpark LLC\n",
      "Alexandria Twp. (B11, L16)\n",
      "Alfred And Barbara Moor Dixon Farm Expansion Of The Jarrell Farms District\n",
      "Alfred And Barbara Moor Home Farm Expansion Of The Jarrell Farms District\n",
      "Allen Jr., J. & P.\n",
      "Allen Sr., John E.\n",
      "Allen, W. & M.\n",
      "Alloway - Hall\n",
      "Alloway - Prickett\n",
      "Alloway Family, LP (South)\n",
      "Alstede Farm\n",
      "Alvatar, Paul & Betty (TDR)\n",
      "Alvino, Rita C.\n",
      "Ambruster, Larry C. & Jeanne H.\n",
      "Amwell Chase, Inc (Toll North)\n",
      "Andersen, Tor\n",
      "Anderson, John & Cynthia Brown\n",
      "Anema, Kristopher\n",
      "Anthony Estate\n",
      "Anthony Estate\n",
      "Anthony Road\n",
      "Apgar Farm Expansion Of The Wilson District\n",
      "Arcangeli\n",
      "Ardia, Anita (High Acres Farm)\n",
      "Arena Farm\n",
      "Arnel, A & K\n",
      "Arnold Farm\n",
      "Artemis Farm\n",
      "Arthur Weeks (Weeks III B106L7)\n",
      "Asbury Farms\n",
      "Ashcraft\n",
      "Ashmore Farm\n",
      "Associated Tree Movers Inc./Papazian (lot 27)\n",
      "Atanasio, Philip R.\n",
      "Atkinson, Jr., Franklin T. (Lot 11.01)\n",
      "Atlantic Transport, Inc. And Muddy Branch Farm Expansion Of The D. Wayne Holden & Texas Ranch Inc. District\n",
      "Auer Associates I, LLC (Hopewell Heritage Farm, LLC)\n",
      "Austin, Jeanette\n",
      "Aviation Industrial Realty Corp. (TDR)\n",
      "Avsec, Timothy & Diane\n",
      "Ayars, Joseph P (Lot 4)\n",
      "Ayars, Joseph P.\n",
      "Ayars, Joseph P.\n",
      "Ayars, Joseph P.\n",
      "Ayars, Joseph P. (Lot 1)\n",
      "Ayers, James & Lorraine\n",
      "Ayl\n",
      "B-JAC Farms, LLC\n",
      "Babinsky, J Stephen & Susan\n",
      "Back Creek\n",
      "Baitinger, III, Frank P.\n",
      "Baitinger, Shirley\n",
      "Baldachino & Wishengrad\n",
      "Baldachino, G. Sr.\n",
      "Ballinger Farm\n",
      "Bar S. Performance Horses\n",
      "Barbara, Edward\n",
      "Barbara, Edward\n",
      "Barbara, Edward (Easement #185)\n",
      "Barbara, Edward (Easement #185)\n",
      "Barclay Townsend\n",
      "Barna & Evans Farm/ Warcholak\n",
      "Barry Black & BKB Properties / Kaczor\n",
      "Barry, John A. & Elizabeth A.\n",
      "Bartha, Thomas\n",
      "Bartha, Thomas\n",
      "Bartholomew, Claire\n",
      "Barton, John M. & Cheryl #3\n",
      "Barton, John M. & Cheryl #3\n",
      "Basile Farm\n",
      "Batten Farm\n",
      "Bayside State Prison\n",
      "Bayview Farms Expansion Of The Haman-Hoch-Coleman District\n",
      "Beachy Farms Expansion Of The Bobola-Voshell'S Cove District\n",
      "Beatty, B. & S.\n",
      "Beaver Brook Farm\n",
      "Beaver Creek Expansion Of The Mitchell-Quillen District\n",
      "Beetle, Jeffrey and Susan\n",
      "Belfair Expansion Of The Woikoski Farms District\n",
      "Bell Estate/Laks\n",
      "Bell, Albert M.\n",
      "Bell, Albert M.\n",
      "Bellsflower Farm, LLC (Mummey)\n",
      "Benchoff Expansion Of The Norman G. Wilder District\n",
      "Bendelewski North Expansion Of The Emil Gallo-Ruth Gallo District\n",
      "Benioff Farm (divided)\n",
      "Bennet Home Place & Mark Bennett Farm Expansion Of The Bennett District\n",
      "Bennett District\n",
      "Bennett Farms, Inc. Expansion Of The Wells-Bennett District\n",
      "Bennett Sr. And Carlsten District\n",
      "Bennett, R & B\n",
      "Benson Expansion Of The Robert B. Fitzgerald District\n",
      "Benson Farms District\n",
      "Bergold Farm 2 Expansion Of The Myrtle I Harrington District\n",
      "Bergold Farm Expansion Of The West-St Jones River District\n",
      "Bertholf Farm / 48 Delaware LLC\n",
      "Bezr\n",
      "Bezr Home, LLC\n",
      "BF&W Realty\n",
      "BIBUS (TDR)\n",
      "Bill McAlonan\n",
      "Bill McAlonan\n",
      "Bird, W. & A.\n",
      "Bishop Brothers Farm\n",
      "Bishop Brothers Properties, LLC\n",
      "Bishop, J.\n",
      "Bishop, J.\n",
      "Bishop, Kevin & Jessica\n",
      "Bitter, John B. III & Barbara M.\n",
      "Black Dog Industries LLC\n",
      "Black Estate\n",
      "Black Estate\n",
      "Black, R. & A.\n",
      "Blaetz, Marion Estate of\n",
      "Blasig, C. Jr. & M.\n",
      "Blasig, Sr. Farm/ Voorhees\n",
      "Blaso, Peter & Michele\n",
      "Blendt Expansion #2 Of The Wilson District\n",
      "Blendt Expansion Of The Severson Neck District\n",
      "Blew , William Jr.\n",
      "Bleznak, Phillip (TDR)\n",
      "Boarts, Charles A. & Joan W.\n",
      "Boarts, Charles A. & Joan W.\n",
      "Bobola-Voshell'S Cove District\n",
      "Bogad, Frances\n",
      "Bonaccurso Farm (Salem Packing Co.)\n",
      "Bonaccurso Farm (Salem Packing Co.)\n",
      "Bonnie L. App\n",
      "Bordon- Goodbody Farm\n",
      "Borrie #1\n",
      "Boss, Robert Howard (Estate of Henry Boss)\n",
      "Bradbury (TDR)\n",
      "Bradd Devereux\n",
      "Bradway, Wallace and Denise\n",
      "Bramell, B\n",
      "Brenda & Michael Seery\n",
      "Brex, Maria\n",
      "Briarholm Farm - Verde/Polizzi\n",
      "Brittingham Expansion Of The Downs-Shane-Sheats District\n",
      "Broad Oaks Farm Farm\n",
      "Bromm, Harold & Meris Doneley (Cool Farm)\n",
      "Brooks, Michael N. (Brooks Farm)\n",
      "Brooks, W. & D.\n",
      "Brown Expansion Of The Chandler District\n",
      "Brown Farm\n",
      "Brown Farm (Easement #37)\n",
      "Brown, Charles\n",
      "Brugler Farm I (35 acres)\n",
      "Brugler Farm II (Lot 1.01)\n",
      "Brunt, Wendy\n",
      "Bryant, Judith N.\n",
      "Bryce Thompson (Blk 1102 South)\n",
      "Buchman Farm (B48-L23)\n",
      "Buck Hill Farm (Vosper)\n",
      "Bullock, Clarence & Carol\n",
      "Bullock, M. & L. #9\n",
      "Bur Co (Johnson Farm B202 L7.02 & 3)\n",
      "Bur Co (Walder North) B1101, L 4.01 (Easement #32)\n",
      "Bur Co (Winzinger) 2002A RD\n",
      "Bur Cty/Hlubik, M. & S.\n",
      "Bur Cty/Hulbik, Jr. P. & K.\n",
      "Bur Cty/Kessel\n",
      "Bur Cty/Medford/Fieldstone\n",
      "Bur Cty/Medford/Stokelan\n",
      "Bur Cty/Rinaldo\n",
      "Bur./McLaren, Everett & Eva\n",
      "BUR/ Anderson\n",
      "BUR/ Phillips F&A\n",
      "BUR/Allen\n",
      "BUR/Allen\n",
      "Bur/Armstrong, Roger & Byron (S)\n",
      "Bur/B. Roger Kirby & Sons, Inc.\n",
      "BUR/Bauma J&J\n",
      "BUR/Bauma J&R\n",
      "Bur/Bauma, James C. & Ruth\n",
      "Bur/Bird, E. & E.\n",
      "BUR/Blom\n",
      "BUR/Bunting\n",
      "Bur/Bunting C & R (Easement #32)\n",
      "BUR/Carabelli\n",
      "BUR/Cocelli & Wellman\n",
      "BUR/Collier\n",
      "Bur/D'Amico, C. & A.\n",
      "BUR/DiPaola\n",
      "BUR/DiPaola\n",
      "Bur/Dublin Creators, Inc.\n",
      "Bur/Durr, L. & C. (East)\n",
      "BUR/Engle\n",
      "Bur/Equine Farms\n",
      "BUR/Ewing\n",
      "Bur/Garrison, William & Betty\n",
      "Bur/Giacchino\n",
      "Bur/Giacchino\n",
      "BUR/Hancock\n",
      "Bur/Hlubik, J. & G.\n",
      "BUR/Hlubik, MR\n",
      "Bur/Hlubik, P. & S.\n",
      "BUR/Holly, Inc.\n",
      "BUR/Kanter\n",
      "Bur/Kuser, L. & S. & Kuser W. T.\n",
      "Bur/Kuser, L. & S. & Kuser W. T.\n",
      "Bur/Locust Hall Farm\n",
      "BUR/Mahan & Ranalli\n",
      "Bur/Myers, Burtis & Sons\n",
      "Bur/Myers, Burtis & Sons\n",
      "BUR/Neville\n",
      "BUR/Phillips A\n",
      "BUR/Potts\n",
      "Bur/Probasco/Mt Pleasant (N)\n",
      "Bur/Probasco/Mt Pleasant (N)\n",
      "Bur/Probasco/Mt Pleasant (S)\n",
      "Bur/Puglia, William R. & Elvira P.\n",
      "Bur/Reeder, Gordon & Elizabeth\n",
      "Bur/Roberts Orchard\n",
      "Bur/Robson Land Inc.\n",
      "BUR/Rogers\n",
      "Bur/Schoen, J. & E.\n",
      "Bur/Specca, D.\n",
      "BUR/Staub\n",
      "Bur/Sybron (Main)\n",
      "Bur/Sybron (North)\n",
      "Bur/Sybron (South)\n",
      "Bur/Van Istendal Estate\n",
      "Bur/Von Lintig, H. & M.\n",
      "BurCo\\Bush, R & F\n",
      "BurCo\\DiTullio Farm\n",
      "Burg, Joseph & Patricia\n",
      "Burke & Dinsmore (51.01)\n",
      "Burke & Dinsmore (51.02)\n",
      "Burlington (former Winner)\n",
      "Burlington (former Winner)\n",
      "Burlington /Schontz Farm (Wayne & Roberta Shontz)\n",
      "Burlington Cnty/Economakis/Thanopoulus\n",
      "Burlington Cnty/Flynn Tucker, LLC\n",
      "Burlington County/Hainesport LLC\n",
      "Burlington County/Miller\n",
      "Burlington County/Ziegler/Walder\n",
      "Burlington/ Cowperthwait, William\n",
      "Burlington/ Ervin, Charles\n",
      "Burlington/ Fenick, Steward & Elizabeth\n",
      "Burlington/A. Puglia Estate\n",
      "Burlington/A. Puglia Estate\n",
      "Burlington/Conte, J&A\n",
      "Burlington/D'Amico, G&C\n",
      "Burlington/Kaelin, Marie\n",
      "Burlington/Matthews\n",
      "Burlington/Rancocas Valley Regional High\n",
      "Burlington/Rancocas Valley Regional High\n",
      "Burlington/Stattel, Kenneth D.\n",
      "Burlington/Steinberg/Kahn\n",
      "Burlington/Thomas, Deanna K.\n",
      "Burlington\\Griffin, Harold C. & Deanna\n",
      "Burlington\\Salenetri\n",
      "Burrows Farm Expansion Of The D Wayne Holden & Texas Ranch Inc District\n",
      "Hunterdon Farmland #1001 (Bush)\n",
      "Butch (Easement #107)\n",
      "Butch, James\n",
      "Butler Expansion Of The Cahall District\n",
      "Butler Farms\n",
      "Byrne, E. & J.\n",
      "Byrnes, Edward & Barbara (Lot 2)\n",
      "C. May/Gaver, Eric D.\n",
      "C.E. Lynch & Sons, Inc. District\n",
      "Cahall District\n",
      "Cahill, R.\n",
      "Cain, A.\n",
      "Cairone 2\n",
      "Calabrese (TDR)\n",
      "Cali\n",
      "Cali Farm (Easement #37)\n",
      "Calukovic, Ratko   (RTR New Home Building Contractors, Inc.)\n",
      "Campbell Foundry Company\n",
      "Campusome (Horzepa & Cooper) (177)\n",
      "CapeMay/Rossi & Reichle\n",
      "Caputo, Joseph\n",
      "Carey Home Farm District\n",
      "Carl P. King, Jr. #1 Expansion Of The Robert B. Fizgerald District\n",
      "Carlile, J. & R.\n",
      "Carmeci, Christopher & Maureen\n",
      "Carol Bullock & Estate of Clarence Bullock\n",
      "Carpenito, Lynda Juall\n",
      "Carpenter Expansion #3 Of The James L. Carpenter Preservation District\n",
      "Case, Joseph (c/o John Case) #2 East Farm\n",
      "Case, Joseph (c/o John) #1 West Farm\n",
      "Casola Sr., Carmine\n",
      "Casper #2\\Casper Nurseries, LLC (Easement #23)\n",
      "Casper (3) Farm, Casper Nurseries, LLC\n",
      "Casper, Mary Ann\n",
      "Casper, Todd & Margret (Lot 9.05)\n",
      "Cassaday, George\n",
      "Castellari Farms\n",
      "Castellari, Edward G.\n",
      "Catalano, Joanne J.\n",
      "Catalano, Samuel, Estate of\n",
      "Cataldi Expansion Of The Severson Neck District\n",
      "Catalfamo\n",
      "Catherine Licciardello Trustee\n",
      "Catherine Licciardello Trustee\n",
      "Caul, Adam & Lisa\n",
      "Cave Plantation District\n",
      "Cedar Branch District\n",
      "Cedar Neck Farm Ext Expansion Of The C. Rodney Sharp District\n",
      "Cedar Rose Winery\n",
      "Centurian Management Corp. & Syroy Co. Inc. (TDR)\n",
      "Cerbo, Nicholas (Tricer Mgt)\n",
      "Cercie, LLC\n",
      "Cericola, Robert #1\n",
      "Cericola, Robert #2\n",
      "Cervini, Daniel\n",
      "Chandler And Chandler Expansion Of The Chandler District\n",
      "Charles and Jeanne Mahoney\n",
      "Charles Staats Farm Expansion Of The Tybout Tract District\n",
      "Charney Expansion Of The Woikoski Farms District\n",
      "Charters Farm\n",
      "Chaudhry Farm Corp Expansion Of The Mitchell- Quillen District\n",
      "Chelsea-Sydney Expansion Of The J.E.M. Acres District\n",
      "Chesterfield Township (TDR)\n",
      "Chesterfield Township Historical Society\n",
      "Chirip Farm\n",
      "chiuccarello\n",
      "Chiulli, Louis J. & Donna\n",
      "Chwat\n",
      "Cianfrocca Farm\n",
      "Cimino Farm\n",
      "Cimprich Farms Dutch Row\n",
      "Cimprich Home Farm (BLK 11,Lts 31,30,& 28)\n",
      "Clark farm\n",
      "Clark Farm Expansion Of The Mrs. Grace Shorts Caulk District\n",
      "Clark Seed Expansion Of The Bobola-Voshell'S Cove District\n",
      "Clayton Block Company, LLC\n",
      "Clemick\n",
      "Clen\n",
      "Clendining\n",
      "Clendining 2\n",
      "Clendining, Jean V. Estate of\n",
      "Clifford Pultz\n",
      "Clifton #1 District\n",
      "Clifton #2 District\n",
      "Clifton #2 District\n",
      "Clifton Farms Expansion Of The Isaacs #1 Fells-Bennett District\n",
      "Clovervale Dairy\n",
      "Clyde Betts & Son #1 Expansion Of The Smith District\n",
      "Clyde Betts & Son #2 Expansion Of The Smith District\n",
      "Clyde Betts & Son #3 Expansion Of The Smith District\n",
      "CMy / Bohm, D&N\n",
      "CMy / Germanio\n",
      "Co. of Burlington (Shinn/Branin)\n",
      "Cocking, William & Helen Dean\n",
      "Cohawkin Rd LLC\n",
      "Coia, David & Colleen\n",
      "Coleman\n",
      "Coleman Farm   (I)\n",
      "Coleman Farm   (I)\n",
      "Coleman Farm (II) (Easement #23)\n",
      "Coleman, J.\n",
      "Coleman, J.\n",
      "Coleman, William & Timothy #2\n",
      "Coleman, William & Timothy #3\n",
      "Coleman/Kelley\n",
      "Coleman/Kelley\n",
      "Coles, Elmer & Ellen\n",
      "Coles, W & B\n",
      "Coll (1)\n",
      "Collins, E. et al\n",
      "Combs Farm\n"
     ]
    }
   ],
   "source": [
    "get_perc_forest_natural(wcpa_json)"
   ]
  },
  {
   "cell_type": "code",
   "execution_count": 20,
   "id": "4d1a46ec-7b02-4158-bbad-92e0ffe94cc4",
   "metadata": {},
   "outputs": [
    {
     "data": {
      "text/html": [
       "<div>\n",
       "<style scoped>\n",
       "    .dataframe tbody tr th:only-of-type {\n",
       "        vertical-align: middle;\n",
       "    }\n",
       "\n",
       "    .dataframe tbody tr th {\n",
       "        vertical-align: top;\n",
       "    }\n",
       "\n",
       "    .dataframe thead th {\n",
       "        text-align: right;\n",
       "    }\n",
       "</style>\n",
       "<table border=\"1\" class=\"dataframe\">\n",
       "  <thead>\n",
       "    <tr style=\"text-align: right;\">\n",
       "      <th></th>\n",
       "      <th>sitename</th>\n",
       "      <th>practice_type</th>\n",
       "      <th>mmw_area_m2</th>\n",
       "      <th>perc_forest</th>\n",
       "      <th>perc_natural</th>\n",
       "    </tr>\n",
       "  </thead>\n",
       "  <tbody>\n",
       "    <tr>\n",
       "      <th>0</th>\n",
       "      <td>A &amp; A Likanchuk Enterprises</td>\n",
       "      <td>Agricultural Easement</td>\n",
       "      <td>188438.510607</td>\n",
       "      <td>29.047619</td>\n",
       "      <td>29.047619</td>\n",
       "    </tr>\n",
       "    <tr>\n",
       "      <th>1</th>\n",
       "      <td>A Massey And Mary G Moor Expansion Of The Mrs ...</td>\n",
       "      <td>Agricultural Easement</td>\n",
       "      <td>200108.761614</td>\n",
       "      <td>0.000000</td>\n",
       "      <td>8.520179</td>\n",
       "    </tr>\n",
       "    <tr>\n",
       "      <th>2</th>\n",
       "      <td>A. Robert &amp; Elizabeth Masten Forestland Preser...</td>\n",
       "      <td>Agricultural Easement</td>\n",
       "      <td>62817.072814</td>\n",
       "      <td>11.428571</td>\n",
       "      <td>97.142857</td>\n",
       "    </tr>\n",
       "    <tr>\n",
       "      <th>3</th>\n",
       "      <td>A. Robert Masten District</td>\n",
       "      <td>Agricultural Easement</td>\n",
       "      <td>680216.036057</td>\n",
       "      <td>5.013193</td>\n",
       "      <td>42.875989</td>\n",
       "    </tr>\n",
       "  </tbody>\n",
       "</table>\n",
       "</div>"
      ],
      "text/plain": [
       "                                            sitename          practice_type  \\\n",
       "0                        A & A Likanchuk Enterprises  Agricultural Easement   \n",
       "1  A Massey And Mary G Moor Expansion Of The Mrs ...  Agricultural Easement   \n",
       "2  A. Robert & Elizabeth Masten Forestland Preser...  Agricultural Easement   \n",
       "3                          A. Robert Masten District  Agricultural Easement   \n",
       "\n",
       "     mmw_area_m2  perc_forest  perc_natural  \n",
       "0  188438.510607    29.047619     29.047619  \n",
       "1  200108.761614     0.000000      8.520179  \n",
       "2   62817.072814    11.428571     97.142857  \n",
       "3  680216.036057     5.013193     42.875989  "
      ]
     },
     "execution_count": 20,
     "metadata": {},
     "output_type": "execute_result"
    }
   ],
   "source": [
    "wcpa_lu"
   ]
  },
  {
   "cell_type": "code",
   "execution_count": null,
   "id": "f3758fac-8e19-49a6-9802-bb01759a8c9d",
   "metadata": {},
   "outputs": [],
   "source": [
    "fig, ax = plt.subplots()\n",
    "wcpa_gdf.geometry.boundary.plot(color=None,edgecolor='k',ax=ax)\n",
    "plt.show()"
   ]
  },
  {
   "cell_type": "code",
   "execution_count": null,
   "id": "88b64660-a843-47da-9b54-ff95b21f70fe",
   "metadata": {},
   "outputs": [],
   "source": [
    "fig, ax = plt.subplots()\n",
    "fielddoc_gdf.geometry.boundary.plot(color=None,edgecolor='k',ax=ax)\n",
    "plt.show()"
   ]
  },
  {
   "cell_type": "code",
   "execution_count": null,
   "id": "fbeba02c-5b1c-4b1e-a5d1-c4e6d04c9fec",
   "metadata": {},
   "outputs": [],
   "source": [
    "for item in wcpa_json['features']:\n",
    "    print(item['geometry'])"
   ]
  },
  {
   "cell_type": "code",
   "execution_count": null,
   "id": "0ae842f9-f927-4da3-ab48-3d4c1ddbd7d6",
   "metadata": {},
   "outputs": [],
   "source": [
    "wcpa_run_dict = {}\n",
    "\n",
    "#fielddoc_run_dict[test['practice_name']] = {}\n",
    "for item in wcpa_json['features']:\n",
    "    \n",
    "\n",
    "    print(f'Starting...')\n",
    "    # Set up request\n",
    "    DATA = {'area_of_interest': item['geometry']}\n",
    "    HEADERS = {'Authorization': f'Token {MMW_API_TOKEN}'}\n",
    "    res_base = requests.post(f'{MMW_API_URL}/analyze/land/2019/',data=DATA, headers=HEADERS)\n",
    "\n",
    "    print('  waiting for id ... ')\n",
    "    time.sleep(10)\n",
    "    print(res_base.json())\n",
    "    #PREPARE_JOB_UUID = res_base.json()['job_uuid']\n",
    "    #res_base = requests.get(f'{MMW_API_URL}/jobs/{PREPARE_JOB_UUID}/', headers=HEADERS)\n",
    "    #time.sleep(10)\n",
    "    \n",
    "    print('  sending run...')\n",
    "    "
   ]
  }
 ],
 "metadata": {
  "kernelspec": {
   "display_name": "Python 3 (ipykernel)",
   "language": "python",
   "name": "python3"
  },
  "language_info": {
   "codemirror_mode": {
    "name": "ipython",
    "version": 3
   },
   "file_extension": ".py",
   "mimetype": "text/x-python",
   "name": "python",
   "nbconvert_exporter": "python",
   "pygments_lexer": "ipython3",
   "version": "3.8.13"
  }
 },
 "nbformat": 4,
 "nbformat_minor": 5
}
