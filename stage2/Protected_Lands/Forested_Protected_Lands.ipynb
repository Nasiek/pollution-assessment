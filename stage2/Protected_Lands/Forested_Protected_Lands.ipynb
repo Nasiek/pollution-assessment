{
 "cells": [
  {
   "cell_type": "markdown",
   "id": "338205ed-3262-4421-9b52-d7c9c8159235",
   "metadata": {},
   "source": [
    "Forested Protected Lands\n",
    "===\n",
    "\n",
    "This notebook overlays the DRWI protected lands and WeConservePA protected lands with the 2019 NLCD land use data using the ModelMyWatershed api. \n",
    "\n",
    "The goal of this notebook is to identify whether protected lands overlap with forested areas."
   ]
  },
  {
   "cell_type": "markdown",
   "id": "17be690c-4eea-41cb-880e-13e84f481923",
   "metadata": {},
   "source": [
    "# Setup"
   ]
  },
  {
   "cell_type": "markdown",
   "id": "71717a89-7bae-4031-a80d-608ff9348746",
   "metadata": {},
   "source": [
    "## Imports"
   ]
  },
  {
   "cell_type": "code",
   "execution_count": 1,
   "id": "e09ff36c-c364-42cd-a140-ff2da2923545",
   "metadata": {},
   "outputs": [],
   "source": [
    "# Import packages\n",
    "from pathlib import Path\n",
    "import math\n",
    "import numpy as np\n",
    "import pandas as pd\n",
    "import geopandas as gpd\n",
    "\n",
    "# Plotting packages\n",
    "import matplotlib.pyplot as plt\n",
    "from matplotlib.colors import ListedColormap\n",
    "from pyproj import CRS\n",
    "from shapely.validation import make_valid\n",
    "import colorcet as cc\n",
    "from colorcet.plotting import swatch, swatches, sine_combs\n",
    "import contextily as ctx"
   ]
  },
  {
   "cell_type": "markdown",
   "id": "5bb1f39e-94b4-4d25-9562-71167fdeb401",
   "metadata": {},
   "source": [
    "## File paths"
   ]
  },
  {
   "cell_type": "code",
   "execution_count": 2,
   "id": "613ba042-1ab1-4651-af53-bd0ac27cbcaf",
   "metadata": {},
   "outputs": [
    {
     "data": {
      "text/plain": [
       "WindowsPath('C:/Users/clulay/OneDrive - LimnoTech/Documents/GitHub/pollution-assessment/stage2/Protected_Lands')"
      ]
     },
     "execution_count": 2,
     "metadata": {},
     "output_type": "execute_result"
    }
   ],
   "source": [
    "# Find your current working directory, which should be folder for this notebook.\n",
    "Path.cwd()"
   ]
  },
  {
   "cell_type": "code",
   "execution_count": 3,
   "id": "7dd48b4f-bb8b-4c4a-b3bb-8c58e5c11089",
   "metadata": {},
   "outputs": [
    {
     "data": {
      "text/plain": [
       "WindowsPath('C:/Users/clulay/OneDrive - LimnoTech/Documents/GitHub/pollution-assessment')"
      ]
     },
     "execution_count": 3,
     "metadata": {},
     "output_type": "execute_result"
    }
   ],
   "source": [
    "# Set your project directory to your local folder for your clone of this repository\n",
    "project_path = Path.cwd().parent.parent\n",
    "project_path"
   ]
  },
  {
   "cell_type": "code",
   "execution_count": 4,
   "id": "fb9161b0-f802-4ed6-b991-f099d193d5c2",
   "metadata": {},
   "outputs": [
    {
     "data": {
      "text/plain": [
       "True"
      ]
     },
     "execution_count": 4,
     "metadata": {},
     "output_type": "execute_result"
    }
   ],
   "source": [
    "# Path to WeConservePA protected lands shapefile\n",
    "wcpa_path = project_path / Path('stage2/Protected_Lands/WeConservePA_pl_20220810.shp')\n",
    "wcpa_path.exists()"
   ]
  },
  {
   "cell_type": "markdown",
   "id": "a077571d-1caf-4486-a038-3b674a3749c1",
   "metadata": {},
   "source": [
    "## Private file paths\n",
    "- Download from https://drive.google.com/drive/folders/1HKlnA3lC2xvKBQ1bg1J08gsEB3N9rp2V\n",
    "- Save in `stage2/private` folder"
   ]
  },
  {
   "cell_type": "code",
   "execution_count": 5,
   "id": "331707df-7048-4584-9b51-a68b133a5de8",
   "metadata": {},
   "outputs": [
    {
     "data": {
      "text/plain": [
       "True"
      ]
     },
     "execution_count": 5,
     "metadata": {},
     "output_type": "execute_result"
    }
   ],
   "source": [
    "# Path to FieldDoc protected lands export file\n",
    "fielddoc_path = project_path / Path('stage2/private/protection_bmps_from_FieldDoc.parquet')\n",
    "fielddoc_path.exists()"
   ]
  },
  {
   "cell_type": "markdown",
   "id": "e0684628-1aed-4f2c-8ac0-d4d9dcf7e110",
   "metadata": {},
   "source": [
    "# Load data"
   ]
  },
  {
   "cell_type": "markdown",
   "id": "ccd1ed1d-825c-4ec2-8474-e03905d90d42",
   "metadata": {},
   "source": [
    "## Protected Lands from WeConservePA"
   ]
  },
  {
   "cell_type": "code",
   "execution_count": 33,
   "id": "92ad47fe-835b-4a0a-ac45-275ce7066e29",
   "metadata": {},
   "outputs": [],
   "source": [
    "# Import weconservePA protected lands\n",
    "wcpa_gdf = gpd.read_file(wcpa_path)"
   ]
  },
  {
   "cell_type": "code",
   "execution_count": 34,
   "id": "3bbc10a8-6655-4028-950a-4acaf44d99e9",
   "metadata": {},
   "outputs": [],
   "source": [
    "# Add data source tag\n",
    "wcpa_gdf['data_source'] = 'weconservePA_2022'"
   ]
  },
  {
   "cell_type": "markdown",
   "id": "a5bc20eb-803d-40ec-9759-bb78472acf5d",
   "metadata": {},
   "source": [
    "### Convert Object to Category dtype"
   ]
  },
  {
   "cell_type": "code",
   "execution_count": 8,
   "id": "d8d4acf3-cf30-4fbb-9fdd-84791e47699c",
   "metadata": {},
   "outputs": [],
   "source": [
    "wcpa_dtypes = {\n",
    "    'Category': 'category',\n",
    "    'sitename': 'category',\n",
    "    'esmthldr': 'category',\n",
    "    'eholdtype': 'category',\n",
    "    'own_name': 'category',\n",
    "    'own_type': 'category',\n",
    "    'purpose': 'category',\n",
    "    'pubaccess': 'category',\n",
    "    'Landscape': 'category',\n",
    "    'Cluster': 'category',\n",
    "    'LTSA': 'category',\n",
    "    'WTRSA': 'category',\n",
    "    'State_abb': 'category',\n",
    "    'State': 'category',\n",
    "    'County': 'category',\n",
    "    'Municipali': 'category',\n",
    "    'Muni_Type': 'category',\n",
    "    'Muni': 'category',\n",
    "    'MMW': 'category',\n",
    "    'RECLASS2': 'category',\n",
    "    'data_source': 'category'\n",
    "}"
   ]
  },
  {
   "cell_type": "code",
   "execution_count": 9,
   "id": "b9406106-df76-45aa-86c3-2221794c11e6",
   "metadata": {},
   "outputs": [],
   "source": [
    "# https://pandas.pydata.org/docs/reference/api/pandas.DataFrame.astype.html\n",
    "wcpa_gdf = wcpa_gdf.astype(wcpa_dtypes)"
   ]
  },
  {
   "cell_type": "code",
   "execution_count": 10,
   "id": "9f1aa5b3-970e-4c1b-a900-b6f434f43c44",
   "metadata": {},
   "outputs": [
    {
     "data": {
      "text/plain": [
       "['Agricultural Easement', 'Conservation Easement', 'Park or Recreation Area - Federal', 'Natural Resource Area - Federal', 'Natural Resource Area - Local', 'Park or Recreation Area - Local', 'Natural Resource Area - Private', 'Park or Recreation Area - Private', 'Park or Recreation Area - State', 'Natural Resource Area - State']\n",
       "Categories (10, object): ['Agricultural Easement', 'Conservation Easement', 'Natural Resource Area - Federal', 'Natural Resource Area - Local', ..., 'Park or Recreation Area - Federal', 'Park or Recreation Area - Local', 'Park or Recreation Area - Private', 'Park or Recreation Area - State']"
      ]
     },
     "execution_count": 10,
     "metadata": {},
     "output_type": "execute_result"
    }
   ],
   "source": [
    "wcpa_gdf.RECLASS2.unique()"
   ]
  },
  {
   "cell_type": "code",
   "execution_count": 11,
   "id": "28358365-b2af-4951-a75d-bf853ce42ed0",
   "metadata": {},
   "outputs": [],
   "source": [
    "# Rename area column\n",
    "wcpa_gdf.rename(columns={'gis_acres': 'Area_Ac'}, inplace=True)"
   ]
  },
  {
   "cell_type": "code",
   "execution_count": 12,
   "id": "a215708a-f871-4c4d-afbe-6d089d4c165e",
   "metadata": {},
   "outputs": [],
   "source": [
    "# Convert WeConservePA protected lands shapefile to geojson for MMW api\n",
    "#wcpa_gdf.to_file('wcpa.geojson', driver='GeoJSON')"
   ]
  },
  {
   "cell_type": "markdown",
   "id": "ed5fa931-7d1c-49f5-a291-aa1ad811fe00",
   "metadata": {},
   "source": [
    "## Protected Lands from FieldDoc"
   ]
  },
  {
   "cell_type": "code",
   "execution_count": 35,
   "id": "b3d8bccd-fee5-44a5-a3e7-d2cced5d06ab",
   "metadata": {},
   "outputs": [
    {
     "data": {
      "text/html": [
       "<div>\n",
       "<style scoped>\n",
       "    .dataframe tbody tr th:only-of-type {\n",
       "        vertical-align: middle;\n",
       "    }\n",
       "\n",
       "    .dataframe tbody tr th {\n",
       "        vertical-align: top;\n",
       "    }\n",
       "\n",
       "    .dataframe thead th {\n",
       "        text-align: right;\n",
       "    }\n",
       "</style>\n",
       "<table border=\"1\" class=\"dataframe\">\n",
       "  <thead>\n",
       "    <tr style=\"text-align: right;\">\n",
       "      <th></th>\n",
       "      <th>practice_name</th>\n",
       "      <th>practice_id</th>\n",
       "      <th>program_name</th>\n",
       "      <th>program_id</th>\n",
       "      <th>organization</th>\n",
       "      <th>description</th>\n",
       "      <th>practice_type</th>\n",
       "      <th>created_at</th>\n",
       "      <th>modified_at</th>\n",
       "      <th>tot_pwr</th>\n",
       "      <th>head_pwr</th>\n",
       "      <th>nat_land</th>\n",
       "      <th>ara_pwr</th>\n",
       "      <th>wet_pwr</th>\n",
       "      <th>dev_land</th>\n",
       "      <th>ag_land</th>\n",
       "      <th>str_bank</th>\n",
       "      <th>geometry</th>\n",
       "      <th>data_source</th>\n",
       "    </tr>\n",
       "  </thead>\n",
       "  <tbody>\n",
       "    <tr>\n",
       "      <th>0</th>\n",
       "      <td>Bartolacci</td>\n",
       "      <td>5301</td>\n",
       "      <td>Delaware River Watershed Protection Fund - For...</td>\n",
       "      <td>5</td>\n",
       "      <td>Natural Lands Trust</td>\n",
       "      <td>Land Protection \\n\\nShapefile needs to be load...</td>\n",
       "      <td>Conservation easement</td>\n",
       "      <td>2019-01-14T20:29:48.955938Z</td>\n",
       "      <td>2020-12-21T18:28:07.158142Z</td>\n",
       "      <td>26.0</td>\n",
       "      <td>0.0</td>\n",
       "      <td>39.31</td>\n",
       "      <td>25.94</td>\n",
       "      <td>8.59</td>\n",
       "      <td>0.02</td>\n",
       "      <td>0.0</td>\n",
       "      <td>0.43</td>\n",
       "      <td>POLYGON ((-75.22603 41.12858, -75.22736 41.128...</td>\n",
       "      <td>fielddoc_2022-08-11</td>\n",
       "    </tr>\n",
       "  </tbody>\n",
       "</table>\n",
       "</div>"
      ],
      "text/plain": [
       "  practice_name  practice_id  \\\n",
       "0    Bartolacci         5301   \n",
       "\n",
       "                                        program_name  program_id  \\\n",
       "0  Delaware River Watershed Protection Fund - For...           5   \n",
       "\n",
       "          organization                                        description  \\\n",
       "0  Natural Lands Trust  Land Protection \\n\\nShapefile needs to be load...   \n",
       "\n",
       "           practice_type                   created_at  \\\n",
       "0  Conservation easement  2019-01-14T20:29:48.955938Z   \n",
       "\n",
       "                   modified_at  tot_pwr  head_pwr  nat_land  ara_pwr  wet_pwr  \\\n",
       "0  2020-12-21T18:28:07.158142Z     26.0       0.0     39.31    25.94     8.59   \n",
       "\n",
       "   dev_land  ag_land  str_bank  \\\n",
       "0      0.02      0.0      0.43   \n",
       "\n",
       "                                            geometry          data_source  \n",
       "0  POLYGON ((-75.22603 41.12858, -75.22736 41.128...  fielddoc_2022-08-11  "
      ]
     },
     "execution_count": 35,
     "metadata": {},
     "output_type": "execute_result"
    }
   ],
   "source": [
    "# Import FieldDoc protected lands \n",
    "fielddoc_gdf = gpd.read_parquet(fielddoc_path)\n",
    "\n",
    "# Add a column to fielddoc_gdf with data source\n",
    "fielddoc_gdf['data_source'] = 'fielddoc_2022-08-11'\n",
    "fielddoc_gdf.head(n=1)"
   ]
  },
  {
   "cell_type": "markdown",
   "id": "9fde8993-22fc-4433-98cf-59c0075ff478",
   "metadata": {},
   "source": [
    "### Convert Object to Category dtype"
   ]
  },
  {
   "cell_type": "code",
   "execution_count": 14,
   "id": "1debb651-04a3-451c-bc30-43b62e61bbb6",
   "metadata": {},
   "outputs": [],
   "source": [
    "fielddoc_dtypes = {\n",
    "    'practice_name': 'category',\n",
    "    'program_name': 'category',\n",
    "    'organization': 'category',\n",
    "    'practice_type': 'category',\n",
    "    'data_source': 'category'}"
   ]
  },
  {
   "cell_type": "code",
   "execution_count": 15,
   "id": "95c419f6-4811-4a60-ba61-c4c6cffa2323",
   "metadata": {},
   "outputs": [],
   "source": [
    "fielddoc_gdf = fielddoc_gdf.astype(fielddoc_dtypes)"
   ]
  },
  {
   "cell_type": "markdown",
   "id": "3f848fe8-b5f4-4df2-ba34-14004f85676a",
   "metadata": {
    "tags": []
   },
   "source": [
    "## DRWI Geographies"
   ]
  },
  {
   "cell_type": "code",
   "execution_count": 16,
   "id": "e90b97e7-8dda-484c-883b-923c83dc0f7a",
   "metadata": {},
   "outputs": [],
   "source": [
    "# Import cluster and focus area geometries\n",
    "cluster_gdf = gpd.read_parquet(project_path / Path('stage1/data/cluster_df.parquet'))  \n",
    "focusarea_gdf = gpd.read_parquet(project_path / Path('stage1/data/fa_phase2_df.parquet'))\n",
    "\n",
    "focusarea_gdf.cluster = focusarea_gdf.cluster.replace('Kirkwood Cohansey Aquifer', 'Kirkwood - Cohansey Aquifer') # update name for consistency with other files \n",
    "focusarea_gdf.set_index('name', inplace=True)"
   ]
  },
  {
   "cell_type": "markdown",
   "id": "f811d7b1-3360-4e3d-a407-9c8120159cd1",
   "metadata": {
    "tags": []
   },
   "source": [
    "# Convert from gdf to geojson"
   ]
  },
  {
   "cell_type": "code",
   "execution_count": 48,
   "id": "fe496eed-ee06-446b-83e6-f2481864c397",
   "metadata": {},
   "outputs": [
    {
     "name": "stderr",
     "output_type": "stream",
     "text": [
      "C:\\Users\\clulay\\.conda\\envs\\WikiSRAT\\lib\\site-packages\\geopandas\\io\\file.py:362: FutureWarning: pandas.Int64Index is deprecated and will be removed from pandas in a future version. Use pandas.Index with the appropriate dtype instead.\n",
      "  pd.Int64Index,\n"
     ]
    }
   ],
   "source": [
    "sub_gdf = wcpa_gdf[wcpa_gdf['OBJECTID']==1]\n",
    "sub_gdf.to_file(\"wcpa.geojson\", driver=\"GeoJSON\")\n",
    "wcpa_json = json.load(open('wcpa.geojson'))"
   ]
  },
  {
   "cell_type": "code",
   "execution_count": 38,
   "id": "f905ccc8-2183-450d-9e33-6d76417fa8df",
   "metadata": {},
   "outputs": [
    {
     "name": "stderr",
     "output_type": "stream",
     "text": [
      "C:\\Users\\clulay\\.conda\\envs\\WikiSRAT\\lib\\site-packages\\geopandas\\io\\file.py:362: FutureWarning: pandas.Int64Index is deprecated and will be removed from pandas in a future version. Use pandas.Index with the appropriate dtype instead.\n",
      "  pd.Int64Index,\n"
     ]
    }
   ],
   "source": [
    "fielddoc_gdf.to_file(\"fielddoc.geojson\", driver=\"GeoJSON\")\n",
    "fd_json = json.load(open('fielddoc.geojson'))"
   ]
  },
  {
   "cell_type": "markdown",
   "id": "5d793075-280c-40cf-b7a4-b941eb2dddcd",
   "metadata": {},
   "source": [
    "# MMW"
   ]
  },
  {
   "cell_type": "code",
   "execution_count": 24,
   "id": "9c3dd714-5ae3-4840-bbc9-f2a343561aac",
   "metadata": {},
   "outputs": [],
   "source": [
    "import json\n",
    "\n",
    "import pprint\n",
    "import requests\n",
    "import pandas as pd\n",
    "import panel as pn\n",
    "from bokeh.resources import INLINE\n",
    "import holoviews as hv\n",
    "import time\n",
    "import geopandas as gpd\n",
    "import matplotlib.pyplot as plt"
   ]
  },
  {
   "cell_type": "code",
   "execution_count": 25,
   "id": "df1e8f14-28b8-4cbb-bea8-b9bffefcf348",
   "metadata": {},
   "outputs": [],
   "source": [
    "MMW_API_URL = 'https://staging.modelmywatershed.org/api'\n",
    "MMW_API_TOKEN = '82fb0268c9af8aeaac22c01910d344c3389586a2'"
   ]
  },
  {
   "cell_type": "code",
   "execution_count": 64,
   "id": "f3758fac-8e19-49a6-9802-bb01759a8c9d",
   "metadata": {},
   "outputs": [
    {
     "data": {
      "image/png": "[encoded data removed]",
      "text/plain": [
       "<Figure size 432x288 with 1 Axes>"
      ]
     },
     "metadata": {
      "needs_background": "light"
     },
     "output_type": "display_data"
    }
   ],
   "source": [
    "fig, ax = plt.subplots()\n",
    "wcpa_gdf.geometry.boundary.plot(color=None,edgecolor='k',ax=ax)\n",
    "plt.show()"
   ]
  },
  {
   "cell_type": "code",
   "execution_count": 34,
   "id": "88b64660-a843-47da-9b54-ff95b21f70fe",
   "metadata": {},
   "outputs": [
    {
     "data": {
      "image/png": "[encoded data removed]",
      "text/plain": [
       "<Figure size 432x288 with 1 Axes>"
      ]
     },
     "metadata": {
      "needs_background": "light"
     },
     "output_type": "display_data"
    }
   ],
   "source": [
    "fig, ax = plt.subplots()\n",
    "fielddoc_gdf.geometry.boundary.plot(color=None,edgecolor='k',ax=ax)\n",
    "plt.show()"
   ]
  },
  {
   "cell_type": "code",
   "execution_count": 70,
   "id": "fbeba02c-5b1c-4b1e-a5d1-c4e6d04c9fec",
   "metadata": {},
   "outputs": [
    {
     "name": "stdout",
     "output_type": "stream",
     "text": [
      "{'type': 'Polygon', 'coordinates': [[[1751532.3412000015, 407777.85639999993], [1751099.6440999992, 407144.4569000006], [1751068.0034000017, 407481.20749999955], [1750837.419399999, 407360.2606000006], [1751254.0452999994, 407962.57689999975], [1751532.3412000015, 407777.85639999993]], [[1751362.874499999, 407809.9849999994], [1751248.4646000005, 407647.1867999993], [1751297.7331999987, 407611.16929999925], [1751412.143199999, 407773.9673999995], [1751362.874499999, 407809.9849999994]], [[1751186.756099999, 407625.92620000057], [1751125.1702000014, 407670.9480000008], [1751033.6424999982, 407540.7093000002], [1751095.2283000015, 407495.6875], [1751186.756099999, 407625.92620000057]]]}\n"
     ]
    }
   ],
   "source": [
    "for item in wcpa_json['features']:\n",
    "    print(item['geometry'])"
   ]
  },
  {
   "cell_type": "code",
   "execution_count": 65,
   "id": "0ae842f9-f927-4da3-ab48-3d4c1ddbd7d6",
   "metadata": {},
   "outputs": [
    {
     "name": "stdout",
     "output_type": "stream",
     "text": [
      "Starting...\n",
      "  waiting for id ... \n",
      "['Area of interest must be valid JSON']\n",
      "  sending run...\n"
     ]
    }
   ],
   "source": [
    "wcpa_run_dict = {}\n",
    "\n",
    "#fielddoc_run_dict[test['practice_name']] = {}\n",
    "for item in wcpa_json['features']:\n",
    "    \n",
    "\n",
    "    print(f'Starting...')\n",
    "    # Set up request\n",
    "    DATA = {'area_of_interest': item['geometry']}\n",
    "    HEADERS = {'Authorization': f'Token {MMW_API_TOKEN}'}\n",
    "    res_base = requests.post(f'{MMW_API_URL}/analyze/land/2019/',data=DATA, headers=HEADERS)\n",
    "\n",
    "    print('  waiting for id ... ')\n",
    "    time.sleep(10)\n",
    "    print(res_base.json())\n",
    "    #PREPARE_JOB_UUID = res_base.json()['job_uuid']\n",
    "    #res_base = requests.get(f'{MMW_API_URL}/jobs/{PREPARE_JOB_UUID}/', headers=HEADERS)\n",
    "    #time.sleep(10)\n",
    "    \n",
    "    print('  sending run...')\n",
    "    "
   ]
  }
 ],
 "metadata": {
  "kernelspec": {
   "display_name": "Python 3 (ipykernel)",
   "language": "python",
   "name": "python3"
  },
  "language_info": {
   "codemirror_mode": {
    "name": "ipython",
    "version": 3
   },
   "file_extension": ".py",
   "mimetype": "text/x-python",
   "name": "python",
   "nbconvert_exporter": "python",
   "pygments_lexer": "ipython3",
   "version": "3.9.12"
  }
 },
 "nbformat": 4,
 "nbformat_minor": 5
}
